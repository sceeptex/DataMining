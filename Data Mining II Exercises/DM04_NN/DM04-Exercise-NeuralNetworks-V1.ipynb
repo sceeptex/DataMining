{
 "cells": [
  {
   "cell_type": "markdown",
   "metadata": {},
   "source": [
    "# Exercise 4: Neural Networks\n",
    "\n",
    "This exercise is about Neural Networks and Deep Learning. We will be using [Keras](https://keras.io/) for Deep Learning. During the exercise sheet you will get a guide on how to install Keras on your machine."
   ]
  },
  {
   "cell_type": "markdown",
   "metadata": {},
   "source": [
    "## Task 1: Hand-written Digit Recognition\n",
    "\n",
    "In this task, we analyse the famous MNIST data set for hand-written digit recognition. The data set is provided in ILIAS. As the labels are only available for the training set, we will split that into a training and testing data set to build and evaluate our classifiers.\n",
    "\n",
    "- Import the MNIST data set and generate a 70/30 train-test-split.\n",
    "- Apply some basic classification algorithms and compare their performance\n",
    "- Use the `MLPClassifier` and experiment with its parameters to improve the performance\n",
    "- Use the Keras interface of tensorflow to create deep neural networks for solving the task."
   ]
  },
  {
   "cell_type": "code",
   "execution_count": 1,
   "metadata": {
    "scrolled": true
   },
   "outputs": [],
   "source": [
    "import numpy as np\n",
    "import pandas as pd\n",
    "import matplotlib.pyplot as plt\n",
    "from sklearn.model_selection import train_test_split\n",
    "\n",
    "# Import the data set. Use a sample of 5,000 in order to reduce the computation time.\n",
    "\n",
    "# --- TODO ---"
   ]
  },
  {
   "cell_type": "code",
   "execution_count": 2,
   "metadata": {
    "scrolled": true
   },
   "outputs": [],
   "source": [
    "from sklearn.metrics import accuracy_score\n",
    "from sklearn.neighbors import KNeighborsClassifier\n",
    "from sklearn.linear_model import LogisticRegression\n",
    "from sklearn.naive_bayes import GaussianNB\n",
    "from sklearn.tree import DecisionTreeClassifier\n",
    "from sklearn.ensemble import RandomForestClassifier\n",
    "\n",
    "# Apply and evaluate basic classification algorithms\n",
    "\n",
    "# --- TODO ---"
   ]
  },
  {
   "cell_type": "code",
   "execution_count": 3,
   "metadata": {},
   "outputs": [],
   "source": [
    "from sklearn.neural_network import MLPClassifier\n",
    "\n",
    "# Apply and evaluate the MLPClassifier. Experiment with its parameters for better performance.\n",
    "\n",
    "# --- TODO ---"
   ]
  },
  {
   "cell_type": "code",
   "execution_count": 4,
   "metadata": {},
   "outputs": [],
   "source": [
    "# Use the Keras interface of tensorflow to solve the digit recognition task. What performance can you achieve?\n",
    "# How to work with Keras in Jupyter Notebook: https://medium.com/@margaretmz/anaconda-jupyter-notebook-tensorflow-and-keras-b91f381405f8\n",
    "# HINT: You have to start your Jupyter Notebook using the created environment in order to access tensorflow\n",
    "# Using the the Keras-API of tensorflow: https://www.tensorflow.org/guide/keras\n",
    "\n",
    "# --- TODO ---"
   ]
  }
 ],
 "metadata": {
  "kernelspec": {
   "display_name": "Python 3",
   "language": "python",
   "name": "python3"
  },
  "language_info": {
   "codemirror_mode": {
    "name": "ipython",
    "version": 3
   },
   "file_extension": ".py",
   "mimetype": "text/x-python",
   "name": "python",
   "nbconvert_exporter": "python",
   "pygments_lexer": "ipython3",
   "version": "3.8.3"
  }
 },
 "nbformat": 4,
 "nbformat_minor": 2
}
