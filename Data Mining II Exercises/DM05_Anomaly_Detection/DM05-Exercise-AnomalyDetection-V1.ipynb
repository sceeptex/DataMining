{
 "cells": [
  {
   "cell_type": "markdown",
   "metadata": {},
   "source": [
    "# Exercise 6: Anomaly Detection\n",
    "\n",
    "In this exercise we will focus on anomaly detection. To get familiar with anomaly detection in scikit-learn, refer to the respective [part in the documentation](https://scikit-learn.org/stable/modules/outlier_detection.html)."
   ]
  },
  {
   "cell_type": "markdown",
   "metadata": {},
   "source": [
    "## Task 1: Get to know the techniques\n",
    "In this task we use an artifical data set with only two features to experiment with anomaly detection techniques. In addition to the \"correct\" data points that form clusters, there are 27 random data points. Use the techniques from scikit-learn to spot the outliers.\n",
    "- Visualise and inspect the data. Can you already see the outliers?\n",
    "- Use the following techniques to spot outliers and visualise the result: LocalOutlierFactor, OneClassSVM, IsolationForest"
   ]
  },
  {
   "cell_type": "code",
   "execution_count": 1,
   "metadata": {},
   "outputs": [],
   "source": [
    "import numpy as np\n",
    "import pandas as pd\n",
    "import matplotlib.pyplot as plt\n",
    "\n",
    "df = pd.read_csv('artificial.txt', '\\t').drop(columns='ID')"
   ]
  },
  {
   "cell_type": "code",
   "execution_count": 2,
   "metadata": {},
   "outputs": [],
   "source": [
    "# Visualise the data with a scatter plot. Can you spot the outliers?\n",
    "\n",
    "# --- TODO ---"
   ]
  },
  {
   "cell_type": "code",
   "execution_count": 3,
   "metadata": {},
   "outputs": [],
   "source": [
    "from sklearn.neighbors import LocalOutlierFactor\n",
    "from sklearn.svm import OneClassSVM\n",
    "from sklearn.ensemble import IsolationForest\n",
    "\n",
    "# Use the anomaly detection methods of scikit-learn to automatically detect the outliers.\n",
    "# You might want to vary the parameters of the techniques for better results. Visualise the results!\n",
    "\n",
    "# --- TODO ---"
   ]
  },
  {
   "cell_type": "markdown",
   "metadata": {},
   "source": [
    "## Task 2: Evaluation of anomaly detection\n",
    "\n",
    "In this task we work with a data set about breast cancer. It contains various features from cancer diagnostics. The majority of the data set is obtained from non-cancer patients (label 'B'), and 20 examples are obtained from patients where a cancer is present (label 'M'). Because of their low frequency, the cancer examples can be treated as outliers and we can use the previously mentioned techniques to detect them.\n",
    "\n",
    "- Apply the techniques learned in the previous task to this data set.\n",
    "- Use a ROC-curve to visualise the performance of every technique (outliers should be treated as the 'true' class)."
   ]
  },
  {
   "cell_type": "code",
   "execution_count": 4,
   "metadata": {},
   "outputs": [],
   "source": [
    "df = pd.read_csv('breast_cancer_outliers.csv', sep=';').drop(columns='id')\n",
    "X, y = df.drop(columns='class'), df['class']"
   ]
  },
  {
   "cell_type": "code",
   "execution_count": 5,
   "metadata": {},
   "outputs": [],
   "source": [
    "# Apply the anomaly detection techniques and draw a ROC-curve of their performance.\n",
    "# How to work with ROC-curves in scikit-learn: https://scikit-learn.org/stable/auto_examples/model_selection/plot_roc.html\n",
    "\n",
    "# --- TODO ---"
   ]
  },
  {
   "cell_type": "markdown",
   "metadata": {},
   "source": [
    "## Task 3: Anomaly detection for preprocessing\n",
    "\n",
    "We want to use anomaly detection to ignore outliers during training of a classifier in order to improve its performance. We use an alternative version of the Iris data set where some errors happened during data entry. After learning a simple classifier for the task, we try to improve it by removing outliers (to simplify the task, outliers are marked in the training set).\n",
    "\n",
    "- Train a decision tree classifier on the training set and evaluate its performance on the test set\n",
    "- Try to improve the performance by removing outliers during the _training phase_"
   ]
  },
  {
   "cell_type": "code",
   "execution_count": 7,
   "metadata": {},
   "outputs": [],
   "source": [
    "df_train = pd.read_csv('iris_shuffled_train.csv', sep=';').drop(columns='id')\n",
    "X_train, y_train = df_train.drop(columns=['label', 'is_outlier']), df_train['label']\n",
    "df_test = pd.read_csv('iris_shuffled_test.csv', sep=';').drop(columns='id')\n",
    "X_test, y_test = df_test.drop(columns='label'), df_test['label']"
   ]
  },
  {
   "cell_type": "code",
   "execution_count": 8,
   "metadata": {},
   "outputs": [],
   "source": [
    "from sklearn.tree import DecisionTreeClassifier\n",
    "from sklearn.metrics import precision_score, recall_score, f1_score\n",
    "\n",
    "# Complete this function which trains a decision tree on the training set and evaluates it on the test set\n",
    "\n",
    "def evaluate_decision_tree(X_train: pd.DataFrame, y_train: pd.Series, X_test: pd.DataFrame, y_test: pd.Series):\n",
    "    # --- TODO ---\n",
    "    pass\n",
    "\n",
    "evaluate_decision_tree(X_train, y_train, X_test, y_test)"
   ]
  },
  {
   "cell_type": "code",
   "execution_count": 9,
   "metadata": {},
   "outputs": [],
   "source": [
    "# Now change df_train by removing outliers with the techniques given in the previous tasks. Does this improve the results?\n",
    "\n",
    "# --- TODO ---"
   ]
  },
  {
   "cell_type": "markdown",
   "metadata": {},
   "source": [
    "## Task 4: Learn to recognise what you know!\n",
    "\n",
    "In this final task, we assume that our training data does not have any outliers. We thus want to learn a model that represents this data as good as possible in order to find outliers in the test data set. We apply a one-class SVM to the Shuttle data set.\n",
    "\n",
    "- Load the data from `shuttle_train.csv` and `shuttle_test.csv` respectively\n",
    "- Learn a one-class SVM that represents the training data as good as possible (you can use cross-validation to evaluate your model)\n",
    "- Apply your model to the test data which contains outliers. Are you satisfied with the performance?"
   ]
  },
  {
   "cell_type": "code",
   "execution_count": 10,
   "metadata": {},
   "outputs": [],
   "source": [
    "# Import the data set\n",
    "\n",
    "# --- TODO ---"
   ]
  },
  {
   "cell_type": "code",
   "execution_count": 11,
   "metadata": {},
   "outputs": [],
   "source": [
    "# Learn a one-class SVM model for the training data and evaluate its performance\n",
    "\n",
    "# --- TODO ---"
   ]
  },
  {
   "cell_type": "code",
   "execution_count": 12,
   "metadata": {},
   "outputs": [],
   "source": [
    "# Apply your model to the test data to find the outliers\n",
    "\n",
    "# --- TODO ---"
   ]
  }
 ],
 "metadata": {
  "kernelspec": {
   "display_name": "Python 3",
   "language": "python",
   "name": "python3"
  },
  "language_info": {
   "codemirror_mode": {
    "name": "ipython",
    "version": 3
   },
   "file_extension": ".py",
   "mimetype": "text/x-python",
   "name": "python",
   "nbconvert_exporter": "python",
   "pygments_lexer": "ipython3",
   "version": "3.7.0"
  }
 },
 "nbformat": 4,
 "nbformat_minor": 2
}
