{
 "cells": [
  {
   "cell_type": "markdown",
   "metadata": {},
   "source": [
    "# Exercise 3: Time Series\n",
    "\n",
    "This exercise is about time series analysis. To get an understanding of how to treat time series data in pandas, refer to the respective [part in the documentation](https://pandas.pydata.org/pandas-docs/stable/timeseries.html). Additionally, we will use [Prophet](https://facebook.github.io/prophet/) for trend analysis and prediction.\n",
    "\n",
    "First, you need to install Prophet. Follow the instructions [here](https://facebook.github.io/prophet/docs/installation.html#installation-in-python)."
   ]
  },
  {
   "cell_type": "markdown",
   "metadata": {},
   "source": [
    "## Task 1: Analysing DAX Trends\n",
    "\n",
    "In this task, we analyse a data set consisting of DAX stock numbers starting from 1st of March, 1994 until 28th of February, 2014. In the following subtasks, we will analyse the data set and try to predict an outlook of DAX numbers. For the prediction, we use the feature `Close` as target.\n",
    "\n",
    "- Import the data set `dax_94_14.csv`. Make sure to parse the `Date` attribute correctly and use it as index.\n",
    "- Get familiar with the stock numbers by plotting the `Close` feature. Can you already see a trend?\n",
    "- Build regression models using `Close` as target to visualise the trend of the data. As only feature, use `days_since_start` (i.e. days passed since the first data point). Build models using `Linear Regression`, `Neural Network`, and `SVM`.\n",
    "- Now use Prophet to visualise the trend of the data set. Additionally, make and plot a prediction of the upcoming year."
   ]
  },
  {
   "cell_type": "code",
   "execution_count": 1,
   "metadata": {
    "scrolled": true
   },
   "outputs": [],
   "source": [
    "import numpy as np\n",
    "import pandas as pd\n",
    "import matplotlib.pyplot as plt\n",
    "from fbprophet import Prophet\n",
    "\n",
    "# Import the data set. For the parsing of dates, the 'read_csv'-function has some helpful parameters.\n",
    "\n",
    "# --- TODO ---"
   ]
  },
  {
   "cell_type": "code",
   "execution_count": 2,
   "metadata": {
    "scrolled": true
   },
   "outputs": [],
   "source": [
    "# Inspect the data set by plotting the 'Close' feature. Can you see a trend?\n",
    "\n",
    "# --- TODO ---"
   ]
  },
  {
   "cell_type": "code",
   "execution_count": 3,
   "metadata": {},
   "outputs": [],
   "source": [
    "from sklearn.linear_model import LinearRegression\n",
    "from sklearn.neural_network import MLPRegressor\n",
    "from sklearn.svm import SVR\n",
    "\n",
    "# Build models that reflect the trend in the data. Use 'days_passed' as only feature.\n",
    "# Which model reflects the trend most appropriately?\n",
    "\n",
    "# --- TODO ---"
   ]
  },
  {
   "cell_type": "code",
   "execution_count": 4,
   "metadata": {},
   "outputs": [],
   "source": [
    "# Use Prophet to visualise the trend of the data set. Additionally, make and plot a prediction for the following year.\n",
    "# Prophet Quick-Start-Guide: https://facebook.github.io/prophet/docs/quick_start.html\n",
    "\n",
    "# --- TODO ---"
   ]
  }
 ],
 "metadata": {
  "kernelspec": {
   "display_name": "Python 3",
   "language": "python",
   "name": "python3"
  },
  "language_info": {
   "codemirror_mode": {
    "name": "ipython",
    "version": 3
   },
   "file_extension": ".py",
   "mimetype": "text/x-python",
   "name": "python",
   "nbconvert_exporter": "python",
   "pygments_lexer": "ipython3",
   "version": "3.7.0"
  }
 },
 "nbformat": 4,
 "nbformat_minor": 2
}
