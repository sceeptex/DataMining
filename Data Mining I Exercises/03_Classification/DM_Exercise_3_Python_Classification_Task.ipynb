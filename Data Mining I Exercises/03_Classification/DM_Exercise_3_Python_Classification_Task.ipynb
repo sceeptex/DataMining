{
 "cells": [
  {
   "cell_type": "markdown",
   "metadata": {},
   "source": [
    "Run the cell below if you are using Google Colab to mount your Google Drive in your Colab instance. Adjust the path to the files in your Google Drive as needed if it differs.\n",
    "\n",
    "If you do not use Google Colab, running the cell will simply do nothing, so do not worry about it."
   ]
  },
  {
   "cell_type": "code",
   "execution_count": 166,
   "metadata": {},
   "outputs": [],
   "source": [
    "from sklearn import preprocessing\n",
    "from sklearn.preprocessing import LabelEncoder\n",
    "from sklearn.preprocessing import OneHotEncoder\n",
    "from sklearn.metrics import confusion_matrix"
   ]
  },
  {
   "cell_type": "code",
   "execution_count": 121,
   "metadata": {},
   "outputs": [],
   "source": [
    "try:\n",
    "    from google.colab import drive\n",
    "    drive.mount('/content/drive/')\n",
    "    %cd 'drive/My Drive/Colab Notebooks/03_Classification'\n",
    "except ImportError as e:\n",
    "    pass"
   ]
  },
  {
   "cell_type": "markdown",
   "metadata": {
    "slideshow": {
     "slide_type": "slide"
    }
   },
   "source": [
    "## Exercise 3: Classification\n",
    "\n",
    "### 3.1. Should we play golf?\n",
    "The Golf data set models different aspects of the weather (outlook, temperature, humidity, forecast) that are relevant for deciding whether one should play golf or not."
   ]
  },
  {
   "cell_type": "code",
   "execution_count": 175,
   "metadata": {},
   "outputs": [
    {
     "data": {
      "text/html": [
       "<div>\n",
       "<style scoped>\n",
       "    .dataframe tbody tr th:only-of-type {\n",
       "        vertical-align: middle;\n",
       "    }\n",
       "\n",
       "    .dataframe tbody tr th {\n",
       "        vertical-align: top;\n",
       "    }\n",
       "\n",
       "    .dataframe thead th {\n",
       "        text-align: right;\n",
       "    }\n",
       "</style>\n",
       "<table border=\"1\" class=\"dataframe\">\n",
       "  <thead>\n",
       "    <tr style=\"text-align: right;\">\n",
       "      <th></th>\n",
       "      <th>Outlook</th>\n",
       "      <th>Temperature</th>\n",
       "      <th>Humidity</th>\n",
       "      <th>Wind</th>\n",
       "      <th>Play</th>\n",
       "    </tr>\n",
       "  </thead>\n",
       "  <tbody>\n",
       "    <tr>\n",
       "      <th>0</th>\n",
       "      <td>sunny</td>\n",
       "      <td>85.0</td>\n",
       "      <td>85.0</td>\n",
       "      <td>False</td>\n",
       "      <td>no</td>\n",
       "    </tr>\n",
       "    <tr>\n",
       "      <th>1</th>\n",
       "      <td>sunny</td>\n",
       "      <td>80.0</td>\n",
       "      <td>90.0</td>\n",
       "      <td>True</td>\n",
       "      <td>no</td>\n",
       "    </tr>\n",
       "    <tr>\n",
       "      <th>2</th>\n",
       "      <td>overcast</td>\n",
       "      <td>83.0</td>\n",
       "      <td>78.0</td>\n",
       "      <td>False</td>\n",
       "      <td>yes</td>\n",
       "    </tr>\n",
       "    <tr>\n",
       "      <th>3</th>\n",
       "      <td>rain</td>\n",
       "      <td>70.0</td>\n",
       "      <td>96.0</td>\n",
       "      <td>False</td>\n",
       "      <td>yes</td>\n",
       "    </tr>\n",
       "    <tr>\n",
       "      <th>4</th>\n",
       "      <td>rain</td>\n",
       "      <td>68.0</td>\n",
       "      <td>80.0</td>\n",
       "      <td>False</td>\n",
       "      <td>yes</td>\n",
       "    </tr>\n",
       "  </tbody>\n",
       "</table>\n",
       "</div>"
      ],
      "text/plain": [
       "    Outlook  Temperature  Humidity   Wind Play\n",
       "0     sunny         85.0      85.0  False   no\n",
       "1     sunny         80.0      90.0   True   no\n",
       "2  overcast         83.0      78.0  False  yes\n",
       "3      rain         70.0      96.0  False  yes\n",
       "4      rain         68.0      80.0  False  yes"
      ]
     },
     "execution_count": 175,
     "metadata": {},
     "output_type": "execute_result"
    }
   ],
   "source": [
    "import pandas as pd\n",
    "golf = pd.read_csv('golf.csv')\n",
    "golf.head()"
   ]
  },
  {
   "cell_type": "markdown",
   "metadata": {},
   "source": [
    "#### 3.1.1 Learn a naïve bayes model from the Golf data set. Use this model to classify the examples in the Golf-Testset. \n",
    "\n",
    "- Think about ways how you can evaluate the performance of your model. \n",
    "- Which measures can be calculated from the resulting dataset?"
   ]
  },
  {
   "cell_type": "code",
   "execution_count": 140,
   "metadata": {},
   "outputs": [],
   "source": [
    "# create a variable with the values of the target variable\n",
    "\n",
    "le = LabelEncoder()\n",
    "golf_target = le.fit_transform(golf.Play) \n",
    "\n",
    "# and remove it from the dataframe so it only contains the features that our model should use; assign it to a new variable\n",
    "golf = golf.drop(columns=['Play'])\n"
   ]
  },
  {
   "cell_type": "code",
   "execution_count": 142,
   "metadata": {},
   "outputs": [],
   "source": [
    "from sklearn.model_selection import train_test_split\n",
    "\n",
    "data_train, data_test, target_train, target_test = train_test_split(golf, golf_target,test_size=0.2, random_state=4, stratify=golf_target)"
   ]
  },
  {
   "cell_type": "code",
   "execution_count": 143,
   "metadata": {},
   "outputs": [],
   "source": [
    "# golf_one_hot_train = data_train.copy()\n",
    "# golf_one_hot_test = data_test.copy()\n",
    "\n",
    "# encoded = pd.DataFrame(one_hot_encoder.fit_transform(golf_one_hot_train[['Outlook', 'Wind']]).toarray(), \n",
    "#                        columns=one_hot_encoder.get_feature_names(['Outlook', 'Wind']))\n",
    "\n",
    "# golf_one_hot_train = golf_one_hot_train.drop(columns=['Outlook', 'Wind'])\n",
    "# golf_one_hot_train = golf_one_hot_train.join(encoded)"
   ]
  },
  {
   "cell_type": "code",
   "execution_count": 144,
   "metadata": {},
   "outputs": [],
   "source": [
    "one_hot_encoder = preprocessing.OneHotEncoder()\n",
    "\n",
    "data_train_hot = pd.DataFrame(one_hot_encoder.fit_transform(data_train[['Outlook', 'Wind']]).toarray(), \n",
    "                       columns=one_hot_encoder.get_feature_names(['Outlook', 'Wind']))\n",
    "data_test_hot = pd.DataFrame(one_hot_encoder.transform(data_test[['Outlook', 'Wind']]).toarray(), \n",
    "                       columns=one_hot_encoder.get_feature_names(['Outlook', 'Wind']))\n"
   ]
  },
  {
   "cell_type": "code",
   "execution_count": 145,
   "metadata": {},
   "outputs": [],
   "source": [
    "data_train = data_train.drop(columns=['Outlook', 'Wind'])\n",
    "data_test = data_test.drop(columns=['Outlook', 'Wind'])"
   ]
  },
  {
   "cell_type": "code",
   "execution_count": 150,
   "metadata": {},
   "outputs": [],
   "source": [
    "#!!!!!!!!!!!\n",
    "data_train = data_train.reset_index(drop=True)\n",
    "data_test = data_test.reset_index(drop=True)"
   ]
  },
  {
   "cell_type": "code",
   "execution_count": 151,
   "metadata": {},
   "outputs": [],
   "source": [
    "data_train = data_train.join(data_train_hot)\n",
    "data_test = data_test.join(data_test_hot)"
   ]
  },
  {
   "cell_type": "code",
   "execution_count": 155,
   "metadata": {},
   "outputs": [],
   "source": [
    "# better do scaling\n",
    "scaler = preprocessing.StandardScaler()\n",
    "data_train[['Temperature', 'Humidity']] = scaler.fit_transform(data_train[['Temperature', 'Humidity']])\n",
    "data_test[['Temperature', 'Humidity']] = scaler.transform(data_test[['Temperature', 'Humidity']])"
   ]
  },
  {
   "cell_type": "code",
   "execution_count": 157,
   "metadata": {},
   "outputs": [
    {
     "data": {
      "text/plain": [
       "GaussianNB()"
      ]
     },
     "execution_count": 157,
     "metadata": {},
     "output_type": "execute_result"
    }
   ],
   "source": [
    "#import Gaussian naive bayes\n",
    "from sklearn.naive_bayes import GaussianNB\n",
    "#instantiate the an estimator and fit it to the data\n",
    "naive_bayes = GaussianNB()\n",
    "naive_bayes.fit(data_train, target_train)"
   ]
  },
  {
   "cell_type": "code",
   "execution_count": 162,
   "metadata": {},
   "outputs": [
    {
     "data": {
      "text/plain": [
       "array([0, 1, 1])"
      ]
     },
     "execution_count": 162,
     "metadata": {},
     "output_type": "execute_result"
    }
   ],
   "source": [
    "#apply the model (predict)\n",
    "test_prediction = naive_bayes.predict(data_test)\n",
    "# add the prediction and gold standard (target) to the dataframe\n",
    "test_prediction"
   ]
  },
  {
   "cell_type": "code",
   "execution_count": 163,
   "metadata": {},
   "outputs": [
    {
     "data": {
      "text/plain": [
       "array([0, 1, 1])"
      ]
     },
     "execution_count": 163,
     "metadata": {},
     "output_type": "execute_result"
    }
   ],
   "source": [
    "target_test"
   ]
  },
  {
   "cell_type": "markdown",
   "metadata": {
    "slideshow": {
     "slide_type": "slide"
    }
   },
   "source": [
    "#### 3.1.2 Evaluate the performance of your model.\n",
    "- by calling confusion_matrix, accuracy_score and classification_report\n",
    "- examine the confusion matrix. What is the accuracy of your classifier?"
   ]
  },
  {
   "cell_type": "code",
   "execution_count": null,
   "metadata": {},
   "outputs": [],
   "source": [
    "# accuracy = 1"
   ]
  },
  {
   "cell_type": "code",
   "execution_count": 172,
   "metadata": {},
   "outputs": [
    {
     "data": {
      "image/png": "[encoded data removed]",
      "text/plain": [
       "<Figure size 432x288 with 2 Axes>"
      ]
     },
     "metadata": {
      "needs_background": "light"
     },
     "output_type": "display_data"
    }
   ],
   "source": [
    "cnf_matrix = confusion_matrix(target_test, test_prediction)\n",
    "np.set_printoptions(precision=2)\n",
    "plot_confusion_matrix(cnf_matrix, classes=le.classes_)"
   ]
  },
  {
   "cell_type": "markdown",
   "metadata": {
    "slideshow": {
     "slide_type": "slide"
    }
   },
   "source": [
    "#### 3.1.3 Does a k-nearest-neighbor classifier work better for this task? \n",
    "- Check how the accuracy of your classifier changes to find out. \n",
    "- Do different values of k improve the performance?"
   ]
  },
  {
   "cell_type": "code",
   "execution_count": null,
   "metadata": {},
   "outputs": [],
   "source": []
  },
  {
   "cell_type": "markdown",
   "metadata": {
    "slideshow": {
     "slide_type": "slide"
    }
   },
   "source": [
    "### 3.2. Learning a classifier for the Iris Data Set\n",
    "You want to learn and evaluate a classifier for recognizing different types of Iris flowers.\n",
    "\n",
    "#### 3.2.1 Let’s try the Naïve Bayes algorithm first.\n",
    "Create a train/test split (with function train_test_split) with 30% test size and stratified sampling.  Evaluate the accuracy of the learned model."
   ]
  },
  {
   "cell_type": "code",
   "execution_count": 8,
   "metadata": {},
   "outputs": [],
   "source": [
    "# load the data\n",
    "\n",
    "# create the train/test split\n",
    "\n",
    "# learn Naïve Bayes\n",
    "\n",
    "# evaluate"
   ]
  },
  {
   "cell_type": "markdown",
   "metadata": {
    "slideshow": {
     "slide_type": "slide"
    }
   },
   "source": [
    "#### 3.2.2 Try a k-nearest-neighbor classifier on the problem. Does it perform better?"
   ]
  },
  {
   "cell_type": "code",
   "execution_count": null,
   "metadata": {},
   "outputs": [],
   "source": []
  },
  {
   "cell_type": "markdown",
   "metadata": {
    "slideshow": {
     "slide_type": "slide"
    }
   },
   "source": [
    "### 3.3 More Classification\n",
    "In the lecture, you learned about the logistic regression. \n",
    "#### 3.3.1 Compare kNN and logistic regression using the “Weighting” dataset."
   ]
  },
  {
   "cell_type": "code",
   "execution_count": null,
   "metadata": {},
   "outputs": [],
   "source": [
    "weighting = pd.read_csv(\"weighting.csv\")\n",
    "display(weighting.head())\n",
    "\n",
    "weighting_target = preprocessing.LabelEncoder().fit_transform(weighting['weighting.dat (7)'])\n",
    "\n",
    "weighting_data = weighting.drop(columns='weighting.dat (7)')\n",
    "\n",
    "# TODO: make train test split\n",
    "\n",
    "# TODO: try out KNeighborsClassifier and LogisticRegression (you can also play around with the model hyperparameters)"
   ]
  },
  {
   "cell_type": "code",
   "execution_count": 9,
   "metadata": {},
   "outputs": [],
   "source": [
    "#now try the same and use a pipeline with preprocessing.MinMaxScaler() as the first step"
   ]
  }
 ],
 "metadata": {
  "celltoolbar": "Slideshow",
  "kernelspec": {
   "display_name": "Python 3",
   "language": "python",
   "name": "python3"
  },
  "language_info": {
   "codemirror_mode": {
    "name": "ipython",
    "version": 3
   },
   "file_extension": ".py",
   "mimetype": "text/x-python",
   "name": "python",
   "nbconvert_exporter": "python",
   "pygments_lexer": "ipython3",
   "version": "3.6.13"
  }
 },
 "nbformat": 4,
 "nbformat_minor": 4
}
