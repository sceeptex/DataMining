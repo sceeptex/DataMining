{
 "cells": [
  {
   "cell_type": "markdown",
   "metadata": {},
   "source": [
    "Run the cell below if you are using Google Colab to mount your Google Drive in your Colab instance. Adjust the path to the files in your Google Drive as needed if it differs.\n",
    "\n",
    "If you do not use Google Colab, running the cell will simply do nothing, so do not worry about it."
   ]
  },
  {
   "cell_type": "code",
   "execution_count": 1,
   "metadata": {},
   "outputs": [],
   "source": [
    "try:\n",
    "    from google.colab import drive\n",
    "    drive.mount('/content/drive/')\n",
    "    %cd 'drive/My Drive/Colab Notebooks/01_SimplePreprocessingAndVisualization'\n",
    "except ImportError as e:\n",
    "    pass"
   ]
  },
  {
   "cell_type": "markdown",
   "metadata": {
    "slideshow": {
     "slide_type": "slide"
    }
   },
   "source": [
    "## Exercise 1: Simple Preprocessing and Visualization\n",
    "  \n",
    "\n",
    "### 1.1 Python Installation\n",
    "\n",
    "Download Anaconda and install the software on your laptop. Additional\n",
    "information on how to install Anaconda can be found here:\n",
    "https://docs.anaconda.com/anaconda/install/\n",
    "\n",
    "Optionally use [Google Colab](https://colab.research.google.com/)\n",
    "\n",
    "### 1.2 Load and Preprocess the Students Dataset\n",
    "\n",
    "Import the students data set into Python. The students data set is provided in ILIAS as an Excel file. Use different preprocessing operators and plotters to answer the following questions:\n",
    "\n",
    "1.2.1 What is the most common mark that has been given in FSS2010? To find the answer filter the examples and draw a histogram afterwards.\n",
    "\n",
    "1.2.2 Is there a correlation between the mark and the number of attended classes? Find the answer using a scatter plot.\n",
    "\n",
    "1.2.3 Does this correlation hold for all students? Find the answer by aggregating the examples by student and use a scatter plot afterwards."
   ]
  },
  {
   "cell_type": "markdown",
   "metadata": {
    "slideshow": {
     "slide_type": "slide"
    }
   },
   "source": [
    "### Solution 1.2 Load and Preprocess the Students Dataset\n",
    "\n",
    "First we need to import the pandas package. Then we can read the excel file into a dataframe using the [read_excel()](https://pandas.pydata.org/pandas-docs/stable/reference/api/pandas.read_excel.html) function."
   ]
  },
  {
   "cell_type": "code",
   "execution_count": 2,
   "metadata": {
    "slideshow": {
     "slide_type": "-"
    }
   },
   "outputs": [
    {
     "data": {
      "text/html": [
       "<div>\n",
       "<style scoped>\n",
       "    .dataframe tbody tr th:only-of-type {\n",
       "        vertical-align: middle;\n",
       "    }\n",
       "\n",
       "    .dataframe tbody tr th {\n",
       "        vertical-align: top;\n",
       "    }\n",
       "\n",
       "    .dataframe thead th {\n",
       "        text-align: right;\n",
       "    }\n",
       "</style>\n",
       "<table border=\"1\" class=\"dataframe\">\n",
       "  <thead>\n",
       "    <tr style=\"text-align: right;\">\n",
       "      <th></th>\n",
       "      <th>Semester</th>\n",
       "      <th>Name</th>\n",
       "      <th>Course</th>\n",
       "      <th>Mark</th>\n",
       "      <th>Attended</th>\n",
       "    </tr>\n",
       "  </thead>\n",
       "  <tbody>\n",
       "    <tr>\n",
       "      <th>0</th>\n",
       "      <td>FSS2010</td>\n",
       "      <td>Alex Krausche</td>\n",
       "      <td>Database Systems I</td>\n",
       "      <td>1.3</td>\n",
       "      <td>13</td>\n",
       "    </tr>\n",
       "    <tr>\n",
       "      <th>1</th>\n",
       "      <td>FSS2010</td>\n",
       "      <td>Tanja Becker</td>\n",
       "      <td>Database Systems I</td>\n",
       "      <td>2.0</td>\n",
       "      <td>12</td>\n",
       "    </tr>\n",
       "    <tr>\n",
       "      <th>2</th>\n",
       "      <td>FSS2010</td>\n",
       "      <td>Mariano Selina</td>\n",
       "      <td>Database Systems I</td>\n",
       "      <td>1.7</td>\n",
       "      <td>5</td>\n",
       "    </tr>\n",
       "    <tr>\n",
       "      <th>3</th>\n",
       "      <td>FSS2010</td>\n",
       "      <td>Otto Blacher</td>\n",
       "      <td>Database Systems I</td>\n",
       "      <td>2.3</td>\n",
       "      <td>13</td>\n",
       "    </tr>\n",
       "    <tr>\n",
       "      <th>4</th>\n",
       "      <td>FSS2010</td>\n",
       "      <td>Frank Fester</td>\n",
       "      <td>Database Systems I</td>\n",
       "      <td>2.0</td>\n",
       "      <td>13</td>\n",
       "    </tr>\n",
       "  </tbody>\n",
       "</table>\n",
       "</div>"
      ],
      "text/plain": [
       "  Semester            Name              Course  Mark  Attended\n",
       "0  FSS2010   Alex Krausche  Database Systems I   1.3        13\n",
       "1  FSS2010    Tanja Becker  Database Systems I   2.0        12\n",
       "2  FSS2010  Mariano Selina  Database Systems I   1.7         5\n",
       "3  FSS2010    Otto Blacher  Database Systems I   2.3        13\n",
       "4  FSS2010    Frank Fester  Database Systems I   2.0        13"
      ]
     },
     "execution_count": 2,
     "metadata": {},
     "output_type": "execute_result"
    }
   ],
   "source": [
    "# import the pandas package\n",
    "import pandas as pd\n",
    "\n",
    "# use the read_excel() function to load the excel file into a dataframe\n",
    "student_data = pd.read_excel('Student Data for Exercise 1.xls')\n",
    "\n",
    "# look at the first few records to see that it worked\n",
    "student_data.head()"
   ]
  },
  {
   "cell_type": "markdown",
   "metadata": {
    "slideshow": {
     "slide_type": "slide"
    }
   },
   "source": [
    "#### 1.2.1 What is the most common mark that has been given in FSS2010? To find the answer filter the examples and draw a histogram afterwards.\n",
    "\n",
    "To draw a histogram, we need to import the matplotlib package, too. \n",
    "\n",
    "Then we can prepare the data by selecting all records with the Semester column equal to 'FSS2010'. \n",
    "\n",
    "Using the prepared dataframe, we can plot a [histogram](https://matplotlib.org/api/_as_gen/matplotlib.pyplot.hist.html) for the Mark column and find the answer to the question."
   ]
  },
  {
   "cell_type": "code",
   "execution_count": 3,
   "metadata": {},
   "outputs": [
    {
     "data": {
      "text/html": [
       "<div>\n",
       "<style scoped>\n",
       "    .dataframe tbody tr th:only-of-type {\n",
       "        vertical-align: middle;\n",
       "    }\n",
       "\n",
       "    .dataframe tbody tr th {\n",
       "        vertical-align: top;\n",
       "    }\n",
       "\n",
       "    .dataframe thead th {\n",
       "        text-align: right;\n",
       "    }\n",
       "</style>\n",
       "<table border=\"1\" class=\"dataframe\">\n",
       "  <thead>\n",
       "    <tr style=\"text-align: right;\">\n",
       "      <th></th>\n",
       "      <th>Semester</th>\n",
       "      <th>Name</th>\n",
       "      <th>Course</th>\n",
       "      <th>Mark</th>\n",
       "      <th>Attended</th>\n",
       "    </tr>\n",
       "  </thead>\n",
       "  <tbody>\n",
       "    <tr>\n",
       "      <th>0</th>\n",
       "      <td>FSS2010</td>\n",
       "      <td>Alex Krausche</td>\n",
       "      <td>Database Systems I</td>\n",
       "      <td>1.3</td>\n",
       "      <td>13</td>\n",
       "    </tr>\n",
       "    <tr>\n",
       "      <th>1</th>\n",
       "      <td>FSS2010</td>\n",
       "      <td>Tanja Becker</td>\n",
       "      <td>Database Systems I</td>\n",
       "      <td>2.0</td>\n",
       "      <td>12</td>\n",
       "    </tr>\n",
       "    <tr>\n",
       "      <th>2</th>\n",
       "      <td>FSS2010</td>\n",
       "      <td>Mariano Selina</td>\n",
       "      <td>Database Systems I</td>\n",
       "      <td>1.7</td>\n",
       "      <td>5</td>\n",
       "    </tr>\n",
       "    <tr>\n",
       "      <th>3</th>\n",
       "      <td>FSS2010</td>\n",
       "      <td>Otto Blacher</td>\n",
       "      <td>Database Systems I</td>\n",
       "      <td>2.3</td>\n",
       "      <td>13</td>\n",
       "    </tr>\n",
       "    <tr>\n",
       "      <th>4</th>\n",
       "      <td>FSS2010</td>\n",
       "      <td>Frank Fester</td>\n",
       "      <td>Database Systems I</td>\n",
       "      <td>2.0</td>\n",
       "      <td>13</td>\n",
       "    </tr>\n",
       "  </tbody>\n",
       "</table>\n",
       "</div>"
      ],
      "text/plain": [
       "  Semester            Name              Course  Mark  Attended\n",
       "0  FSS2010   Alex Krausche  Database Systems I   1.3        13\n",
       "1  FSS2010    Tanja Becker  Database Systems I   2.0        12\n",
       "2  FSS2010  Mariano Selina  Database Systems I   1.7         5\n",
       "3  FSS2010    Otto Blacher  Database Systems I   2.3        13\n",
       "4  FSS2010    Frank Fester  Database Systems I   2.0        13"
      ]
     },
     "metadata": {},
     "output_type": "display_data"
    },
    {
     "data": {
      "image/png": "[encoded data removed]",
      "text/plain": [
       "<Figure size 432x288 with 1 Axes>"
      ]
     },
     "metadata": {
      "needs_background": "light"
     },
     "output_type": "display_data"
    }
   ],
   "source": [
    "# import pyplot from matplotlib\n",
    "import matplotlib.pyplot as plt\n",
    "\n",
    "# select all records with Semester equal to 'FSS2010'\n",
    "student_fss_2010 = student_data[student_data['Semester'] == 'FSS2010']\n",
    "\n",
    "# display the first few records to see that it worked\n",
    "display(student_fss_2010.head())\n",
    "\n",
    "# create the histogram using the hist() function \n",
    "#  from the data in the Mark column for as many bins as there are values for Mark\n",
    "plt.hist(student_fss_2010['Mark'], bins=len(student_fss_2010['Mark']))\n",
    "# and show it\n",
    "plt.show()"
   ]
  },
  {
   "cell_type": "markdown",
   "metadata": {},
   "source": [
    "The most common mark is 2.0"
   ]
  },
  {
   "cell_type": "markdown",
   "metadata": {
    "slideshow": {
     "slide_type": "slide"
    }
   },
   "source": [
    "#### 1.2.2 Is there a correlation between the mark and the number of attended classes? Find the answer using a scatter plot.\n",
    "\n",
    "We have prepared the data already and just need to create a [scatter plot](https://matplotlib.org/api/_as_gen/matplotlib.pyplot.scatter.html). We set the x-axis to the number of attended classes and the y-axis to the mark."
   ]
  },
  {
   "cell_type": "code",
   "execution_count": 4,
   "metadata": {
    "scrolled": true
   },
   "outputs": [
    {
     "data": {
      "image/png": "[encoded data removed]",
      "text/plain": [
       "<Figure size 432x288 with 1 Axes>"
      ]
     },
     "metadata": {
      "needs_background": "light"
     },
     "output_type": "display_data"
    }
   ],
   "source": [
    "# create a scatter plot using the scatter() function\n",
    "#  using the Attended column for the x-axis and the Mark column for the y-axis\n",
    "plt.scatter(student_fss_2010['Attended'], student_fss_2010['Mark'])\n",
    "\n",
    "# set the axis labels\n",
    "plt.xlabel(\"Attended classes\")\n",
    "plt.ylabel(\"Mark\")\n",
    "\n",
    "# show the plot\n",
    "plt.show()"
   ]
  },
  {
   "cell_type": "markdown",
   "metadata": {},
   "source": [
    "Yes, students that attend a lot of classes usually get better marks."
   ]
  },
  {
   "cell_type": "markdown",
   "metadata": {
    "slideshow": {
     "slide_type": "slide"
    }
   },
   "source": [
    "#### 1.2.3 Does this correlation hold for all students? Find the answer by aggregating the examples by student and use a scatter plot afterwards.\n",
    "\n",
    "To answer this question we need to change the dataset again.\n",
    "We want to aggregate by students, who are identified by their Name in this dataset, and find out something about their values on average.\n",
    "So we have to group by Name and calculate the mean() of all other columns.\n",
    "\n",
    "To be able to interpret the plot, we also label each data point with the name of the student."
   ]
  },
  {
   "cell_type": "code",
   "execution_count": 5,
   "metadata": {},
   "outputs": [
    {
     "data": {
      "text/html": [
       "<div>\n",
       "<style scoped>\n",
       "    .dataframe tbody tr th:only-of-type {\n",
       "        vertical-align: middle;\n",
       "    }\n",
       "\n",
       "    .dataframe tbody tr th {\n",
       "        vertical-align: top;\n",
       "    }\n",
       "\n",
       "    .dataframe thead th {\n",
       "        text-align: right;\n",
       "    }\n",
       "</style>\n",
       "<table border=\"1\" class=\"dataframe\">\n",
       "  <thead>\n",
       "    <tr style=\"text-align: right;\">\n",
       "      <th></th>\n",
       "      <th>Mark</th>\n",
       "      <th>Attended</th>\n",
       "    </tr>\n",
       "    <tr>\n",
       "      <th>Name</th>\n",
       "      <th></th>\n",
       "      <th></th>\n",
       "    </tr>\n",
       "  </thead>\n",
       "  <tbody>\n",
       "    <tr>\n",
       "      <th>Alex Krausche</th>\n",
       "      <td>1.433333</td>\n",
       "      <td>12.666667</td>\n",
       "    </tr>\n",
       "    <tr>\n",
       "      <th>Avid Morvita</th>\n",
       "      <td>3.100000</td>\n",
       "      <td>11.333333</td>\n",
       "    </tr>\n",
       "    <tr>\n",
       "      <th>Frank Fester</th>\n",
       "      <td>2.233333</td>\n",
       "      <td>12.666667</td>\n",
       "    </tr>\n",
       "    <tr>\n",
       "      <th>Mariano Selina</th>\n",
       "      <td>1.566667</td>\n",
       "      <td>5.000000</td>\n",
       "    </tr>\n",
       "    <tr>\n",
       "      <th>Michaela Martke</th>\n",
       "      <td>3.766667</td>\n",
       "      <td>6.333333</td>\n",
       "    </tr>\n",
       "    <tr>\n",
       "      <th>Otto Blacher</th>\n",
       "      <td>2.100000</td>\n",
       "      <td>12.333333</td>\n",
       "    </tr>\n",
       "    <tr>\n",
       "      <th>Steve Queck</th>\n",
       "      <td>2.800000</td>\n",
       "      <td>8.333333</td>\n",
       "    </tr>\n",
       "    <tr>\n",
       "      <th>Susanne Müller</th>\n",
       "      <td>2.433333</td>\n",
       "      <td>12.000000</td>\n",
       "    </tr>\n",
       "    <tr>\n",
       "      <th>Tanja Becker</th>\n",
       "      <td>1.650000</td>\n",
       "      <td>11.500000</td>\n",
       "    </tr>\n",
       "    <tr>\n",
       "      <th>Ulrich Gester</th>\n",
       "      <td>4.000000</td>\n",
       "      <td>8.333333</td>\n",
       "    </tr>\n",
       "  </tbody>\n",
       "</table>\n",
       "</div>"
      ],
      "text/plain": [
       "                     Mark   Attended\n",
       "Name                                \n",
       "Alex Krausche    1.433333  12.666667\n",
       "Avid Morvita     3.100000  11.333333\n",
       "Frank Fester     2.233333  12.666667\n",
       "Mariano Selina   1.566667   5.000000\n",
       "Michaela Martke  3.766667   6.333333\n",
       "Otto Blacher     2.100000  12.333333\n",
       "Steve Queck      2.800000   8.333333\n",
       "Susanne Müller   2.433333  12.000000\n",
       "Tanja Becker     1.650000  11.500000\n",
       "Ulrich Gester    4.000000   8.333333"
      ]
     },
     "metadata": {},
     "output_type": "display_data"
    },
    {
     "data": {
      "image/png": "[encoded data removed]",
      "text/plain": [
       "<Figure size 432x288 with 1 Axes>"
      ]
     },
     "metadata": {
      "needs_background": "light"
     },
     "output_type": "display_data"
    }
   ],
   "source": [
    "# group the data by student name and calculate the mean values of all other columns\n",
    "student_fss_2010_grouped = student_fss_2010.groupby('Name').mean()\n",
    "\n",
    "# display the first few records to see that it worked\n",
    "display(student_fss_2010_grouped)\n",
    "\n",
    "# create a scatter plot with the same axes as in the last plot, but this time from the aggregated dataset\n",
    "plt.scatter(student_fss_2010_grouped['Attended'], student_fss_2010_grouped['Mark'])\n",
    "\n",
    "# set the axis labels\n",
    "plt.xlabel(\"Attended classes\")\n",
    "plt.ylabel(\"Mark\")\n",
    "\n",
    "# annotate each data point with the students name\n",
    "for (name, mark, attended) in student_fss_2010_grouped.itertuples():\n",
    "    plt.annotate(name, (attended, mark))\n",
    "\n",
    "# show the plot\n",
    "plt.show()"
   ]
  },
  {
   "cell_type": "markdown",
   "metadata": {
    "slideshow": {
     "slide_type": "subslide"
    }
   },
   "source": [
    "There is one outlier. Mariano Selina is getting very good marks without attending too many classes. All other students follow almost the rule “the more attended classes, the better the grade.”"
   ]
  },
  {
   "cell_type": "markdown",
   "metadata": {
    "slideshow": {
     "slide_type": "slide"
    }
   },
   "source": [
    "### 1.3 Visual Exploration of the Iris Dataset\n",
    "The dataset describes three types of Iris flowers:\n",
    "- Setosa\n",
    "- Virginica\n",
    "- Versicolour\n",
    "\n",
    "There are four (non-class) attributes\n",
    "- Sepal width and length\n",
    "- Petal width and length\n",
    "\n",
    "Load the Iris dataset and use different plotters to visualize and explore the data set.\n",
    "\n",
    "1. Which attribute combination and (approximate) value ranges determine the type of Iris flower?"
   ]
  },
  {
   "cell_type": "markdown",
   "metadata": {
    "slideshow": {
     "slide_type": "slide"
    }
   },
   "source": [
    "### Solution 1.3 Visual Exploration of the Iris Dataset\n",
    "\n",
    "First we need to load the dataset into a dataframe."
   ]
  },
  {
   "cell_type": "code",
   "execution_count": 6,
   "metadata": {
    "slideshow": {
     "slide_type": "-"
    }
   },
   "outputs": [
    {
     "data": {
      "text/html": [
       "<div>\n",
       "<style scoped>\n",
       "    .dataframe tbody tr th:only-of-type {\n",
       "        vertical-align: middle;\n",
       "    }\n",
       "\n",
       "    .dataframe tbody tr th {\n",
       "        vertical-align: top;\n",
       "    }\n",
       "\n",
       "    .dataframe thead th {\n",
       "        text-align: right;\n",
       "    }\n",
       "</style>\n",
       "<table border=\"1\" class=\"dataframe\">\n",
       "  <thead>\n",
       "    <tr style=\"text-align: right;\">\n",
       "      <th></th>\n",
       "      <th>SepalLength</th>\n",
       "      <th>SepalWidth</th>\n",
       "      <th>PetalLength</th>\n",
       "      <th>PetalWidth</th>\n",
       "      <th>Name</th>\n",
       "    </tr>\n",
       "  </thead>\n",
       "  <tbody>\n",
       "    <tr>\n",
       "      <th>0</th>\n",
       "      <td>5.1</td>\n",
       "      <td>3.5</td>\n",
       "      <td>1.4</td>\n",
       "      <td>0.2</td>\n",
       "      <td>Iris-setosa</td>\n",
       "    </tr>\n",
       "    <tr>\n",
       "      <th>1</th>\n",
       "      <td>4.9</td>\n",
       "      <td>3.0</td>\n",
       "      <td>1.4</td>\n",
       "      <td>0.2</td>\n",
       "      <td>Iris-setosa</td>\n",
       "    </tr>\n",
       "    <tr>\n",
       "      <th>2</th>\n",
       "      <td>4.7</td>\n",
       "      <td>3.2</td>\n",
       "      <td>1.3</td>\n",
       "      <td>0.2</td>\n",
       "      <td>Iris-setosa</td>\n",
       "    </tr>\n",
       "    <tr>\n",
       "      <th>3</th>\n",
       "      <td>4.6</td>\n",
       "      <td>3.1</td>\n",
       "      <td>1.5</td>\n",
       "      <td>0.2</td>\n",
       "      <td>Iris-setosa</td>\n",
       "    </tr>\n",
       "    <tr>\n",
       "      <th>4</th>\n",
       "      <td>5.0</td>\n",
       "      <td>3.6</td>\n",
       "      <td>1.4</td>\n",
       "      <td>0.2</td>\n",
       "      <td>Iris-setosa</td>\n",
       "    </tr>\n",
       "  </tbody>\n",
       "</table>\n",
       "</div>"
      ],
      "text/plain": [
       "   SepalLength  SepalWidth  PetalLength  PetalWidth         Name\n",
       "0          5.1         3.5          1.4         0.2  Iris-setosa\n",
       "1          4.9         3.0          1.4         0.2  Iris-setosa\n",
       "2          4.7         3.2          1.3         0.2  Iris-setosa\n",
       "3          4.6         3.1          1.5         0.2  Iris-setosa\n",
       "4          5.0         3.6          1.4         0.2  Iris-setosa"
      ]
     },
     "execution_count": 6,
     "metadata": {},
     "output_type": "execute_result"
    }
   ],
   "source": [
    "# load the csv file using the read_csv() function\n",
    "iris = pd.read_csv(\"iris.csv\")\n",
    "\n",
    "# look at the first few records to see that it worked\n",
    "iris.head()"
   ]
  },
  {
   "cell_type": "markdown",
   "metadata": {},
   "source": [
    "Then we create a scatter plot to visualise the dataset. As there are four features that we consider, we need to inspect 6 different combinations of two features and create a scatter plot for each of them.\n",
    "\n",
    "We start by specifying which features we consider and creating their combinations. Here we make use of the itertools package (import it first!), which provides the function [combinations()](https://docs.python.org/2/library/itertools.html#itertools.combinations).\n",
    "\n",
    "Then we create a figure to which we will later add sub plots for each combination.\n",
    "We iterate over all combinations using a for loop, and for each combination we add a sub plot, create the scatter plot, and set the axis labels.\n",
    "When creating the scatter plot, we first group the dataset by the name of the flowers and plot each type of flower separately so that the data points are drawn in different colours.\n",
    "Finally, we add a legend for the colours to the last sub plot and draw the figure."
   ]
  },
  {
   "cell_type": "code",
   "execution_count": 7,
   "metadata": {},
   "outputs": [
    {
     "data": {
      "image/png": "[encoded data removed]",
      "text/plain": [
       "<Figure size 1080x720 with 6 Axes>"
      ]
     },
     "metadata": {
      "needs_background": "light"
     },
     "output_type": "display_data"
    }
   ],
   "source": [
    "import itertools\n",
    "\n",
    "# create a list of all columns that we are considering\n",
    "features = [ 'SepalLength', 'SepalWidth', 'PetalLength', 'PetalWidth' ]\n",
    "\n",
    "# create all combinations of considered columns\n",
    "combinations = itertools.combinations(features, 2)\n",
    "\n",
    "# create a figure and specify its size\n",
    "fig = plt.figure(figsize=(15,10))\n",
    "\n",
    "# go through all combinations and create one plot for each\n",
    "figure_index = 1\n",
    "for combination in combinations:\n",
    "    # add a sub plot to the figure\n",
    "    axs = fig.add_subplot(2,3,figure_index)\n",
    "    \n",
    "    # group the data by Name (so we see the data points for different types of flowers in different colours)\n",
    "    for name, group in iris.groupby('Name'):\n",
    "        # plot the data points for the current group and feature combination\n",
    "        axs.scatter(group[combination[0]], group[combination[1]], label=name)\n",
    "    \n",
    "    # set the axis labels of the current sub plot\n",
    "    axs.set_xlabel(combination[0])\n",
    "    axs.set_ylabel(combination[1])\n",
    "        \n",
    "    # increase the figure index (otherwise all plots are drawn in the first subplot)\n",
    "    figure_index+=1\n",
    "    \n",
    "# add a legend to the last sub plot\n",
    "plt.legend()\n",
    "    \n",
    "# show the plot\n",
    "plt.show()"
   ]
  },
  {
   "cell_type": "markdown",
   "metadata": {},
   "source": [
    "By inspecting the plots for the different combinations of attributes, we find that the combination of petal width and petal length separates the different types of flowers quite well.\n",
    "So, we create a new plot for this combination and [plot areas](https://matplotlib.org/api/_as_gen/matplotlib.pyplot.fill_between.html) to show a potential decision boundary for each type of flower.\n",
    "\n",
    "This decision boundary is obtained by manually looking at the plot, but we will see methods to automate this step in future exercises."
   ]
  },
  {
   "cell_type": "code",
   "execution_count": 8,
   "metadata": {},
   "outputs": [
    {
     "data": {
      "image/png": "[encoded data removed]",
      "text/plain": [
       "<Figure size 720x720 with 1 Axes>"
      ]
     },
     "metadata": {
      "needs_background": "light"
     },
     "output_type": "display_data"
    }
   ],
   "source": [
    "# create a figure and specify its size\n",
    "plt.figure(figsize=(10,10))\n",
    "\n",
    "# plot the data for each type of flower individually again\n",
    "for name, group in iris.groupby('Name'):\n",
    "    plt.scatter(group['PetalLength'], group['PetalWidth'], label=name)\n",
    "    \n",
    "# plot the decision boundary\n",
    "# iris-setosa\n",
    "plt.fill_between([0.0, 7.0], 0.0, 0.8, color=\"C0\", alpha=0.3)\n",
    "\n",
    "# iris versicolor\n",
    "plt.fill_between([2.8, 4.8], 0.9, 1.6, color=\"C1\", alpha=0.3)\n",
    "\n",
    "# iris virginica\n",
    "plt.fill_between([4.8, 7.0], 1.5, 2.5, color=\"C2\", alpha=0.3)\n",
    "\n",
    "#finer grid (optional)\n",
    "plt.minorticks_on()\n",
    "plt.grid(which='both')\n",
    "\n",
    "# set axis labels\n",
    "plt.xlabel(\"Petal length\")\n",
    "plt.ylabel(\"Petal width\")\n",
    "\n",
    "# add legend\n",
    "plt.legend()\n",
    "\n",
    "# show the plot\n",
    "plt.show()"
   ]
  },
  {
   "cell_type": "markdown",
   "metadata": {
    "slideshow": {
     "slide_type": "subslide"
    }
   },
   "source": [
    "| Type of Iris Flower | Attribute combination and value ranges              |\n",
    "| ------------------- |---------------------------------------------------- |\n",
    "| Setosa              | PetalWidth < 0.8                                    |\n",
    "| Virginica           | PetalLength > 4.8 AND PetalWidth > 1.5              |\n",
    "| Versicolour         | 2.8 < PetalLength < 4.8 AND 0.9 < PetalWidth <= 1.6 |"
   ]
  }
 ],
 "metadata": {
  "celltoolbar": "Slideshow",
  "kernelspec": {
   "display_name": "Python 3",
   "language": "python",
   "name": "python3"
  },
  "language_info": {
   "codemirror_mode": {
    "name": "ipython",
    "version": 3
   },
   "file_extension": ".py",
   "mimetype": "text/x-python",
   "name": "python",
   "nbconvert_exporter": "python",
   "pygments_lexer": "ipython3",
   "version": "3.6.13"
  }
 },
 "nbformat": 4,
 "nbformat_minor": 4
}
