{
 "cells": [
  {
   "cell_type": "code",
   "execution_count": null,
   "id": "6a91c9fd",
   "metadata": {},
   "outputs": [],
   "source": [
    "import numpy as np\n",
    "my_var1 = 1\n",
    "my_var1"
   ]
  }
 ],
 "metadata": {
  "kernelspec": {
   "display_name": "Python 3",
   "language": "python",
   "name": "python3"
  },
  "language_info": {
   "codemirror_mode": {
    "name": "ipython",
    "version": 3
   },
   "file_extension": ".py",
   "mimetype": "text/x-python",
   "name": "python",
   "nbconvert_exporter": "python",
   "pygments_lexer": "ipython3",
   "version": "3.6.13"
  }
 },
 "nbformat": 4,
 "nbformat_minor": 5
}
