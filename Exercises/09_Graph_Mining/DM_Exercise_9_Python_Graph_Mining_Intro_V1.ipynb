{
 "cells": [
  {
   "cell_type": "markdown",
   "metadata": {},
   "source": [
    "Run the cell below if you are using Google Colab to mount your Google Drive in your Colab instance. Adjust the path to the files in your Google Drive as needed if it differs.\n",
    "\n",
    "If you do not use Google Colab, running the cell will simply do nothing, so do not worry about it."
   ]
  },
  {
   "cell_type": "code",
   "execution_count": 1,
   "metadata": {},
   "outputs": [],
   "source": [
    "try:\n",
    "    from google.colab import drive\n",
    "    drive.mount('/content/drive/')\n",
    "    %cd 'drive/My Drive/Colab Notebooks/09_Graph_Mining'\n",
    "except ImportError as e:\n",
    "    pass"
   ]
  },
  {
   "cell_type": "markdown",
   "metadata": {
    "slideshow": {
     "slide_type": "subslide"
    }
   },
   "source": [
    "## Graph mining\n",
    "\n",
    "Graph mining uses the graph structure to solve different tasks in the area of machine learning e.g.\n",
    "- [Representation learning for nodes and edges](https://stellargraph.readthedocs.io/en/stable/demos/embeddings/index.html)\n",
    "  - create a fixed sized vector for each node/edge\n",
    "  - used as input for downstream ML tasks or visualization etc\n",
    "- [**Classification of nodes**](https://stellargraph.readthedocs.io/en/stable/demos/node-classification/index.html) or edges\n",
    "  - to which class does a particular node/edge belongs?\n",
    "- [Classification of whole graphs](https://stellargraph.readthedocs.io/en/stable/demos/graph-classification/index.html)\n",
    "  - to which class does a graph belong?\n",
    "  - interesting in the medical domain (each graph represents a chemical compound)\n",
    "- [Link prediction](https://stellargraph.readthedocs.io/en/stable/demos/link-prediction/index.html)\n",
    "  - given a graph, answer the question if an edge between two nodes should exist (binary classification)\n",
    "  - or what type of edge it should have\n",
    "  - also called knowledge base completion\n",
    "\n",
    "We will focus on **node classification** for this exercise"
   ]
  },
  {
   "cell_type": "markdown",
   "metadata": {
    "slideshow": {
     "slide_type": "subslide"
    }
   },
   "source": [
    "### Library to use\n",
    "\n",
    "- We will use [Stellar Graph](https://www.stellargraph.io) library\n",
    "  - open source ([link to github](https://github.com/stellargraph/stellargraph))\n",
    "- Installation as usual with `pip install stellargraph[demos]`\n",
    "  - currently not available for Python 3.9\n",
    "    - use [anaconda virtual environment](https://docs.conda.io/projects/conda/en/latest/user-guide/tasks/manage-environments.html) with python 3.8\n",
    "    - `conda create --name myenv anaconda python=3.8`\n",
    "    - let us know if we should help you\n",
    "- [Comprehensive documentation](https://stellargraph.readthedocs.io) available"
   ]
  },
  {
   "cell_type": "code",
   "execution_count": 2,
   "metadata": {},
   "outputs": [],
   "source": [
    "#%pip install stellargraph[demos]"
   ]
  },
  {
   "cell_type": "markdown",
   "metadata": {
    "slideshow": {
     "slide_type": "subslide"
    }
   },
   "source": [
    "### Classification of Nodes with Graph Convolutional Network (GCN)\n",
    "- in this example we will use the CORA dataset\n",
    "  - consists of 2708 scientific publications about machine learning (nodes)\n",
    "  - edges are citations of these publications (5429 links) - thus also called citation network\n",
    "    - edges are directed but treated as undirected in this exercise\n",
    "  - the task is to do node classification into into one of seven classes\n",
    "    - Case_Based, Genetic_Algorithms, Neural_Networks, Probabilistic_Methods\n",
    "    - Reinforcement_Learning, Rule_Learning, Theory\n",
    "  - the nodes (publication) already have a vector representation\n",
    "    - word vector indicating whether each word in the vocabulary is present (1) or not (0)\n",
    "    - vocabulary size is 1433\n",
    "- the following introduction is based on the [demo of stellar graph](https://stellargraph.readthedocs.io/en/stable/demos/node-classification/gcn-node-classification.html)"
   ]
  },
  {
   "cell_type": "markdown",
   "metadata": {
    "slideshow": {
     "slide_type": "subslide"
    }
   },
   "source": [
    "### Data loading\n",
    "- the data can directly be loaded from dataset loaders in Stellar Graph\n",
    "  - later we also see how to load this data from file"
   ]
  },
  {
   "cell_type": "code",
   "execution_count": 3,
   "metadata": {},
   "outputs": [
    {
     "name": "stdout",
     "output_type": "stream",
     "text": [
      "StellarGraph: Undirected multigraph\n",
      " Nodes: 2708, Edges: 5429\n",
      "\n",
      " Node types:\n",
      "  paper: [2708]\n",
      "    Features: float32 vector, length 1433\n",
      "    Edge types: paper-cites->paper\n",
      "\n",
      " Edge types:\n",
      "    paper-cites->paper: [5429]\n",
      "        Weights: all 1 (default)\n",
      "        Features: none\n",
      "\n",
      "\n",
      "node subjects:\n",
      "31336             Neural_Networks\n",
      "1061127             Rule_Learning\n",
      "1106406    Reinforcement_Learning\n",
      "13195      Reinforcement_Learning\n",
      "37879       Probabilistic_Methods\n",
      "                    ...          \n",
      "1128975        Genetic_Algorithms\n",
      "1128977        Genetic_Algorithms\n",
      "1128978        Genetic_Algorithms\n",
      "117328                 Case_Based\n",
      "24043             Neural_Networks\n",
      "Name: subject, Length: 2708, dtype: object\n"
     ]
    }
   ],
   "source": [
    "import stellargraph as sg\n",
    "\n",
    "dataset = sg.datasets.Cora()\n",
    "G, node_subjects = dataset.load()\n",
    "\n",
    "print(G.info())\n",
    "print(\"\\n\\nnode subjects:\")\n",
    "print(node_subjects)"
   ]
  },
  {
   "cell_type": "markdown",
   "metadata": {
    "slideshow": {
     "slide_type": "subslide"
    }
   },
   "source": [
    "### Analyze the Target Variable"
   ]
  },
  {
   "cell_type": "code",
   "execution_count": 4,
   "metadata": {},
   "outputs": [
    {
     "data": {
      "text/html": [
       "<div>\n",
       "<style scoped>\n",
       "    .dataframe tbody tr th:only-of-type {\n",
       "        vertical-align: middle;\n",
       "    }\n",
       "\n",
       "    .dataframe tbody tr th {\n",
       "        vertical-align: top;\n",
       "    }\n",
       "\n",
       "    .dataframe thead th {\n",
       "        text-align: right;\n",
       "    }\n",
       "</style>\n",
       "<table border=\"1\" class=\"dataframe\">\n",
       "  <thead>\n",
       "    <tr style=\"text-align: right;\">\n",
       "      <th></th>\n",
       "      <th>subject</th>\n",
       "    </tr>\n",
       "  </thead>\n",
       "  <tbody>\n",
       "    <tr>\n",
       "      <th>Neural_Networks</th>\n",
       "      <td>818</td>\n",
       "    </tr>\n",
       "    <tr>\n",
       "      <th>Probabilistic_Methods</th>\n",
       "      <td>426</td>\n",
       "    </tr>\n",
       "    <tr>\n",
       "      <th>Genetic_Algorithms</th>\n",
       "      <td>418</td>\n",
       "    </tr>\n",
       "    <tr>\n",
       "      <th>Theory</th>\n",
       "      <td>351</td>\n",
       "    </tr>\n",
       "    <tr>\n",
       "      <th>Case_Based</th>\n",
       "      <td>298</td>\n",
       "    </tr>\n",
       "    <tr>\n",
       "      <th>Reinforcement_Learning</th>\n",
       "      <td>217</td>\n",
       "    </tr>\n",
       "    <tr>\n",
       "      <th>Rule_Learning</th>\n",
       "      <td>180</td>\n",
       "    </tr>\n",
       "  </tbody>\n",
       "</table>\n",
       "</div>"
      ],
      "text/plain": [
       "                        subject\n",
       "Neural_Networks             818\n",
       "Probabilistic_Methods       426\n",
       "Genetic_Algorithms          418\n",
       "Theory                      351\n",
       "Case_Based                  298\n",
       "Reinforcement_Learning      217\n",
       "Rule_Learning               180"
      ]
     },
     "execution_count": 4,
     "metadata": {},
     "output_type": "execute_result"
    }
   ],
   "source": [
    "node_subjects.value_counts().to_frame()"
   ]
  },
  {
   "cell_type": "markdown",
   "metadata": {},
   "source": [
    "### Split into Training, Validation, and Test\n",
    "- `node_subjects` is a pandas `Series`\n",
    "  - the index of it corresponds to the node id\n",
    "  - the value corresponds to the target\n",
    "  - thus we only need to split the `node_subjects`"
   ]
  },
  {
   "cell_type": "code",
   "execution_count": 5,
   "metadata": {},
   "outputs": [
    {
     "name": "stdout",
     "output_type": "stream",
     "text": [
      "train: 140 validation: 500 test: 2068\n"
     ]
    }
   ],
   "source": [
    "from sklearn.model_selection import train_test_split \n",
    "\n",
    "node_ids = node_subjects.index\n",
    "targets = node_subjects.values\n",
    "\n",
    "node_ids_train, node_ids_test, target_train, target_test = train_test_split(\n",
    "    node_ids, targets, train_size=140, stratify=targets, random_state=1278\n",
    ")\n",
    "node_ids_val, node_ids_test, target_val, target_test = train_test_split(\n",
    "    node_ids_test, target_test, train_size=500, stratify=target_test, random_state=1278\n",
    ")\n",
    "print(f\"train: {len(target_train)} validation: {len(target_val)} test: {len(target_test)}\")"
   ]
  },
  {
   "cell_type": "markdown",
   "metadata": {},
   "source": [
    "### Encode the target variable\n",
    "- **one-hot representation** of the target variable is compared to the model’s **soft-max output**"
   ]
  },
  {
   "cell_type": "code",
   "execution_count": 6,
   "metadata": {},
   "outputs": [
    {
     "data": {
      "text/plain": [
       "array([[0, 1, 0, 0, 0, 0, 0],\n",
       "       [0, 0, 0, 1, 0, 0, 0],\n",
       "       [1, 0, 0, 0, 0, 0, 0],\n",
       "       [0, 0, 1, 0, 0, 0, 0],\n",
       "       [0, 0, 0, 0, 0, 0, 1],\n",
       "       [0, 0, 0, 1, 0, 0, 0],\n",
       "       [0, 0, 0, 1, 0, 0, 0],\n",
       "       [1, 0, 0, 0, 0, 0, 0],\n",
       "       [0, 0, 1, 0, 0, 0, 0],\n",
       "       [1, 0, 0, 0, 0, 0, 0]])"
      ]
     },
     "execution_count": 6,
     "metadata": {},
     "output_type": "execute_result"
    }
   ],
   "source": [
    "from sklearn.preprocessing import LabelBinarizer\n",
    "\n",
    "target_encoding = LabelBinarizer()\n",
    "\n",
    "enc_target_train = target_encoding.fit_transform(target_train) # here calling fit_transform to create the mapping\n",
    "enc_target_val = target_encoding.transform(target_val) # here only transform to apply the mapping\n",
    "enc_target_test = target_encoding.transform(target_test)\n",
    "\n",
    "enc_target_train[:10]"
   ]
  },
  {
   "cell_type": "markdown",
   "metadata": {
    "slideshow": {
     "slide_type": "subslide"
    }
   },
   "source": [
    "### Creating Tranformation from Graph to Vector"
   ]
  },
  {
   "cell_type": "markdown",
   "metadata": {},
   "source": [
    "The machine learning model in StellarGraph consists of:\n",
    "- the graph layers such as graph convolution, dense layers etc\n",
    "- a **data generator** to convert the graph structure (including node features) into vectors fed into the network\n",
    "\n",
    "In this example we will use [`FullBatchNodeGenerator`](https://stellargraph.readthedocs.io/en/stable/api.html#stellargraph.mapper.FullBatchNodeGenerator) as the data generator (many more exists for different tasks)\n",
    "- `method='gcn'` is specified to yield data for GCN\n",
    "  - capture the graph structure with the [normalized graph Laplacian matrix](https://en.wikipedia.org/wiki/Laplacian_matrix#Symmetric_normalized_Laplacian)\n",
    "- call the [`flow`](https://stellargraph.readthedocs.io/en/stable/api.html#stellargraph.mapper.FullBatchNodeGenerator.flow) function to actually do the transformation\n",
    "  - this function expects as the first parameter the `node_ids`\n",
    "  - second parameter: `targets`"
   ]
  },
  {
   "cell_type": "code",
   "execution_count": 7,
   "metadata": {},
   "outputs": [
    {
     "name": "stdout",
     "output_type": "stream",
     "text": [
      "Using GCN (local pooling) filters...\n"
     ]
    }
   ],
   "source": [
    "from stellargraph.mapper import FullBatchNodeGenerator\n",
    "generator = FullBatchNodeGenerator(G, method=\"gcn\") # create the generator\n",
    "\n",
    "# call the flow function to create the input for the network\n",
    "# needs node ids and targets (in this example one hot encoded)\n",
    "train_gen = generator.flow(node_ids_train, enc_target_train)"
   ]
  },
  {
   "cell_type": "markdown",
   "metadata": {
    "slideshow": {
     "slide_type": "subslide"
    }
   },
   "source": [
    "### Creating the GCN layers and model\n",
    "- StellarGraph uses Keras (Tensorflow) instead of PyTorch\n",
    "  - but the idea is still the same\n",
    "- using the [`GCN`](https://stellargraph.readthedocs.io/en/stable/api.html#stellargraph.layer.GCN) layer to do the actual [graph convolution](https://stellargraph.readthedocs.io/en/stable/api.html#stellargraph.layer.GraphConvolution)\n",
    "  - parameters:\n",
    "     - `layer_sizes`: the number of hidden GCN layers and their sizes\n",
    "     - `activations`: the activation to apply to each GCN layer’s output\n",
    "     - `dropout`: the rate of dropout for the input of each GCN layer"
   ]
  },
  {
   "cell_type": "code",
   "execution_count": 8,
   "metadata": {},
   "outputs": [
    {
     "name": "stderr",
     "output_type": "stream",
     "text": [
      "C:\\tools\\Anaconda3\\envs\\dm1\\lib\\site-packages\\keras\\optimizer_v2\\adam.py:105: UserWarning: The `lr` argument is deprecated, use `learning_rate` instead.\n",
      "  super(Adam, self).__init__(name, **kwargs)\n"
     ]
    }
   ],
   "source": [
    "from stellargraph.layer import GCN\n",
    "from tensorflow.keras import layers, optimizers, losses, metrics, Model\n",
    "\n",
    "gcn = GCN(layer_sizes=[16, 16], activations=[\"relu\", \"relu\"], generator=generator, dropout=0.5)\n",
    "x_inp, x_out = gcn.in_out_tensors()\n",
    "\n",
    "# creating a dense layer to map to the correct number of classes\n",
    "# because the output of the GCN layer is a 16-dimensional vector (we only have 7 target classes)\n",
    "predictions = layers.Dense(units=enc_target_train.shape[1], activation=\"softmax\")(x_out) \n",
    "\n",
    "model = Model(inputs=x_inp, outputs=predictions)\n",
    "model.compile(\n",
    "    optimizer=optimizers.Adam(lr=0.01),\n",
    "    loss=losses.categorical_crossentropy,\n",
    "    metrics=[\"acc\"],\n",
    ")"
   ]
  },
  {
   "cell_type": "markdown",
   "metadata": {
    "slideshow": {
     "slide_type": "subslide"
    }
   },
   "source": [
    "### Train the Model\n",
    "- generate a validation data to measure overfitting\n",
    "  - use it for early stopping\n",
    "- fit the model"
   ]
  },
  {
   "cell_type": "code",
   "execution_count": 9,
   "metadata": {},
   "outputs": [
    {
     "name": "stdout",
     "output_type": "stream",
     "text": [
      "Epoch 1/200\n",
      "1/1 [==============================] - 5s 5s/step - loss: 1.9541 - acc: 0.0786 - val_loss: 1.9209 - val_acc: 0.3580\n",
      "Epoch 2/200\n",
      "1/1 [==============================] - 0s 393ms/step - loss: 1.9147 - acc: 0.3571 - val_loss: 1.8915 - val_acc: 0.3960\n",
      "Epoch 3/200\n",
      "1/1 [==============================] - 0s 385ms/step - loss: 1.8680 - acc: 0.4000 - val_loss: 1.8478 - val_acc: 0.3920\n",
      "Epoch 4/200\n",
      "1/1 [==============================] - 0s 383ms/step - loss: 1.8097 - acc: 0.3714 - val_loss: 1.7917 - val_acc: 0.3540\n",
      "Epoch 5/200\n",
      "1/1 [==============================] - 0s 384ms/step - loss: 1.7327 - acc: 0.3643 - val_loss: 1.7296 - val_acc: 0.3520\n",
      "Epoch 6/200\n",
      "1/1 [==============================] - 0s 448ms/step - loss: 1.6518 - acc: 0.3500 - val_loss: 1.6680 - val_acc: 0.3460\n",
      "Epoch 7/200\n",
      "1/1 [==============================] - 0s 499ms/step - loss: 1.5623 - acc: 0.3786 - val_loss: 1.6049 - val_acc: 0.3660\n",
      "Epoch 8/200\n",
      "1/1 [==============================] - 1s 568ms/step - loss: 1.4887 - acc: 0.4143 - val_loss: 1.5409 - val_acc: 0.4300\n",
      "Epoch 9/200\n",
      "1/1 [==============================] - 0s 412ms/step - loss: 1.4277 - acc: 0.4500 - val_loss: 1.4773 - val_acc: 0.4760\n",
      "Epoch 10/200\n",
      "1/1 [==============================] - 0s 490ms/step - loss: 1.3418 - acc: 0.5286 - val_loss: 1.4175 - val_acc: 0.5320\n",
      "Epoch 11/200\n",
      "1/1 [==============================] - 0s 421ms/step - loss: 1.2692 - acc: 0.5571 - val_loss: 1.3611 - val_acc: 0.5360\n",
      "Epoch 12/200\n",
      "1/1 [==============================] - 0s 379ms/step - loss: 1.1716 - acc: 0.6000 - val_loss: 1.3061 - val_acc: 0.5540\n",
      "Epoch 13/200\n",
      "1/1 [==============================] - 0s 429ms/step - loss: 1.0923 - acc: 0.5857 - val_loss: 1.2520 - val_acc: 0.5740\n",
      "Epoch 14/200\n",
      "1/1 [==============================] - 0s 367ms/step - loss: 1.0085 - acc: 0.6357 - val_loss: 1.2000 - val_acc: 0.5920\n",
      "Epoch 15/200\n",
      "1/1 [==============================] - 0s 372ms/step - loss: 0.9231 - acc: 0.6786 - val_loss: 1.1512 - val_acc: 0.6180\n",
      "Epoch 16/200\n",
      "1/1 [==============================] - 0s 382ms/step - loss: 0.8686 - acc: 0.6786 - val_loss: 1.1005 - val_acc: 0.6600\n",
      "Epoch 17/200\n",
      "1/1 [==============================] - 0s 393ms/step - loss: 0.7894 - acc: 0.7571 - val_loss: 1.0495 - val_acc: 0.6900\n",
      "Epoch 18/200\n",
      "1/1 [==============================] - 0s 401ms/step - loss: 0.7723 - acc: 0.7929 - val_loss: 1.0008 - val_acc: 0.7000\n",
      "Epoch 19/200\n",
      "1/1 [==============================] - 0s 379ms/step - loss: 0.7142 - acc: 0.7786 - val_loss: 0.9568 - val_acc: 0.7060\n",
      "Epoch 20/200\n",
      "1/1 [==============================] - 0s 381ms/step - loss: 0.6663 - acc: 0.7714 - val_loss: 0.9170 - val_acc: 0.7060\n",
      "Epoch 21/200\n",
      "1/1 [==============================] - 0s 417ms/step - loss: 0.5856 - acc: 0.8071 - val_loss: 0.8835 - val_acc: 0.7120\n",
      "Epoch 22/200\n",
      "1/1 [==============================] - 0s 390ms/step - loss: 0.5651 - acc: 0.7714 - val_loss: 0.8524 - val_acc: 0.7200\n",
      "Epoch 23/200\n",
      "1/1 [==============================] - 0s 376ms/step - loss: 0.5454 - acc: 0.8214 - val_loss: 0.8249 - val_acc: 0.7280\n",
      "Epoch 24/200\n",
      "1/1 [==============================] - 0s 385ms/step - loss: 0.4751 - acc: 0.8571 - val_loss: 0.7996 - val_acc: 0.7380\n",
      "Epoch 25/200\n",
      "1/1 [==============================] - 0s 413ms/step - loss: 0.4566 - acc: 0.8857 - val_loss: 0.7789 - val_acc: 0.7420\n",
      "Epoch 26/200\n",
      "1/1 [==============================] - 0s 380ms/step - loss: 0.4455 - acc: 0.8429 - val_loss: 0.7630 - val_acc: 0.7560\n",
      "Epoch 27/200\n",
      "1/1 [==============================] - 0s 382ms/step - loss: 0.3595 - acc: 0.8571 - val_loss: 0.7506 - val_acc: 0.7600\n",
      "Epoch 28/200\n",
      "1/1 [==============================] - 0s 386ms/step - loss: 0.3508 - acc: 0.9071 - val_loss: 0.7392 - val_acc: 0.7720\n",
      "Epoch 29/200\n",
      "1/1 [==============================] - 0s 375ms/step - loss: 0.3270 - acc: 0.9071 - val_loss: 0.7292 - val_acc: 0.7800\n",
      "Epoch 30/200\n",
      "1/1 [==============================] - 0s 377ms/step - loss: 0.3255 - acc: 0.9143 - val_loss: 0.7195 - val_acc: 0.7800\n",
      "Epoch 31/200\n",
      "1/1 [==============================] - 0s 391ms/step - loss: 0.3034 - acc: 0.9000 - val_loss: 0.7103 - val_acc: 0.7820\n",
      "Epoch 32/200\n",
      "1/1 [==============================] - 0s 392ms/step - loss: 0.2693 - acc: 0.9571 - val_loss: 0.7030 - val_acc: 0.7940\n",
      "Epoch 33/200\n",
      "1/1 [==============================] - 0s 405ms/step - loss: 0.2239 - acc: 0.9786 - val_loss: 0.6970 - val_acc: 0.7960\n",
      "Epoch 34/200\n",
      "1/1 [==============================] - 0s 401ms/step - loss: 0.2583 - acc: 0.9286 - val_loss: 0.6892 - val_acc: 0.7980\n",
      "Epoch 35/200\n",
      "1/1 [==============================] - 0s 420ms/step - loss: 0.2092 - acc: 0.9643 - val_loss: 0.6831 - val_acc: 0.7960\n",
      "Epoch 36/200\n",
      "1/1 [==============================] - 0s 397ms/step - loss: 0.1796 - acc: 0.9857 - val_loss: 0.6772 - val_acc: 0.7960\n",
      "Epoch 37/200\n",
      "1/1 [==============================] - 0s 378ms/step - loss: 0.2274 - acc: 0.9429 - val_loss: 0.6776 - val_acc: 0.7920\n",
      "Epoch 38/200\n",
      "1/1 [==============================] - 1s 512ms/step - loss: 0.1787 - acc: 0.9786 - val_loss: 0.6832 - val_acc: 0.7980\n",
      "Epoch 39/200\n",
      "1/1 [==============================] - 0s 480ms/step - loss: 0.1573 - acc: 0.9714 - val_loss: 0.6875 - val_acc: 0.7940\n",
      "Epoch 40/200\n",
      "1/1 [==============================] - 0s 403ms/step - loss: 0.1574 - acc: 0.9857 - val_loss: 0.6929 - val_acc: 0.7860\n",
      "Epoch 41/200\n",
      "1/1 [==============================] - 1s 519ms/step - loss: 0.1617 - acc: 0.9571 - val_loss: 0.7014 - val_acc: 0.7920\n",
      "Epoch 42/200\n",
      "1/1 [==============================] - 1s 588ms/step - loss: 0.1384 - acc: 0.9786 - val_loss: 0.7073 - val_acc: 0.7940\n",
      "Epoch 43/200\n",
      "1/1 [==============================] - 0s 484ms/step - loss: 0.1229 - acc: 0.9786 - val_loss: 0.7184 - val_acc: 0.7920\n",
      "Epoch 44/200\n",
      "1/1 [==============================] - 1s 676ms/step - loss: 0.1360 - acc: 0.9571 - val_loss: 0.7291 - val_acc: 0.7960\n",
      "Epoch 45/200\n",
      "1/1 [==============================] - 1s 720ms/step - loss: 0.1336 - acc: 0.9714 - val_loss: 0.7450 - val_acc: 0.7960\n",
      "Epoch 46/200\n",
      "1/1 [==============================] - 1s 535ms/step - loss: 0.0859 - acc: 0.9929 - val_loss: 0.7684 - val_acc: 0.8000\n",
      "Epoch 47/200\n",
      "1/1 [==============================] - 1s 645ms/step - loss: 0.0809 - acc: 0.9929 - val_loss: 0.7861 - val_acc: 0.7980\n",
      "Epoch 48/200\n",
      "1/1 [==============================] - 1s 651ms/step - loss: 0.1487 - acc: 0.9500 - val_loss: 0.7927 - val_acc: 0.8000\n",
      "Epoch 49/200\n",
      "1/1 [==============================] - 1s 787ms/step - loss: 0.1126 - acc: 0.9643 - val_loss: 0.8076 - val_acc: 0.7960\n",
      "Epoch 50/200\n",
      "1/1 [==============================] - 1s 521ms/step - loss: 0.1310 - acc: 0.9500 - val_loss: 0.8067 - val_acc: 0.7940\n",
      "Epoch 51/200\n",
      "1/1 [==============================] - 1s 576ms/step - loss: 0.0527 - acc: 0.9929 - val_loss: 0.8091 - val_acc: 0.7880\n",
      "Epoch 52/200\n",
      "1/1 [==============================] - 1s 746ms/step - loss: 0.0904 - acc: 0.9643 - val_loss: 0.8075 - val_acc: 0.7860\n",
      "Epoch 53/200\n",
      "1/1 [==============================] - 1s 513ms/step - loss: 0.0634 - acc: 0.9857 - val_loss: 0.8126 - val_acc: 0.7820\n",
      "Epoch 54/200\n",
      "1/1 [==============================] - 0s 436ms/step - loss: 0.0894 - acc: 0.9929 - val_loss: 0.8073 - val_acc: 0.7840\n",
      "Epoch 55/200\n",
      "1/1 [==============================] - 0s 357ms/step - loss: 0.0785 - acc: 0.9786 - val_loss: 0.7975 - val_acc: 0.7960\n",
      "Epoch 56/200\n",
      "1/1 [==============================] - 1s 836ms/step - loss: 0.0609 - acc: 0.9929 - val_loss: 0.7928 - val_acc: 0.7920\n",
      "Epoch 57/200\n",
      "1/1 [==============================] - 0s 400ms/step - loss: 0.0404 - acc: 0.9929 - val_loss: 0.7892 - val_acc: 0.7880\n",
      "Epoch 58/200\n",
      "1/1 [==============================] - 0s 374ms/step - loss: 0.0694 - acc: 0.9857 - val_loss: 0.7913 - val_acc: 0.7860\n",
      "Epoch 59/200\n",
      "1/1 [==============================] - 0s 493ms/step - loss: 0.0456 - acc: 0.9857 - val_loss: 0.7955 - val_acc: 0.7800\n",
      "Epoch 60/200\n",
      "1/1 [==============================] - 1s 690ms/step - loss: 0.0635 - acc: 0.9786 - val_loss: 0.8056 - val_acc: 0.7820\n",
      "Epoch 61/200\n",
      "1/1 [==============================] - 1s 629ms/step - loss: 0.0664 - acc: 0.9786 - val_loss: 0.8192 - val_acc: 0.7920\n",
      "Epoch 62/200\n",
      "1/1 [==============================] - 1s 625ms/step - loss: 0.0635 - acc: 0.9929 - val_loss: 0.8359 - val_acc: 0.7900\n",
      "Epoch 63/200\n",
      "1/1 [==============================] - 1s 640ms/step - loss: 0.0652 - acc: 0.9786 - val_loss: 0.8515 - val_acc: 0.7940\n",
      "Epoch 64/200\n",
      "1/1 [==============================] - 1s 630ms/step - loss: 0.0598 - acc: 0.9786 - val_loss: 0.8605 - val_acc: 0.7940\n",
      "Epoch 65/200\n",
      "1/1 [==============================] - 0s 416ms/step - loss: 0.0294 - acc: 0.9929 - val_loss: 0.8663 - val_acc: 0.7940\n",
      "Epoch 66/200\n",
      "1/1 [==============================] - 1s 504ms/step - loss: 0.0382 - acc: 0.9929 - val_loss: 0.8719 - val_acc: 0.7920\n",
      "Epoch 67/200\n",
      "1/1 [==============================] - 1s 936ms/step - loss: 0.0756 - acc: 0.9786 - val_loss: 0.8755 - val_acc: 0.7940\n",
      "Epoch 68/200\n",
      "1/1 [==============================] - 0s 385ms/step - loss: 0.0489 - acc: 0.9857 - val_loss: 0.8753 - val_acc: 0.7880\n",
      "Epoch 69/200\n",
      "1/1 [==============================] - 0s 296ms/step - loss: 0.0574 - acc: 0.9786 - val_loss: 0.8764 - val_acc: 0.7880\n",
      "Epoch 70/200\n",
      "1/1 [==============================] - 0s 280ms/step - loss: 0.0422 - acc: 0.9929 - val_loss: 0.8778 - val_acc: 0.7860\n",
      "Epoch 71/200\n",
      "1/1 [==============================] - 0s 268ms/step - loss: 0.0538 - acc: 0.9857 - val_loss: 0.8820 - val_acc: 0.7900\n",
      "Epoch 72/200\n",
      "1/1 [==============================] - 0s 258ms/step - loss: 0.0841 - acc: 0.9857 - val_loss: 0.8885 - val_acc: 0.7860\n",
      "Epoch 73/200\n",
      "1/1 [==============================] - 0s 258ms/step - loss: 0.0248 - acc: 0.9929 - val_loss: 0.8985 - val_acc: 0.7880\n",
      "Epoch 74/200\n",
      "1/1 [==============================] - 0s 312ms/step - loss: 0.0190 - acc: 1.0000 - val_loss: 0.9115 - val_acc: 0.7860\n",
      "Epoch 75/200\n",
      "1/1 [==============================] - 0s 301ms/step - loss: 0.0392 - acc: 0.9929 - val_loss: 0.9239 - val_acc: 0.7820\n",
      "Epoch 76/200\n",
      "1/1 [==============================] - 0s 272ms/step - loss: 0.0520 - acc: 0.9857 - val_loss: 0.9323 - val_acc: 0.7820\n",
      "Epoch 77/200\n",
      "1/1 [==============================] - 0s 282ms/step - loss: 0.0539 - acc: 0.9857 - val_loss: 0.9382 - val_acc: 0.7840\n",
      "Epoch 78/200\n",
      "1/1 [==============================] - 0s 264ms/step - loss: 0.0498 - acc: 0.9786 - val_loss: 0.9415 - val_acc: 0.7820\n",
      "Epoch 79/200\n",
      "1/1 [==============================] - 0s 298ms/step - loss: 0.0335 - acc: 0.9929 - val_loss: 0.9485 - val_acc: 0.7860\n",
      "Epoch 80/200\n",
      "1/1 [==============================] - 0s 293ms/step - loss: 0.0372 - acc: 0.9857 - val_loss: 0.9500 - val_acc: 0.7900\n",
      "Epoch 81/200\n",
      "1/1 [==============================] - 0s 292ms/step - loss: 0.0126 - acc: 1.0000 - val_loss: 0.9500 - val_acc: 0.7920\n",
      "Epoch 82/200\n",
      "1/1 [==============================] - 0s 293ms/step - loss: 0.0326 - acc: 0.9929 - val_loss: 0.9441 - val_acc: 0.7900\n",
      "Epoch 83/200\n",
      "1/1 [==============================] - 0s 437ms/step - loss: 0.0535 - acc: 0.9857 - val_loss: 0.9464 - val_acc: 0.7920\n",
      "Epoch 84/200\n",
      "1/1 [==============================] - 0s 320ms/step - loss: 0.0124 - acc: 1.0000 - val_loss: 0.9510 - val_acc: 0.7900\n",
      "Epoch 85/200\n",
      "1/1 [==============================] - 0s 315ms/step - loss: 0.0809 - acc: 0.9786 - val_loss: 0.9512 - val_acc: 0.7880\n",
      "Epoch 86/200\n",
      "1/1 [==============================] - 0s 335ms/step - loss: 0.0366 - acc: 0.9929 - val_loss: 0.9682 - val_acc: 0.7900\n",
      "Epoch 87/200\n",
      "1/1 [==============================] - 0s 288ms/step - loss: 0.0368 - acc: 0.9857 - val_loss: 0.9867 - val_acc: 0.7880\n",
      "Epoch 88/200\n",
      "1/1 [==============================] - 0s 284ms/step - loss: 0.0253 - acc: 1.0000 - val_loss: 1.0007 - val_acc: 0.7940\n",
      "Epoch 89/200\n",
      "1/1 [==============================] - 0s 382ms/step - loss: 0.0392 - acc: 1.0000 - val_loss: 1.0089 - val_acc: 0.7880\n",
      "Epoch 90/200\n",
      "1/1 [==============================] - 0s 292ms/step - loss: 0.0228 - acc: 1.0000 - val_loss: 1.0180 - val_acc: 0.7860\n",
      "Epoch 91/200\n",
      "1/1 [==============================] - 0s 293ms/step - loss: 0.0321 - acc: 0.9929 - val_loss: 1.0120 - val_acc: 0.7860\n",
      "Epoch 92/200\n",
      "1/1 [==============================] - 0s 241ms/step - loss: 0.0247 - acc: 0.9929 - val_loss: 1.0048 - val_acc: 0.7920\n",
      "Epoch 93/200\n",
      "1/1 [==============================] - 0s 255ms/step - loss: 0.0209 - acc: 1.0000 - val_loss: 0.9944 - val_acc: 0.7880\n",
      "Epoch 94/200\n",
      "1/1 [==============================] - 0s 292ms/step - loss: 0.0544 - acc: 0.9857 - val_loss: 0.9844 - val_acc: 0.7920\n",
      "Epoch 95/200\n",
      "1/1 [==============================] - 0s 271ms/step - loss: 0.0392 - acc: 0.9929 - val_loss: 0.9785 - val_acc: 0.7900\n",
      "Epoch 96/200\n",
      "1/1 [==============================] - 0s 253ms/step - loss: 0.0592 - acc: 0.9857 - val_loss: 0.9763 - val_acc: 0.7860\n"
     ]
    }
   ],
   "source": [
    "from tensorflow.keras.callbacks import EarlyStopping\n",
    "\n",
    "val_gen = generator.flow(node_ids_val, enc_target_val)\n",
    "es_callback = EarlyStopping(monitor=\"val_acc\", patience=50, restore_best_weights=True)\n",
    "\n",
    "history = model.fit(\n",
    "    train_gen,\n",
    "    epochs=200,\n",
    "    validation_data=val_gen,\n",
    "    shuffle=False,  # this should be False, since shuffling data means shuffling the whole graph\n",
    "    callbacks=[es_callback],\n",
    ")"
   ]
  },
  {
   "cell_type": "markdown",
   "metadata": {
    "slideshow": {
     "slide_type": "subslide"
    }
   },
   "source": [
    "### Analyze the training progress\n",
    "- StellarGraph has a nice function to plot the train and validation accuracy/loss"
   ]
  },
  {
   "cell_type": "code",
   "execution_count": 10,
   "metadata": {},
   "outputs": [
    {
     "data": {
      "image/png": "[encoded data removed]",
      "text/plain": [
       "<Figure size 504x576 with 2 Axes>"
      ]
     },
     "metadata": {
      "needs_background": "light"
     },
     "output_type": "display_data"
    }
   ],
   "source": [
    "sg.utils.plot_history(history)"
   ]
  },
  {
   "cell_type": "markdown",
   "metadata": {
    "slideshow": {
     "slide_type": "subslide"
    }
   },
   "source": [
    "### Test the Model\n",
    "- as usual we test our model on the test data to see how well it will perform"
   ]
  },
  {
   "cell_type": "code",
   "execution_count": 11,
   "metadata": {},
   "outputs": [
    {
     "name": "stdout",
     "output_type": "stream",
     "text": [
      "1/1 [==============================] - 0s 146ms/step - loss: 0.7720 - acc: 0.7998\n",
      "\n",
      "Test Set Metrics:\n",
      "\tloss: 0.7720\n",
      "\tacc: 0.7998\n"
     ]
    }
   ],
   "source": [
    "test_gen = generator.flow(node_ids_test, enc_target_test)\n",
    "test_metrics = model.evaluate(test_gen)\n",
    "print(\"\\nTest Set Metrics:\")\n",
    "for name, val in zip(model.metrics_names, test_metrics):\n",
    "    print(\"\\t{}: {:0.4f}\".format(name, val))"
   ]
  },
  {
   "cell_type": "markdown",
   "metadata": {
    "slideshow": {
     "slide_type": "subslide"
    }
   },
   "source": [
    "### Making predictions\n",
    "- now let's have a look on how to create predictions when we do not have any ground truth\n",
    "  - in this example we predict the labels for all nodes in the graph"
   ]
  },
  {
   "cell_type": "code",
   "execution_count": 12,
   "metadata": {
    "scrolled": true
   },
   "outputs": [
    {
     "name": "stdout",
     "output_type": "stream",
     "text": [
      "[[0.00000013 0.0000003  0.9998677  0.00002669 0.00000001 0.00001393 0.00009133]\n",
      " [0.02106215 0.02056529 0.0398931  0.03200551 0.0022184  0.77669364 0.1075619 ]\n",
      " [0.00103685 0.00007324 0.00002397 0.00011145 0.9962962  0.0000213  0.00243703]\n",
      " [0.00344947 0.00409031 0.00106709 0.01526868 0.9371091  0.00033466 0.03868066]\n",
      " [0.         0.00000009 0.00000009 0.99959534 0.00000001 0.00000051 0.00040396]\n",
      " [0.00003637 0.00222341 0.00058804 0.9088123  0.00447885 0.001105   0.08275613]\n",
      " [0.00129806 0.00271295 0.00775883 0.17215094 0.15815866 0.00390847 0.6540121 ]\n",
      " [0.00007543 0.00031793 0.9980426  0.00024782 0.00000602 0.00013369 0.00117658]\n",
      " [0.00000021 0.0000004  0.9998379  0.00003018 0.00000001 0.00001979 0.00011146]\n",
      " [0.00047295 0.00501547 0.1060646  0.05757733 0.0640369  0.0024659  0.7643668 ]]\n",
      "['Neural_Networks' 'Rule_Learning' 'Reinforcement_Learning' 'Reinforcement_Learning'\n",
      " 'Probabilistic_Methods' 'Probabilistic_Methods' 'Theory' 'Neural_Networks' 'Neural_Networks'\n",
      " 'Theory']\n"
     ]
    }
   ],
   "source": [
    "import numpy as np\n",
    "np.set_printoptions(linewidth=100, suppress=True) # don't use scientific notation\n",
    "\n",
    "# no target variable because we want to only predict\n",
    "all_gen = generator.flow(node_ids) \n",
    "\n",
    "# all_predictions is the one hot encoded vector of our classes\n",
    "all_predictions = model.predict(all_gen)\n",
    "print(all_predictions.squeeze()[:10])\n",
    "\n",
    "# let use the target_encoding to get the actual label back\n",
    "node_predictions = target_encoding.inverse_transform(all_predictions.squeeze())\n",
    "print(node_predictions[:10])"
   ]
  },
  {
   "cell_type": "markdown",
   "metadata": {
    "slideshow": {
     "slide_type": "subslide"
    }
   },
   "source": [
    "### Retrieve the Node Embeddings\n",
    "- if we want to get the fixed vector representation of each node, we need to change the model\n",
    "  - previously we added a dense layer on top to map to our classes which is not neccessary any more\n",
    "  - we just want to get the output of the `GCN` layer\n",
    "  - therefore we redefine our model"
   ]
  },
  {
   "cell_type": "code",
   "execution_count": 13,
   "metadata": {},
   "outputs": [
    {
     "data": {
      "text/plain": [
       "(1, 2708, 16)"
      ]
     },
     "execution_count": 13,
     "metadata": {},
     "output_type": "execute_result"
    }
   ],
   "source": [
    "# output is now the output of the GCN layer\n",
    "embedding_model = Model(inputs=x_inp, outputs=x_out)\n",
    "emb = embedding_model.predict(all_gen)\n",
    "emb.shape"
   ]
  },
  {
   "cell_type": "markdown",
   "metadata": {
    "slideshow": {
     "slide_type": "subslide"
    }
   },
   "source": [
    "### Plot the Embedding in 2D Space\n",
    "- in this example the embedding has 16 dimension which is hard for a human to look at\n",
    "  - the dimensionality is reduced to two\n",
    "  - common algorithms (implemented in scikit learn):\n",
    "    - [Principal Component Analysis (PCA)](https://scikit-learn.org/stable/modules/generated/sklearn.decomposition.PCA.html)\n",
    "    - [t-distributed Stochastic Neighbor Embedding (t-SNE or TSNE)](https://scikit-learn.org/stable/modules/generated/sklearn.manifold.TSNE.html)"
   ]
  },
  {
   "cell_type": "code",
   "execution_count": 14,
   "metadata": {},
   "outputs": [
    {
     "name": "stderr",
     "output_type": "stream",
     "text": [
      "C:\\tools\\Anaconda3\\envs\\dm1\\lib\\site-packages\\sklearn\\manifold\\_t_sne.py:780: FutureWarning: The default initialization in TSNE will change from 'random' to 'pca' in 1.2.\n",
      "  warnings.warn(\n",
      "C:\\tools\\Anaconda3\\envs\\dm1\\lib\\site-packages\\sklearn\\manifold\\_t_sne.py:790: FutureWarning: The default learning rate in TSNE will change from 200.0 to 'auto' in 1.2.\n",
      "  warnings.warn(\n"
     ]
    },
    {
     "data": {
      "text/plain": [
       "(2708, 2)"
      ]
     },
     "execution_count": 14,
     "metadata": {},
     "output_type": "execute_result"
    }
   ],
   "source": [
    "#from sklearn.decomposition import PCA\n",
    "from sklearn.manifold import TSNE\n",
    "\n",
    "X = emb.squeeze(0) # remove the first dimension which represents the batch (1, 2708, 16) -> (2708, 16)\n",
    "\n",
    "trans = TSNE(n_components=2) # TSNE can be replaced by PCA \n",
    "X_reduced = trans.fit_transform(X)\n",
    "X_reduced.shape"
   ]
  },
  {
   "cell_type": "code",
   "execution_count": 15,
   "metadata": {},
   "outputs": [
    {
     "data": {
      "text/plain": [
       "31336      2\n",
       "1061127    5\n",
       "1106406    4\n",
       "13195      4\n",
       "37879      3\n",
       "          ..\n",
       "1128975    1\n",
       "1128977    1\n",
       "1128978    1\n",
       "117328     0\n",
       "24043      2\n",
       "Length: 2708, dtype: int8"
      ]
     },
     "execution_count": 15,
     "metadata": {},
     "output_type": "execute_result"
    }
   ],
   "source": [
    "node_subjects.astype(\"category\").cat.codes"
   ]
  },
  {
   "cell_type": "code",
   "execution_count": 16,
   "metadata": {},
   "outputs": [
    {
     "data": {
      "image/png": "[encoded data removed]",
      "text/plain": [
       "<Figure size 504x504 with 1 Axes>"
      ]
     },
     "metadata": {
      "needs_background": "light"
     },
     "output_type": "display_data"
    }
   ],
   "source": [
    "import matplotlib.pyplot as plt\n",
    "\n",
    "fig, ax = plt.subplots(figsize=(7, 7))\n",
    "\n",
    "for target_value in np.unique(targets):\n",
    "    rows_of_target_value = np.where(targets==target_value)\n",
    "    ax.scatter(\n",
    "        X_reduced[rows_of_target_value, 0],\n",
    "        X_reduced[rows_of_target_value, 1],\n",
    "        alpha=0.4,\n",
    "        label=target_value\n",
    "    )\n",
    "\n",
    "ax.legend(bbox_to_anchor=(1.04,1));\n",
    "ax.set(\n",
    "    aspect=\"equal\",\n",
    "    xlabel=\"$X_1$\",\n",
    "    ylabel=\"$X_2$\",\n",
    "    title=f\"TSNE visualization of GCN embeddings for cora dataset\",\n",
    ");"
   ]
  },
  {
   "cell_type": "markdown",
   "metadata": {
    "slideshow": {
     "slide_type": "subslide"
    }
   },
   "source": [
    "## Node2Vec\n",
    "- now we use for the same task **Node2Vec**\n",
    "- basic idea behind is to \n",
    " 1. generate random walks in the graph\n",
    " 1. train a word2vec model on it\n",
    "\n",
    "\n",
    "- StellarGraph has implementations for random walks e.g. [`BiasedRandomWalk`](https://stellargraph.readthedocs.io/en/stable/api.html#stellargraph.data.BiasedRandomWalk)\n",
    "- parameters:\n",
    "  - `length`: maximum length of a random walk\n",
    "  - `n`: number of random walks per root node\n",
    "  - `p`: Defines (unormalised) probability, 1/p, of returning to source node\n",
    "  - `q`: Defines (unormalised) probability, 1/q, for moving away from source node"
   ]
  },
  {
   "cell_type": "code",
   "execution_count": 17,
   "metadata": {},
   "outputs": [
    {
     "name": "stdout",
     "output_type": "stream",
     "text": [
      "Number of random walks: 27080\n"
     ]
    }
   ],
   "source": [
    "from stellargraph.data import BiasedRandomWalk\n",
    "rw = BiasedRandomWalk(G)\n",
    "\n",
    "# can take some time...\n",
    "walks = rw.run(\n",
    "    nodes=list(G.nodes()),  # root nodes\n",
    "    length=100, n=10, p=0.5, q=2.0,\n",
    ")\n",
    "print(\"Number of random walks: {}\".format(len(walks)))"
   ]
  },
  {
   "cell_type": "markdown",
   "metadata": {
    "slideshow": {
     "slide_type": "subslide"
    }
   },
   "source": [
    "### Compute Node Embedding via Word2Vec\n",
    "- in this example we use the implementation of word2vec from gensim library\n",
    "- parameters for the [Word2Vec](https://radimrehurek.com/gensim/models/word2vec.html#gensim.models.word2vec.Word2Vec) model:\n",
    "  - `vector_size`: Dimensionality of the vectors\n",
    "  - `window`: Maximum distance between the current and predicted word within a walk\n",
    "  - `min_count`: Ignores all words with total frequency lower than this (should be set to 0 to include all nodes)\n",
    "  - `sg`: Training algorithm: 1 for skip-gram; otherwise CBOW\n",
    "  - `workers`: Use these many worker threads to train the model\n",
    "  - `epochs`: Number of iterations (epochs) over the corpus"
   ]
  },
  {
   "cell_type": "code",
   "execution_count": 18,
   "metadata": {},
   "outputs": [],
   "source": [
    "from gensim.models import Word2Vec\n",
    "\n",
    "str_walks = [[str(n) for n in walk] for walk in walks] # need to convert node ids to string\n",
    "\n",
    "# usually training longer than 1 epoch is necessary to learn a good model\n",
    "# parameter names in older gensim: vector_size -> size, epochs -> iter\n",
    "model = Word2Vec(str_walks, vector_size=128, window=5, min_count=0, sg=1, workers=2, epochs=1)"
   ]
  },
  {
   "cell_type": "markdown",
   "metadata": {
    "slideshow": {
     "slide_type": "subslide"
    }
   },
   "source": [
    "### Get the Embedding\n",
    "- embedding vectors can be retrieved from `model.wv` using the node ID as key"
   ]
  },
  {
   "cell_type": "code",
   "execution_count": 19,
   "metadata": {
    "scrolled": true
   },
   "outputs": [
    {
     "data": {
      "text/plain": [
       "array([ 0.06336308, -0.22181042, -0.0774212 ,  0.03256027,  0.3141983 ,  0.21183154, -0.08185443,\n",
       "        0.9395966 ,  0.25366303, -0.293692  ,  0.16298757, -0.4613215 , -0.3670247 , -0.6562351 ,\n",
       "       -0.15666883, -0.04041138, -0.14766955, -0.40861455,  0.11909629,  0.4460831 , -0.32373327,\n",
       "       -0.3562607 ,  0.30711073, -0.06855016, -0.785978  , -0.17470893, -0.1624135 ,  0.4295342 ,\n",
       "       -0.5760073 ,  0.00954579,  0.0891932 , -0.08751246, -0.39355874, -0.23344132, -0.7308601 ,\n",
       "       -0.4984202 ,  0.84725386,  0.16652182, -0.04170012, -0.02751265,  0.64892584, -0.44645792,\n",
       "        0.4006236 , -0.19428335, -0.3586973 , -0.78067136,  0.5242733 , -0.62109184, -0.28818312,\n",
       "        0.2713004 ,  0.23574336, -0.91070366, -0.17962228, -0.6705935 ,  0.12543036, -0.52535963,\n",
       "        0.3332295 ,  0.33311638, -0.10493669,  0.39280707, -0.43156907,  0.539816  ,  0.04177816,\n",
       "        0.30559903, -0.15191261, -0.10277524,  0.34702873, -0.33296168,  0.07409106, -0.18265311,\n",
       "       -0.43434298, -0.12339748, -0.10444414, -0.34059185, -0.26459968, -0.82048786, -0.52380985,\n",
       "       -0.7815617 , -0.2400535 , -0.07039651,  0.5192589 ,  0.29690903, -0.84975296, -0.59931344,\n",
       "       -0.69020337,  0.6806416 ,  0.1234725 ,  0.8469905 ,  0.05426019, -0.15648207,  0.01506084,\n",
       "       -0.1301379 , -0.07192416,  0.019929  ,  0.27170137,  0.38817817, -0.00931108, -0.14044021,\n",
       "       -0.7139038 ,  0.4843511 ,  0.24534298,  0.00022346, -0.6490953 , -0.22600196, -0.1450764 ,\n",
       "       -0.6296995 ,  0.36834267,  0.42075065, -0.22943391,  0.38940138,  0.19344392, -0.2109711 ,\n",
       "       -0.58717996,  0.44518477,  0.11854035,  0.23744237, -0.29142353,  0.18885554,  0.73809314,\n",
       "       -0.10151321, -0.12770282, -0.16651742, -0.05623204, -0.291273  ,  0.52342004,  0.4982562 ,\n",
       "        0.7061236 ,  0.98470926], dtype=float32)"
      ]
     },
     "execution_count": 19,
     "metadata": {},
     "output_type": "execute_result"
    }
   ],
   "source": [
    "model.wv[\"19231\"]"
   ]
  },
  {
   "cell_type": "markdown",
   "metadata": {
    "slideshow": {
     "slide_type": "subslide"
    }
   },
   "source": [
    "## Visualise Node Embeddings\n",
    "- this can be done similarly as for GCN"
   ]
  },
  {
   "cell_type": "code",
   "execution_count": 20,
   "metadata": {},
   "outputs": [
    {
     "name": "stderr",
     "output_type": "stream",
     "text": [
      "C:\\tools\\Anaconda3\\envs\\dm1\\lib\\site-packages\\sklearn\\manifold\\_t_sne.py:780: FutureWarning: The default initialization in TSNE will change from 'random' to 'pca' in 1.2.\n",
      "  warnings.warn(\n",
      "C:\\tools\\Anaconda3\\envs\\dm1\\lib\\site-packages\\sklearn\\manifold\\_t_sne.py:790: FutureWarning: The default learning rate in TSNE will change from 200.0 to 'auto' in 1.2.\n",
      "  warnings.warn(\n"
     ]
    }
   ],
   "source": [
    "# Retrieve node embeddings and corresponding subjects\n",
    "node_ids = model.wv.index_to_key  # list of node IDs, index2word in older gensim versions\n",
    "node_embeddings = (model.wv.vectors)  # numpy.ndarray of size number of nodes times embeddings dimensionality\n",
    "node_targets = node_subjects[[int(node_id) for node_id in node_ids]]\n",
    "\n",
    "# Apply t-SNE transformation on node embeddings\n",
    "tsne = TSNE(n_components=2)\n",
    "node_embeddings_2d = tsne.fit_transform(node_embeddings)"
   ]
  },
  {
   "cell_type": "code",
   "execution_count": 21,
   "metadata": {},
   "outputs": [
    {
     "data": {
      "image/png": "[encoded data removed]",
      "text/plain": [
       "<Figure size 576x576 with 1 Axes>"
      ]
     },
     "metadata": {
      "needs_background": "light"
     },
     "output_type": "display_data"
    }
   ],
   "source": [
    "fig, ax = plt.subplots(figsize=(8, 8))\n",
    "\n",
    "for target_value in np.unique(node_targets):\n",
    "    rows_of_target_value = np.where(node_targets==target_value)\n",
    "    ax.scatter(\n",
    "        node_embeddings_2d[rows_of_target_value, 0],\n",
    "        node_embeddings_2d[rows_of_target_value, 1],\n",
    "        alpha=0.4,\n",
    "        label=target_value\n",
    "    )\n",
    "\n",
    "ax.legend(bbox_to_anchor=(1.04,1));\n",
    "ax.set(\n",
    "    aspect=\"equal\",\n",
    "    xlabel=\"$X_1$\",\n",
    "    ylabel=\"$X_2$\",\n",
    "    title=f\"TSNE visualization of Node2Vec embeddings for cora dataset\",\n",
    ");"
   ]
  },
  {
   "cell_type": "markdown",
   "metadata": {
    "slideshow": {
     "slide_type": "subslide"
    }
   },
   "source": [
    "## Use Embeddings for Node Classification\n",
    "- split the data\n",
    "- apply usual classification"
   ]
  },
  {
   "cell_type": "code",
   "execution_count": 22,
   "metadata": {},
   "outputs": [
    {
     "name": "stdout",
     "output_type": "stream",
     "text": [
      "train: 270 test: 2438\n"
     ]
    }
   ],
   "source": [
    "X = node_embeddings\n",
    "y = np.array(node_targets)\n",
    "#train_size=140, stratify=targets, random_state=1278\n",
    "X_train, X_test, y_train, y_test = train_test_split(X, y, stratify=y, train_size=0.1, random_state=1278)\n",
    "print(f\"train: {len(X_train)} test: {len(X_test)}\")"
   ]
  },
  {
   "cell_type": "code",
   "execution_count": 23,
   "metadata": {},
   "outputs": [
    {
     "data": {
      "text/plain": [
       "LogisticRegressionCV(cv=10, max_iter=300, multi_class='ovr', scoring='accuracy',\n",
       "                     verbose=False)"
      ]
     },
     "execution_count": 23,
     "metadata": {},
     "output_type": "execute_result"
    }
   ],
   "source": [
    "from sklearn.linear_model import LogisticRegressionCV\n",
    "\n",
    "clf = LogisticRegressionCV(\n",
    "    Cs=10, cv=10, scoring=\"accuracy\", verbose=False, multi_class=\"ovr\", max_iter=300\n",
    ")\n",
    "clf.fit(X_train, y_train)"
   ]
  },
  {
   "cell_type": "code",
   "execution_count": 24,
   "metadata": {},
   "outputs": [],
   "source": [
    "y_pred = clf.predict(X_test)"
   ]
  },
  {
   "cell_type": "code",
   "execution_count": 25,
   "metadata": {},
   "outputs": [
    {
     "data": {
      "text/plain": [
       "0.7223133716160788"
      ]
     },
     "execution_count": 25,
     "metadata": {},
     "output_type": "execute_result"
    }
   ],
   "source": [
    "from sklearn.metrics import accuracy_score\n",
    "accuracy_score(y_test, y_pred)"
   ]
  },
  {
   "cell_type": "markdown",
   "metadata": {},
   "source": [
    "Due to the fact that we have not the same split as for GCN we cannot compare the accuracy score (this is done in the exercise)."
   ]
  },
  {
   "cell_type": "markdown",
   "metadata": {},
   "source": [
    "## Data loading from file\n",
    "\n",
    "- in case you want to apply these algorithms to your own files, you need to load the data usually from file\n",
    "\n",
    "- to load a simple `StellarGraph` \n",
    "  - you just need a pandas `Dataframe` with columns `source` and `target` representing the edges\n",
    "  - you can also specify the column names for source and target with `source_column=\"first\", target_column=\"second\"`"
   ]
  },
  {
   "cell_type": "code",
   "execution_count": 26,
   "metadata": {},
   "outputs": [
    {
     "data": {
      "text/html": [
       "<div>\n",
       "<style scoped>\n",
       "    .dataframe tbody tr th:only-of-type {\n",
       "        vertical-align: middle;\n",
       "    }\n",
       "\n",
       "    .dataframe tbody tr th {\n",
       "        vertical-align: top;\n",
       "    }\n",
       "\n",
       "    .dataframe thead th {\n",
       "        text-align: right;\n",
       "    }\n",
       "</style>\n",
       "<table border=\"1\" class=\"dataframe\">\n",
       "  <thead>\n",
       "    <tr style=\"text-align: right;\">\n",
       "      <th></th>\n",
       "      <th>source</th>\n",
       "      <th>target</th>\n",
       "    </tr>\n",
       "  </thead>\n",
       "  <tbody>\n",
       "    <tr>\n",
       "      <th>0</th>\n",
       "      <td>a</td>\n",
       "      <td>b</td>\n",
       "    </tr>\n",
       "    <tr>\n",
       "      <th>1</th>\n",
       "      <td>b</td>\n",
       "      <td>c</td>\n",
       "    </tr>\n",
       "    <tr>\n",
       "      <th>2</th>\n",
       "      <td>c</td>\n",
       "      <td>d</td>\n",
       "    </tr>\n",
       "    <tr>\n",
       "      <th>3</th>\n",
       "      <td>d</td>\n",
       "      <td>a</td>\n",
       "    </tr>\n",
       "    <tr>\n",
       "      <th>4</th>\n",
       "      <td>a</td>\n",
       "      <td>c</td>\n",
       "    </tr>\n",
       "  </tbody>\n",
       "</table>\n",
       "</div>"
      ],
      "text/plain": [
       "  source target\n",
       "0      a      b\n",
       "1      b      c\n",
       "2      c      d\n",
       "3      d      a\n",
       "4      a      c"
      ]
     },
     "metadata": {},
     "output_type": "display_data"
    },
    {
     "name": "stdout",
     "output_type": "stream",
     "text": [
      "StellarGraph: Undirected multigraph\n",
      " Nodes: 4, Edges: 5\n",
      "\n",
      " Node types:\n",
      "  default: [4]\n",
      "    Features: none\n",
      "    Edge types: default-default->default\n",
      "\n",
      " Edge types:\n",
      "    default-default->default: [5]\n",
      "        Weights: all 1 (default)\n",
      "        Features: none\n"
     ]
    }
   ],
   "source": [
    "import pandas as pd\n",
    "from stellargraph import StellarGraph\n",
    "\n",
    "simple_edges = pd.DataFrame(\n",
    "    {\"source\": [\"a\", \"b\", \"c\", \"d\", \"a\"], \"target\": [\"b\", \"c\", \"d\", \"a\", \"c\"]}\n",
    ")\n",
    "display(simple_edges)\n",
    "\n",
    "graph = StellarGraph(edges=simple_edges)\n",
    "print(graph.info())"
   ]
  },
  {
   "cell_type": "markdown",
   "metadata": {},
   "source": [
    "## Adding Data to the Edges\n",
    "- in case the edges have further information, they are added as additional columns \n",
    "  - **special case**: if you want to use edge weights/confidences then the column name needs to be **`weight`**\n",
    "  - all other columns are treated as additional **edge features**"
   ]
  },
  {
   "cell_type": "code",
   "execution_count": 27,
   "metadata": {},
   "outputs": [
    {
     "data": {
      "text/html": [
       "<div>\n",
       "<style scoped>\n",
       "    .dataframe tbody tr th:only-of-type {\n",
       "        vertical-align: middle;\n",
       "    }\n",
       "\n",
       "    .dataframe tbody tr th {\n",
       "        vertical-align: top;\n",
       "    }\n",
       "\n",
       "    .dataframe thead th {\n",
       "        text-align: right;\n",
       "    }\n",
       "</style>\n",
       "<table border=\"1\" class=\"dataframe\">\n",
       "  <thead>\n",
       "    <tr style=\"text-align: right;\">\n",
       "      <th></th>\n",
       "      <th>source</th>\n",
       "      <th>target</th>\n",
       "      <th>weight</th>\n",
       "      <th>A</th>\n",
       "      <th>B</th>\n",
       "    </tr>\n",
       "  </thead>\n",
       "  <tbody>\n",
       "    <tr>\n",
       "      <th>0</th>\n",
       "      <td>a</td>\n",
       "      <td>b</td>\n",
       "      <td>1.00</td>\n",
       "      <td>0.4</td>\n",
       "      <td>12</td>\n",
       "    </tr>\n",
       "    <tr>\n",
       "      <th>1</th>\n",
       "      <td>b</td>\n",
       "      <td>c</td>\n",
       "      <td>0.20</td>\n",
       "      <td>0.1</td>\n",
       "      <td>34</td>\n",
       "    </tr>\n",
       "    <tr>\n",
       "      <th>2</th>\n",
       "      <td>c</td>\n",
       "      <td>d</td>\n",
       "      <td>3.40</td>\n",
       "      <td>0.9</td>\n",
       "      <td>56</td>\n",
       "    </tr>\n",
       "    <tr>\n",
       "      <th>3</th>\n",
       "      <td>d</td>\n",
       "      <td>a</td>\n",
       "      <td>5.67</td>\n",
       "      <td>0.0</td>\n",
       "      <td>78</td>\n",
       "    </tr>\n",
       "    <tr>\n",
       "      <th>4</th>\n",
       "      <td>a</td>\n",
       "      <td>c</td>\n",
       "      <td>1.00</td>\n",
       "      <td>0.9</td>\n",
       "      <td>90</td>\n",
       "    </tr>\n",
       "  </tbody>\n",
       "</table>\n",
       "</div>"
      ],
      "text/plain": [
       "  source target  weight    A   B\n",
       "0      a      b    1.00  0.4  12\n",
       "1      b      c    0.20  0.1  34\n",
       "2      c      d    3.40  0.9  56\n",
       "3      d      a    5.67  0.0  78\n",
       "4      a      c    1.00  0.9  90"
      ]
     },
     "metadata": {},
     "output_type": "display_data"
    },
    {
     "name": "stdout",
     "output_type": "stream",
     "text": [
      "StellarGraph: Undirected multigraph\n",
      " Nodes: 4, Edges: 5\n",
      "\n",
      " Node types:\n",
      "  default: [4]\n",
      "    Features: none\n",
      "    Edge types: default-default->default\n",
      "\n",
      " Edge types:\n",
      "    default-default->default: [5]\n",
      "        Weights: range=[0.2, 5.67], mean=2.254, std=2.25534\n",
      "        Features: float32 vector, length 2\n"
     ]
    }
   ],
   "source": [
    "enhanced_edges = pd.DataFrame(\n",
    "    {\n",
    "        \"source\": [\"a\", \"b\", \"c\", \"d\", \"a\"],\n",
    "        \"target\": [\"b\", \"c\", \"d\", \"a\", \"c\"],\n",
    "        \"weight\": [1.0, 0.2, 3.4, 5.67, 1.0],\n",
    "        \"A\": [0.4, 0.1, 0.9, 0, 0.9],\n",
    "        \"B\": [12, 34, 56, 78, 90],\n",
    "    }\n",
    ")\n",
    "display(enhanced_edges)\n",
    "\n",
    "graph = StellarGraph(edges=enhanced_edges)\n",
    "print(graph.info())"
   ]
  },
  {
   "cell_type": "markdown",
   "metadata": {},
   "source": [
    "### Adding Data to the Nodes\n",
    "\n",
    "- when the nodes have additional data, then another dataframe is necessary\n",
    "  - the dataframes index need to be the node id which is also used in the edges dataframe\n"
   ]
  },
  {
   "cell_type": "code",
   "execution_count": 28,
   "metadata": {},
   "outputs": [
    {
     "data": {
      "text/html": [
       "<div>\n",
       "<style scoped>\n",
       "    .dataframe tbody tr th:only-of-type {\n",
       "        vertical-align: middle;\n",
       "    }\n",
       "\n",
       "    .dataframe tbody tr th {\n",
       "        vertical-align: top;\n",
       "    }\n",
       "\n",
       "    .dataframe thead th {\n",
       "        text-align: right;\n",
       "    }\n",
       "</style>\n",
       "<table border=\"1\" class=\"dataframe\">\n",
       "  <thead>\n",
       "    <tr style=\"text-align: right;\">\n",
       "      <th></th>\n",
       "      <th>source</th>\n",
       "      <th>target</th>\n",
       "    </tr>\n",
       "  </thead>\n",
       "  <tbody>\n",
       "    <tr>\n",
       "      <th>0</th>\n",
       "      <td>a</td>\n",
       "      <td>b</td>\n",
       "    </tr>\n",
       "    <tr>\n",
       "      <th>1</th>\n",
       "      <td>b</td>\n",
       "      <td>c</td>\n",
       "    </tr>\n",
       "    <tr>\n",
       "      <th>2</th>\n",
       "      <td>c</td>\n",
       "      <td>d</td>\n",
       "    </tr>\n",
       "    <tr>\n",
       "      <th>3</th>\n",
       "      <td>d</td>\n",
       "      <td>a</td>\n",
       "    </tr>\n",
       "    <tr>\n",
       "      <th>4</th>\n",
       "      <td>a</td>\n",
       "      <td>c</td>\n",
       "    </tr>\n",
       "  </tbody>\n",
       "</table>\n",
       "</div>"
      ],
      "text/plain": [
       "  source target\n",
       "0      a      b\n",
       "1      b      c\n",
       "2      c      d\n",
       "3      d      a\n",
       "4      a      c"
      ]
     },
     "metadata": {},
     "output_type": "display_data"
    },
    {
     "data": {
      "text/html": [
       "<div>\n",
       "<style scoped>\n",
       "    .dataframe tbody tr th:only-of-type {\n",
       "        vertical-align: middle;\n",
       "    }\n",
       "\n",
       "    .dataframe tbody tr th {\n",
       "        vertical-align: top;\n",
       "    }\n",
       "\n",
       "    .dataframe thead th {\n",
       "        text-align: right;\n",
       "    }\n",
       "</style>\n",
       "<table border=\"1\" class=\"dataframe\">\n",
       "  <thead>\n",
       "    <tr style=\"text-align: right;\">\n",
       "      <th></th>\n",
       "      <th>x</th>\n",
       "      <th>y</th>\n",
       "    </tr>\n",
       "  </thead>\n",
       "  <tbody>\n",
       "    <tr>\n",
       "      <th>a</th>\n",
       "      <td>1</td>\n",
       "      <td>-0.2</td>\n",
       "    </tr>\n",
       "    <tr>\n",
       "      <th>b</th>\n",
       "      <td>2</td>\n",
       "      <td>0.3</td>\n",
       "    </tr>\n",
       "    <tr>\n",
       "      <th>c</th>\n",
       "      <td>3</td>\n",
       "      <td>0.0</td>\n",
       "    </tr>\n",
       "    <tr>\n",
       "      <th>d</th>\n",
       "      <td>4</td>\n",
       "      <td>-0.5</td>\n",
       "    </tr>\n",
       "  </tbody>\n",
       "</table>\n",
       "</div>"
      ],
      "text/plain": [
       "   x    y\n",
       "a  1 -0.2\n",
       "b  2  0.3\n",
       "c  3  0.0\n",
       "d  4 -0.5"
      ]
     },
     "metadata": {},
     "output_type": "display_data"
    },
    {
     "name": "stdout",
     "output_type": "stream",
     "text": [
      "StellarGraph: Undirected multigraph\n",
      " Nodes: 4, Edges: 5\n",
      "\n",
      " Node types:\n",
      "  default: [4]\n",
      "    Features: float32 vector, length 2\n",
      "    Edge types: default-default->default\n",
      "\n",
      " Edge types:\n",
      "    default-default->default: [5]\n",
      "        Weights: all 1 (default)\n",
      "        Features: none\n"
     ]
    }
   ],
   "source": [
    "square_edge = pd.DataFrame(\n",
    "    {\n",
    "        \"source\": [\"a\", \"b\", \"c\", \"d\", \"a\"],\n",
    "        \"target\": [\"b\", \"c\", \"d\", \"a\", \"c\"]\n",
    "    }\n",
    ")\n",
    "display(square_edge)\n",
    "\n",
    "square_node_data = pd.DataFrame(\n",
    "    {\n",
    "        \"x\": [1, 2, 3, 4], \n",
    "        \"y\": [-0.2, 0.3, 0.0, -0.5]\n",
    "    },index=[\"a\", \"b\", \"c\", \"d\"]\n",
    ")\n",
    "display(square_node_data)\n",
    "\n",
    "graph = StellarGraph(square_node_data, square_edge)\n",
    "print(graph.info())"
   ]
  },
  {
   "cell_type": "markdown",
   "metadata": {},
   "source": [
    "### Multiple edge types\n",
    "- to add different types of edges just specify an additonal column with `edge_type_column`"
   ]
  },
  {
   "cell_type": "code",
   "execution_count": 29,
   "metadata": {},
   "outputs": [
    {
     "data": {
      "text/html": [
       "<div>\n",
       "<style scoped>\n",
       "    .dataframe tbody tr th:only-of-type {\n",
       "        vertical-align: middle;\n",
       "    }\n",
       "\n",
       "    .dataframe tbody tr th {\n",
       "        vertical-align: top;\n",
       "    }\n",
       "\n",
       "    .dataframe thead th {\n",
       "        text-align: right;\n",
       "    }\n",
       "</style>\n",
       "<table border=\"1\" class=\"dataframe\">\n",
       "  <thead>\n",
       "    <tr style=\"text-align: right;\">\n",
       "      <th></th>\n",
       "      <th>source</th>\n",
       "      <th>target</th>\n",
       "      <th>orientation</th>\n",
       "    </tr>\n",
       "  </thead>\n",
       "  <tbody>\n",
       "    <tr>\n",
       "      <th>0</th>\n",
       "      <td>a</td>\n",
       "      <td>b</td>\n",
       "      <td>horizontal</td>\n",
       "    </tr>\n",
       "    <tr>\n",
       "      <th>1</th>\n",
       "      <td>b</td>\n",
       "      <td>c</td>\n",
       "      <td>vertical</td>\n",
       "    </tr>\n",
       "    <tr>\n",
       "      <th>2</th>\n",
       "      <td>c</td>\n",
       "      <td>d</td>\n",
       "      <td>horizontal</td>\n",
       "    </tr>\n",
       "    <tr>\n",
       "      <th>3</th>\n",
       "      <td>d</td>\n",
       "      <td>a</td>\n",
       "      <td>vertical</td>\n",
       "    </tr>\n",
       "    <tr>\n",
       "      <th>4</th>\n",
       "      <td>a</td>\n",
       "      <td>c</td>\n",
       "      <td>diagonal</td>\n",
       "    </tr>\n",
       "  </tbody>\n",
       "</table>\n",
       "</div>"
      ],
      "text/plain": [
       "  source target orientation\n",
       "0      a      b  horizontal\n",
       "1      b      c    vertical\n",
       "2      c      d  horizontal\n",
       "3      d      a    vertical\n",
       "4      a      c    diagonal"
      ]
     },
     "metadata": {},
     "output_type": "display_data"
    },
    {
     "name": "stdout",
     "output_type": "stream",
     "text": [
      "StellarGraph: Undirected multigraph\n",
      " Nodes: 4, Edges: 5\n",
      "\n",
      " Node types:\n",
      "  default: [4]\n",
      "    Features: none\n",
      "    Edge types: default-diagonal->default, default-horizontal->default, default-vertical->default\n",
      "\n",
      " Edge types:\n",
      "    default-vertical->default: [2]\n",
      "        Weights: all 1 (default)\n",
      "        Features: none\n",
      "    default-horizontal->default: [2]\n",
      "        Weights: all 1 (default)\n",
      "        Features: none\n",
      "    default-diagonal->default: [1]\n",
      "        Weights: all 1 (default)\n",
      "        Features: none\n"
     ]
    }
   ],
   "source": [
    "square_edge_types = pd.DataFrame(\n",
    "    {\n",
    "        \"source\": [\"a\", \"b\", \"c\", \"d\", \"a\"],\n",
    "        \"target\": [\"b\", \"c\", \"d\", \"a\", \"c\"],\n",
    "        \"orientation\": [\"horizontal\", \"vertical\", \"horizontal\", \"vertical\", \"diagonal\"]\n",
    "    }\n",
    ")\n",
    "display(square_edge_types)\n",
    "\n",
    "square_types = StellarGraph(edges=square_edge_types, edge_type_column=\"orientation\")\n",
    "print(square_types.info())"
   ]
  },
  {
   "cell_type": "markdown",
   "metadata": {},
   "source": [
    "### Multiple Node Types\n",
    "- to add multiple node types you need to create a node dataframe for each type"
   ]
  },
  {
   "cell_type": "code",
   "execution_count": 30,
   "metadata": {},
   "outputs": [
    {
     "data": {
      "text/html": [
       "<div>\n",
       "<style scoped>\n",
       "    .dataframe tbody tr th:only-of-type {\n",
       "        vertical-align: middle;\n",
       "    }\n",
       "\n",
       "    .dataframe tbody tr th {\n",
       "        vertical-align: top;\n",
       "    }\n",
       "\n",
       "    .dataframe thead th {\n",
       "        text-align: right;\n",
       "    }\n",
       "</style>\n",
       "<table border=\"1\" class=\"dataframe\">\n",
       "  <thead>\n",
       "    <tr style=\"text-align: right;\">\n",
       "      <th></th>\n",
       "      <th>source</th>\n",
       "      <th>target</th>\n",
       "    </tr>\n",
       "  </thead>\n",
       "  <tbody>\n",
       "    <tr>\n",
       "      <th>0</th>\n",
       "      <td>a</td>\n",
       "      <td>b</td>\n",
       "    </tr>\n",
       "    <tr>\n",
       "      <th>1</th>\n",
       "      <td>b</td>\n",
       "      <td>c</td>\n",
       "    </tr>\n",
       "    <tr>\n",
       "      <th>2</th>\n",
       "      <td>c</td>\n",
       "      <td>d</td>\n",
       "    </tr>\n",
       "    <tr>\n",
       "      <th>3</th>\n",
       "      <td>d</td>\n",
       "      <td>a</td>\n",
       "    </tr>\n",
       "    <tr>\n",
       "      <th>4</th>\n",
       "      <td>a</td>\n",
       "      <td>c</td>\n",
       "    </tr>\n",
       "  </tbody>\n",
       "</table>\n",
       "</div>"
      ],
      "text/plain": [
       "  source target\n",
       "0      a      b\n",
       "1      b      c\n",
       "2      c      d\n",
       "3      d      a\n",
       "4      a      c"
      ]
     },
     "metadata": {},
     "output_type": "display_data"
    },
    {
     "data": {
      "text/html": [
       "<div>\n",
       "<style scoped>\n",
       "    .dataframe tbody tr th:only-of-type {\n",
       "        vertical-align: middle;\n",
       "    }\n",
       "\n",
       "    .dataframe tbody tr th {\n",
       "        vertical-align: top;\n",
       "    }\n",
       "\n",
       "    .dataframe thead th {\n",
       "        text-align: right;\n",
       "    }\n",
       "</style>\n",
       "<table border=\"1\" class=\"dataframe\">\n",
       "  <thead>\n",
       "    <tr style=\"text-align: right;\">\n",
       "      <th></th>\n",
       "    </tr>\n",
       "  </thead>\n",
       "  <tbody>\n",
       "    <tr>\n",
       "      <th>a</th>\n",
       "    </tr>\n",
       "  </tbody>\n",
       "</table>\n",
       "</div>"
      ],
      "text/plain": [
       "Empty DataFrame\n",
       "Columns: []\n",
       "Index: [a]"
      ]
     },
     "metadata": {},
     "output_type": "display_data"
    },
    {
     "data": {
      "text/html": [
       "<div>\n",
       "<style scoped>\n",
       "    .dataframe tbody tr th:only-of-type {\n",
       "        vertical-align: middle;\n",
       "    }\n",
       "\n",
       "    .dataframe tbody tr th {\n",
       "        vertical-align: top;\n",
       "    }\n",
       "\n",
       "    .dataframe thead th {\n",
       "        text-align: right;\n",
       "    }\n",
       "</style>\n",
       "<table border=\"1\" class=\"dataframe\">\n",
       "  <thead>\n",
       "    <tr style=\"text-align: right;\">\n",
       "      <th></th>\n",
       "      <th>age</th>\n",
       "      <th>weight</th>\n",
       "    </tr>\n",
       "  </thead>\n",
       "  <tbody>\n",
       "    <tr>\n",
       "      <th>b</th>\n",
       "      <td>36</td>\n",
       "      <td>74</td>\n",
       "    </tr>\n",
       "    <tr>\n",
       "      <th>c</th>\n",
       "      <td>25</td>\n",
       "      <td>63</td>\n",
       "    </tr>\n",
       "    <tr>\n",
       "      <th>d</th>\n",
       "      <td>64</td>\n",
       "      <td>67</td>\n",
       "    </tr>\n",
       "  </tbody>\n",
       "</table>\n",
       "</div>"
      ],
      "text/plain": [
       "   age  weight\n",
       "b   36      74\n",
       "c   25      63\n",
       "d   64      67"
      ]
     },
     "metadata": {},
     "output_type": "display_data"
    },
    {
     "name": "stdout",
     "output_type": "stream",
     "text": [
      "StellarGraph: Undirected multigraph\n",
      " Nodes: 4, Edges: 5\n",
      "\n",
      " Node types:\n",
      "  people: [3]\n",
      "    Features: float32 vector, length 2\n",
      "    Edge types: people-default->paper, people-default->people\n",
      "  paper: [1]\n",
      "    Features: none\n",
      "    Edge types: paper-default->people\n",
      "\n",
      " Edge types:\n",
      "    paper-default->people: [3]\n",
      "        Weights: all 1 (default)\n",
      "        Features: none\n",
      "    people-default->people: [2]\n",
      "        Weights: all 1 (default)\n",
      "        Features: none\n"
     ]
    }
   ],
   "source": [
    "edges = pd.DataFrame(\n",
    "    {\n",
    "        \"source\": [\"a\", \"b\", \"c\", \"d\", \"a\"],\n",
    "        \"target\": [\"b\", \"c\", \"d\", \"a\", \"c\"]\n",
    "    }\n",
    ")\n",
    "display(edges)\n",
    "\n",
    "nodes_paper = pd.DataFrame(index=[\"a\"])\n",
    "nodes_people = pd.DataFrame({\"age\": [36, 25, 64], \"weight\": [74, 63, 67]}, index=[\"b\", \"c\", \"d\"])\n",
    "display(nodes_paper)\n",
    "display(nodes_people)\n",
    "\n",
    "paper_people = StellarGraph({\"paper\": nodes_paper, \"people\": nodes_people}, edges)\n",
    "print(paper_people.info())"
   ]
  },
  {
   "cell_type": "markdown",
   "metadata": {},
   "source": [
    "### Directed Graph\n",
    "- in case you need a directed graph just instantiate a `StellarDiGraph`"
   ]
  },
  {
   "cell_type": "code",
   "execution_count": 31,
   "metadata": {},
   "outputs": [
    {
     "name": "stdout",
     "output_type": "stream",
     "text": [
      "StellarDiGraph: Directed multigraph\n",
      " Nodes: 4, Edges: 5\n",
      "\n",
      " Node types:\n",
      "  people: [3]\n",
      "    Features: float32 vector, length 2\n",
      "    Edge types: people-default->paper, people-default->people\n",
      "  paper: [1]\n",
      "    Features: none\n",
      "    Edge types: paper-default->people\n",
      "\n",
      " Edge types:\n",
      "    people-default->people: [2]\n",
      "        Weights: all 1 (default)\n",
      "        Features: none\n",
      "    paper-default->people: [2]\n",
      "        Weights: all 1 (default)\n",
      "        Features: none\n",
      "    people-default->paper: [1]\n",
      "        Weights: all 1 (default)\n",
      "        Features: none\n"
     ]
    }
   ],
   "source": [
    "from stellargraph import StellarDiGraph\n",
    "\n",
    "graph_directed = StellarDiGraph({\"paper\": nodes_paper, \"people\": nodes_people}, edges)\n",
    "print(graph_directed.info())"
   ]
  },
  {
   "cell_type": "markdown",
   "metadata": {},
   "source": [
    "### Load Cora Dataset from File\n",
    "- have a look at the files `cora.cites` and `cora.content` to see what data should be loaded\n",
    "- first we load the edges (in this case the cites relation)\n",
    "  - but the direction of this edge is rather `paper X cites paper Y` and not `paper Y is cited by paper X`\n",
    "  - therefore we use first `target`and then `source`"
   ]
  },
  {
   "cell_type": "code",
   "execution_count": 32,
   "metadata": {},
   "outputs": [
    {
     "data": {
      "text/html": [
       "<div>\n",
       "<style scoped>\n",
       "    .dataframe tbody tr th:only-of-type {\n",
       "        vertical-align: middle;\n",
       "    }\n",
       "\n",
       "    .dataframe tbody tr th {\n",
       "        vertical-align: top;\n",
       "    }\n",
       "\n",
       "    .dataframe thead th {\n",
       "        text-align: right;\n",
       "    }\n",
       "</style>\n",
       "<table border=\"1\" class=\"dataframe\">\n",
       "  <thead>\n",
       "    <tr style=\"text-align: right;\">\n",
       "      <th></th>\n",
       "      <th>target</th>\n",
       "      <th>source</th>\n",
       "    </tr>\n",
       "  </thead>\n",
       "  <tbody>\n",
       "    <tr>\n",
       "      <th>0</th>\n",
       "      <td>35</td>\n",
       "      <td>1033</td>\n",
       "    </tr>\n",
       "    <tr>\n",
       "      <th>1</th>\n",
       "      <td>35</td>\n",
       "      <td>103482</td>\n",
       "    </tr>\n",
       "    <tr>\n",
       "      <th>2</th>\n",
       "      <td>35</td>\n",
       "      <td>103515</td>\n",
       "    </tr>\n",
       "    <tr>\n",
       "      <th>3</th>\n",
       "      <td>35</td>\n",
       "      <td>1050679</td>\n",
       "    </tr>\n",
       "    <tr>\n",
       "      <th>4</th>\n",
       "      <td>35</td>\n",
       "      <td>1103960</td>\n",
       "    </tr>\n",
       "    <tr>\n",
       "      <th>...</th>\n",
       "      <td>...</td>\n",
       "      <td>...</td>\n",
       "    </tr>\n",
       "    <tr>\n",
       "      <th>5424</th>\n",
       "      <td>853116</td>\n",
       "      <td>19621</td>\n",
       "    </tr>\n",
       "    <tr>\n",
       "      <th>5425</th>\n",
       "      <td>853116</td>\n",
       "      <td>853155</td>\n",
       "    </tr>\n",
       "    <tr>\n",
       "      <th>5426</th>\n",
       "      <td>853118</td>\n",
       "      <td>1140289</td>\n",
       "    </tr>\n",
       "    <tr>\n",
       "      <th>5427</th>\n",
       "      <td>853155</td>\n",
       "      <td>853118</td>\n",
       "    </tr>\n",
       "    <tr>\n",
       "      <th>5428</th>\n",
       "      <td>954315</td>\n",
       "      <td>1155073</td>\n",
       "    </tr>\n",
       "  </tbody>\n",
       "</table>\n",
       "<p>5429 rows × 2 columns</p>\n",
       "</div>"
      ],
      "text/plain": [
       "      target   source\n",
       "0         35     1033\n",
       "1         35   103482\n",
       "2         35   103515\n",
       "3         35  1050679\n",
       "4         35  1103960\n",
       "...      ...      ...\n",
       "5424  853116    19621\n",
       "5425  853116   853155\n",
       "5426  853118  1140289\n",
       "5427  853155   853118\n",
       "5428  954315  1155073\n",
       "\n",
       "[5429 rows x 2 columns]"
      ]
     },
     "metadata": {},
     "output_type": "display_data"
    }
   ],
   "source": [
    "cora_cites = pd.read_csv('cora.cites',\n",
    "    sep=\"\\t\",  # tab-separated\n",
    "    names=[\"target\", \"source\"],  # parse no header row and set our own names for the columns\n",
    ")\n",
    "display(cora_cites)"
   ]
  },
  {
   "cell_type": "markdown",
   "metadata": {},
   "source": [
    "- now we parse the node attributes\n",
    "  - the first column is the node id (which should be the index of teh pandas dataframe)\n",
    "  - then 1433 columns which represent if the abstract of the paper contains the corresponding word\n",
    "  - last column is node type (subject)"
   ]
  },
  {
   "cell_type": "code",
   "execution_count": 33,
   "metadata": {},
   "outputs": [
    {
     "data": {
      "text/html": [
       "<div>\n",
       "<style scoped>\n",
       "    .dataframe tbody tr th:only-of-type {\n",
       "        vertical-align: middle;\n",
       "    }\n",
       "\n",
       "    .dataframe tbody tr th {\n",
       "        vertical-align: top;\n",
       "    }\n",
       "\n",
       "    .dataframe thead th {\n",
       "        text-align: right;\n",
       "    }\n",
       "</style>\n",
       "<table border=\"1\" class=\"dataframe\">\n",
       "  <thead>\n",
       "    <tr style=\"text-align: right;\">\n",
       "      <th></th>\n",
       "      <th>w0</th>\n",
       "      <th>w1</th>\n",
       "      <th>w2</th>\n",
       "      <th>w3</th>\n",
       "      <th>w4</th>\n",
       "      <th>w5</th>\n",
       "      <th>w6</th>\n",
       "      <th>w7</th>\n",
       "      <th>w8</th>\n",
       "      <th>w9</th>\n",
       "      <th>...</th>\n",
       "      <th>w1424</th>\n",
       "      <th>w1425</th>\n",
       "      <th>w1426</th>\n",
       "      <th>w1427</th>\n",
       "      <th>w1428</th>\n",
       "      <th>w1429</th>\n",
       "      <th>w1430</th>\n",
       "      <th>w1431</th>\n",
       "      <th>w1432</th>\n",
       "      <th>subject</th>\n",
       "    </tr>\n",
       "    <tr>\n",
       "      <th>id</th>\n",
       "      <th></th>\n",
       "      <th></th>\n",
       "      <th></th>\n",
       "      <th></th>\n",
       "      <th></th>\n",
       "      <th></th>\n",
       "      <th></th>\n",
       "      <th></th>\n",
       "      <th></th>\n",
       "      <th></th>\n",
       "      <th></th>\n",
       "      <th></th>\n",
       "      <th></th>\n",
       "      <th></th>\n",
       "      <th></th>\n",
       "      <th></th>\n",
       "      <th></th>\n",
       "      <th></th>\n",
       "      <th></th>\n",
       "      <th></th>\n",
       "      <th></th>\n",
       "    </tr>\n",
       "  </thead>\n",
       "  <tbody>\n",
       "    <tr>\n",
       "      <th>31336</th>\n",
       "      <td>0</td>\n",
       "      <td>0</td>\n",
       "      <td>0</td>\n",
       "      <td>0</td>\n",
       "      <td>0</td>\n",
       "      <td>0</td>\n",
       "      <td>0</td>\n",
       "      <td>0</td>\n",
       "      <td>0</td>\n",
       "      <td>0</td>\n",
       "      <td>...</td>\n",
       "      <td>0</td>\n",
       "      <td>0</td>\n",
       "      <td>1</td>\n",
       "      <td>0</td>\n",
       "      <td>0</td>\n",
       "      <td>0</td>\n",
       "      <td>0</td>\n",
       "      <td>0</td>\n",
       "      <td>0</td>\n",
       "      <td>Neural_Networks</td>\n",
       "    </tr>\n",
       "    <tr>\n",
       "      <th>1061127</th>\n",
       "      <td>0</td>\n",
       "      <td>0</td>\n",
       "      <td>0</td>\n",
       "      <td>0</td>\n",
       "      <td>0</td>\n",
       "      <td>0</td>\n",
       "      <td>0</td>\n",
       "      <td>0</td>\n",
       "      <td>0</td>\n",
       "      <td>0</td>\n",
       "      <td>...</td>\n",
       "      <td>0</td>\n",
       "      <td>1</td>\n",
       "      <td>0</td>\n",
       "      <td>0</td>\n",
       "      <td>0</td>\n",
       "      <td>0</td>\n",
       "      <td>0</td>\n",
       "      <td>0</td>\n",
       "      <td>0</td>\n",
       "      <td>Rule_Learning</td>\n",
       "    </tr>\n",
       "    <tr>\n",
       "      <th>1106406</th>\n",
       "      <td>0</td>\n",
       "      <td>0</td>\n",
       "      <td>0</td>\n",
       "      <td>0</td>\n",
       "      <td>0</td>\n",
       "      <td>0</td>\n",
       "      <td>0</td>\n",
       "      <td>0</td>\n",
       "      <td>0</td>\n",
       "      <td>0</td>\n",
       "      <td>...</td>\n",
       "      <td>0</td>\n",
       "      <td>0</td>\n",
       "      <td>0</td>\n",
       "      <td>0</td>\n",
       "      <td>0</td>\n",
       "      <td>0</td>\n",
       "      <td>0</td>\n",
       "      <td>0</td>\n",
       "      <td>0</td>\n",
       "      <td>Reinforcement_Learning</td>\n",
       "    </tr>\n",
       "    <tr>\n",
       "      <th>13195</th>\n",
       "      <td>0</td>\n",
       "      <td>0</td>\n",
       "      <td>0</td>\n",
       "      <td>0</td>\n",
       "      <td>0</td>\n",
       "      <td>0</td>\n",
       "      <td>0</td>\n",
       "      <td>0</td>\n",
       "      <td>0</td>\n",
       "      <td>0</td>\n",
       "      <td>...</td>\n",
       "      <td>0</td>\n",
       "      <td>0</td>\n",
       "      <td>0</td>\n",
       "      <td>0</td>\n",
       "      <td>0</td>\n",
       "      <td>0</td>\n",
       "      <td>0</td>\n",
       "      <td>0</td>\n",
       "      <td>0</td>\n",
       "      <td>Reinforcement_Learning</td>\n",
       "    </tr>\n",
       "    <tr>\n",
       "      <th>37879</th>\n",
       "      <td>0</td>\n",
       "      <td>0</td>\n",
       "      <td>0</td>\n",
       "      <td>0</td>\n",
       "      <td>0</td>\n",
       "      <td>0</td>\n",
       "      <td>0</td>\n",
       "      <td>0</td>\n",
       "      <td>0</td>\n",
       "      <td>0</td>\n",
       "      <td>...</td>\n",
       "      <td>0</td>\n",
       "      <td>0</td>\n",
       "      <td>0</td>\n",
       "      <td>0</td>\n",
       "      <td>0</td>\n",
       "      <td>0</td>\n",
       "      <td>0</td>\n",
       "      <td>0</td>\n",
       "      <td>0</td>\n",
       "      <td>Probabilistic_Methods</td>\n",
       "    </tr>\n",
       "    <tr>\n",
       "      <th>...</th>\n",
       "      <td>...</td>\n",
       "      <td>...</td>\n",
       "      <td>...</td>\n",
       "      <td>...</td>\n",
       "      <td>...</td>\n",
       "      <td>...</td>\n",
       "      <td>...</td>\n",
       "      <td>...</td>\n",
       "      <td>...</td>\n",
       "      <td>...</td>\n",
       "      <td>...</td>\n",
       "      <td>...</td>\n",
       "      <td>...</td>\n",
       "      <td>...</td>\n",
       "      <td>...</td>\n",
       "      <td>...</td>\n",
       "      <td>...</td>\n",
       "      <td>...</td>\n",
       "      <td>...</td>\n",
       "      <td>...</td>\n",
       "      <td>...</td>\n",
       "    </tr>\n",
       "    <tr>\n",
       "      <th>1128975</th>\n",
       "      <td>0</td>\n",
       "      <td>0</td>\n",
       "      <td>0</td>\n",
       "      <td>0</td>\n",
       "      <td>0</td>\n",
       "      <td>0</td>\n",
       "      <td>0</td>\n",
       "      <td>0</td>\n",
       "      <td>0</td>\n",
       "      <td>0</td>\n",
       "      <td>...</td>\n",
       "      <td>0</td>\n",
       "      <td>0</td>\n",
       "      <td>0</td>\n",
       "      <td>0</td>\n",
       "      <td>0</td>\n",
       "      <td>0</td>\n",
       "      <td>0</td>\n",
       "      <td>0</td>\n",
       "      <td>0</td>\n",
       "      <td>Genetic_Algorithms</td>\n",
       "    </tr>\n",
       "    <tr>\n",
       "      <th>1128977</th>\n",
       "      <td>0</td>\n",
       "      <td>0</td>\n",
       "      <td>0</td>\n",
       "      <td>0</td>\n",
       "      <td>0</td>\n",
       "      <td>0</td>\n",
       "      <td>0</td>\n",
       "      <td>0</td>\n",
       "      <td>0</td>\n",
       "      <td>0</td>\n",
       "      <td>...</td>\n",
       "      <td>0</td>\n",
       "      <td>0</td>\n",
       "      <td>0</td>\n",
       "      <td>0</td>\n",
       "      <td>0</td>\n",
       "      <td>0</td>\n",
       "      <td>0</td>\n",
       "      <td>0</td>\n",
       "      <td>0</td>\n",
       "      <td>Genetic_Algorithms</td>\n",
       "    </tr>\n",
       "    <tr>\n",
       "      <th>1128978</th>\n",
       "      <td>0</td>\n",
       "      <td>0</td>\n",
       "      <td>0</td>\n",
       "      <td>0</td>\n",
       "      <td>0</td>\n",
       "      <td>0</td>\n",
       "      <td>0</td>\n",
       "      <td>0</td>\n",
       "      <td>0</td>\n",
       "      <td>0</td>\n",
       "      <td>...</td>\n",
       "      <td>0</td>\n",
       "      <td>0</td>\n",
       "      <td>0</td>\n",
       "      <td>0</td>\n",
       "      <td>0</td>\n",
       "      <td>0</td>\n",
       "      <td>0</td>\n",
       "      <td>0</td>\n",
       "      <td>0</td>\n",
       "      <td>Genetic_Algorithms</td>\n",
       "    </tr>\n",
       "    <tr>\n",
       "      <th>117328</th>\n",
       "      <td>0</td>\n",
       "      <td>0</td>\n",
       "      <td>0</td>\n",
       "      <td>0</td>\n",
       "      <td>1</td>\n",
       "      <td>0</td>\n",
       "      <td>0</td>\n",
       "      <td>0</td>\n",
       "      <td>0</td>\n",
       "      <td>0</td>\n",
       "      <td>...</td>\n",
       "      <td>0</td>\n",
       "      <td>0</td>\n",
       "      <td>0</td>\n",
       "      <td>0</td>\n",
       "      <td>0</td>\n",
       "      <td>0</td>\n",
       "      <td>0</td>\n",
       "      <td>0</td>\n",
       "      <td>0</td>\n",
       "      <td>Case_Based</td>\n",
       "    </tr>\n",
       "    <tr>\n",
       "      <th>24043</th>\n",
       "      <td>0</td>\n",
       "      <td>0</td>\n",
       "      <td>0</td>\n",
       "      <td>0</td>\n",
       "      <td>0</td>\n",
       "      <td>0</td>\n",
       "      <td>0</td>\n",
       "      <td>0</td>\n",
       "      <td>0</td>\n",
       "      <td>0</td>\n",
       "      <td>...</td>\n",
       "      <td>0</td>\n",
       "      <td>0</td>\n",
       "      <td>0</td>\n",
       "      <td>0</td>\n",
       "      <td>0</td>\n",
       "      <td>0</td>\n",
       "      <td>0</td>\n",
       "      <td>0</td>\n",
       "      <td>0</td>\n",
       "      <td>Neural_Networks</td>\n",
       "    </tr>\n",
       "  </tbody>\n",
       "</table>\n",
       "<p>2708 rows × 1434 columns</p>\n",
       "</div>"
      ],
      "text/plain": [
       "         w0  w1  w2  w3  w4  w5  w6  w7  w8  w9  ...  w1424  w1425  w1426  \\\n",
       "id                                               ...                        \n",
       "31336     0   0   0   0   0   0   0   0   0   0  ...      0      0      1   \n",
       "1061127   0   0   0   0   0   0   0   0   0   0  ...      0      1      0   \n",
       "1106406   0   0   0   0   0   0   0   0   0   0  ...      0      0      0   \n",
       "13195     0   0   0   0   0   0   0   0   0   0  ...      0      0      0   \n",
       "37879     0   0   0   0   0   0   0   0   0   0  ...      0      0      0   \n",
       "...      ..  ..  ..  ..  ..  ..  ..  ..  ..  ..  ...    ...    ...    ...   \n",
       "1128975   0   0   0   0   0   0   0   0   0   0  ...      0      0      0   \n",
       "1128977   0   0   0   0   0   0   0   0   0   0  ...      0      0      0   \n",
       "1128978   0   0   0   0   0   0   0   0   0   0  ...      0      0      0   \n",
       "117328    0   0   0   0   1   0   0   0   0   0  ...      0      0      0   \n",
       "24043     0   0   0   0   0   0   0   0   0   0  ...      0      0      0   \n",
       "\n",
       "         w1427  w1428  w1429  w1430  w1431  w1432                 subject  \n",
       "id                                                                         \n",
       "31336        0      0      0      0      0      0         Neural_Networks  \n",
       "1061127      0      0      0      0      0      0           Rule_Learning  \n",
       "1106406      0      0      0      0      0      0  Reinforcement_Learning  \n",
       "13195        0      0      0      0      0      0  Reinforcement_Learning  \n",
       "37879        0      0      0      0      0      0   Probabilistic_Methods  \n",
       "...        ...    ...    ...    ...    ...    ...                     ...  \n",
       "1128975      0      0      0      0      0      0      Genetic_Algorithms  \n",
       "1128977      0      0      0      0      0      0      Genetic_Algorithms  \n",
       "1128978      0      0      0      0      0      0      Genetic_Algorithms  \n",
       "117328       0      0      0      0      0      0              Case_Based  \n",
       "24043        0      0      0      0      0      0         Neural_Networks  \n",
       "\n",
       "[2708 rows x 1434 columns]"
      ]
     },
     "metadata": {},
     "output_type": "display_data"
    }
   ],
   "source": [
    "# create the header names\n",
    "header_names = []\n",
    "header_names.append(\"id\")\n",
    "for i in range(1433):\n",
    "    header_names.append(\"w\" + str(i))\n",
    "header_names.append(\"subject\")\n",
    "\n",
    "cora_raw_content = pd.read_csv('cora.content',\n",
    "    sep=\"\\t\",  # tab-separated\n",
    "    names=header_names,  # set our own names for the columns\n",
    "    index_col=\"id\" # set the index automatically to the \"id\" column - can be also done later with 'set_index'\n",
    ")\n",
    "display(cora_raw_content)"
   ]
  },
  {
   "cell_type": "markdown",
   "metadata": {},
   "source": [
    "Due to the fact that we want to predict the subject of the nodes (our target variable), we need to remove it from the node features"
   ]
  },
  {
   "cell_type": "code",
   "execution_count": 34,
   "metadata": {},
   "outputs": [
    {
     "data": {
      "text/html": [
       "<div>\n",
       "<style scoped>\n",
       "    .dataframe tbody tr th:only-of-type {\n",
       "        vertical-align: middle;\n",
       "    }\n",
       "\n",
       "    .dataframe tbody tr th {\n",
       "        vertical-align: top;\n",
       "    }\n",
       "\n",
       "    .dataframe thead th {\n",
       "        text-align: right;\n",
       "    }\n",
       "</style>\n",
       "<table border=\"1\" class=\"dataframe\">\n",
       "  <thead>\n",
       "    <tr style=\"text-align: right;\">\n",
       "      <th></th>\n",
       "      <th>w0</th>\n",
       "      <th>w1</th>\n",
       "      <th>w2</th>\n",
       "      <th>w3</th>\n",
       "      <th>w4</th>\n",
       "      <th>w5</th>\n",
       "      <th>w6</th>\n",
       "      <th>w7</th>\n",
       "      <th>w8</th>\n",
       "      <th>w9</th>\n",
       "      <th>...</th>\n",
       "      <th>w1423</th>\n",
       "      <th>w1424</th>\n",
       "      <th>w1425</th>\n",
       "      <th>w1426</th>\n",
       "      <th>w1427</th>\n",
       "      <th>w1428</th>\n",
       "      <th>w1429</th>\n",
       "      <th>w1430</th>\n",
       "      <th>w1431</th>\n",
       "      <th>w1432</th>\n",
       "    </tr>\n",
       "    <tr>\n",
       "      <th>id</th>\n",
       "      <th></th>\n",
       "      <th></th>\n",
       "      <th></th>\n",
       "      <th></th>\n",
       "      <th></th>\n",
       "      <th></th>\n",
       "      <th></th>\n",
       "      <th></th>\n",
       "      <th></th>\n",
       "      <th></th>\n",
       "      <th></th>\n",
       "      <th></th>\n",
       "      <th></th>\n",
       "      <th></th>\n",
       "      <th></th>\n",
       "      <th></th>\n",
       "      <th></th>\n",
       "      <th></th>\n",
       "      <th></th>\n",
       "      <th></th>\n",
       "      <th></th>\n",
       "    </tr>\n",
       "  </thead>\n",
       "  <tbody>\n",
       "    <tr>\n",
       "      <th>31336</th>\n",
       "      <td>0</td>\n",
       "      <td>0</td>\n",
       "      <td>0</td>\n",
       "      <td>0</td>\n",
       "      <td>0</td>\n",
       "      <td>0</td>\n",
       "      <td>0</td>\n",
       "      <td>0</td>\n",
       "      <td>0</td>\n",
       "      <td>0</td>\n",
       "      <td>...</td>\n",
       "      <td>0</td>\n",
       "      <td>0</td>\n",
       "      <td>0</td>\n",
       "      <td>1</td>\n",
       "      <td>0</td>\n",
       "      <td>0</td>\n",
       "      <td>0</td>\n",
       "      <td>0</td>\n",
       "      <td>0</td>\n",
       "      <td>0</td>\n",
       "    </tr>\n",
       "    <tr>\n",
       "      <th>1061127</th>\n",
       "      <td>0</td>\n",
       "      <td>0</td>\n",
       "      <td>0</td>\n",
       "      <td>0</td>\n",
       "      <td>0</td>\n",
       "      <td>0</td>\n",
       "      <td>0</td>\n",
       "      <td>0</td>\n",
       "      <td>0</td>\n",
       "      <td>0</td>\n",
       "      <td>...</td>\n",
       "      <td>0</td>\n",
       "      <td>0</td>\n",
       "      <td>1</td>\n",
       "      <td>0</td>\n",
       "      <td>0</td>\n",
       "      <td>0</td>\n",
       "      <td>0</td>\n",
       "      <td>0</td>\n",
       "      <td>0</td>\n",
       "      <td>0</td>\n",
       "    </tr>\n",
       "    <tr>\n",
       "      <th>1106406</th>\n",
       "      <td>0</td>\n",
       "      <td>0</td>\n",
       "      <td>0</td>\n",
       "      <td>0</td>\n",
       "      <td>0</td>\n",
       "      <td>0</td>\n",
       "      <td>0</td>\n",
       "      <td>0</td>\n",
       "      <td>0</td>\n",
       "      <td>0</td>\n",
       "      <td>...</td>\n",
       "      <td>0</td>\n",
       "      <td>0</td>\n",
       "      <td>0</td>\n",
       "      <td>0</td>\n",
       "      <td>0</td>\n",
       "      <td>0</td>\n",
       "      <td>0</td>\n",
       "      <td>0</td>\n",
       "      <td>0</td>\n",
       "      <td>0</td>\n",
       "    </tr>\n",
       "    <tr>\n",
       "      <th>13195</th>\n",
       "      <td>0</td>\n",
       "      <td>0</td>\n",
       "      <td>0</td>\n",
       "      <td>0</td>\n",
       "      <td>0</td>\n",
       "      <td>0</td>\n",
       "      <td>0</td>\n",
       "      <td>0</td>\n",
       "      <td>0</td>\n",
       "      <td>0</td>\n",
       "      <td>...</td>\n",
       "      <td>0</td>\n",
       "      <td>0</td>\n",
       "      <td>0</td>\n",
       "      <td>0</td>\n",
       "      <td>0</td>\n",
       "      <td>0</td>\n",
       "      <td>0</td>\n",
       "      <td>0</td>\n",
       "      <td>0</td>\n",
       "      <td>0</td>\n",
       "    </tr>\n",
       "    <tr>\n",
       "      <th>37879</th>\n",
       "      <td>0</td>\n",
       "      <td>0</td>\n",
       "      <td>0</td>\n",
       "      <td>0</td>\n",
       "      <td>0</td>\n",
       "      <td>0</td>\n",
       "      <td>0</td>\n",
       "      <td>0</td>\n",
       "      <td>0</td>\n",
       "      <td>0</td>\n",
       "      <td>...</td>\n",
       "      <td>0</td>\n",
       "      <td>0</td>\n",
       "      <td>0</td>\n",
       "      <td>0</td>\n",
       "      <td>0</td>\n",
       "      <td>0</td>\n",
       "      <td>0</td>\n",
       "      <td>0</td>\n",
       "      <td>0</td>\n",
       "      <td>0</td>\n",
       "    </tr>\n",
       "    <tr>\n",
       "      <th>...</th>\n",
       "      <td>...</td>\n",
       "      <td>...</td>\n",
       "      <td>...</td>\n",
       "      <td>...</td>\n",
       "      <td>...</td>\n",
       "      <td>...</td>\n",
       "      <td>...</td>\n",
       "      <td>...</td>\n",
       "      <td>...</td>\n",
       "      <td>...</td>\n",
       "      <td>...</td>\n",
       "      <td>...</td>\n",
       "      <td>...</td>\n",
       "      <td>...</td>\n",
       "      <td>...</td>\n",
       "      <td>...</td>\n",
       "      <td>...</td>\n",
       "      <td>...</td>\n",
       "      <td>...</td>\n",
       "      <td>...</td>\n",
       "      <td>...</td>\n",
       "    </tr>\n",
       "    <tr>\n",
       "      <th>1128975</th>\n",
       "      <td>0</td>\n",
       "      <td>0</td>\n",
       "      <td>0</td>\n",
       "      <td>0</td>\n",
       "      <td>0</td>\n",
       "      <td>0</td>\n",
       "      <td>0</td>\n",
       "      <td>0</td>\n",
       "      <td>0</td>\n",
       "      <td>0</td>\n",
       "      <td>...</td>\n",
       "      <td>0</td>\n",
       "      <td>0</td>\n",
       "      <td>0</td>\n",
       "      <td>0</td>\n",
       "      <td>0</td>\n",
       "      <td>0</td>\n",
       "      <td>0</td>\n",
       "      <td>0</td>\n",
       "      <td>0</td>\n",
       "      <td>0</td>\n",
       "    </tr>\n",
       "    <tr>\n",
       "      <th>1128977</th>\n",
       "      <td>0</td>\n",
       "      <td>0</td>\n",
       "      <td>0</td>\n",
       "      <td>0</td>\n",
       "      <td>0</td>\n",
       "      <td>0</td>\n",
       "      <td>0</td>\n",
       "      <td>0</td>\n",
       "      <td>0</td>\n",
       "      <td>0</td>\n",
       "      <td>...</td>\n",
       "      <td>0</td>\n",
       "      <td>0</td>\n",
       "      <td>0</td>\n",
       "      <td>0</td>\n",
       "      <td>0</td>\n",
       "      <td>0</td>\n",
       "      <td>0</td>\n",
       "      <td>0</td>\n",
       "      <td>0</td>\n",
       "      <td>0</td>\n",
       "    </tr>\n",
       "    <tr>\n",
       "      <th>1128978</th>\n",
       "      <td>0</td>\n",
       "      <td>0</td>\n",
       "      <td>0</td>\n",
       "      <td>0</td>\n",
       "      <td>0</td>\n",
       "      <td>0</td>\n",
       "      <td>0</td>\n",
       "      <td>0</td>\n",
       "      <td>0</td>\n",
       "      <td>0</td>\n",
       "      <td>...</td>\n",
       "      <td>0</td>\n",
       "      <td>0</td>\n",
       "      <td>0</td>\n",
       "      <td>0</td>\n",
       "      <td>0</td>\n",
       "      <td>0</td>\n",
       "      <td>0</td>\n",
       "      <td>0</td>\n",
       "      <td>0</td>\n",
       "      <td>0</td>\n",
       "    </tr>\n",
       "    <tr>\n",
       "      <th>117328</th>\n",
       "      <td>0</td>\n",
       "      <td>0</td>\n",
       "      <td>0</td>\n",
       "      <td>0</td>\n",
       "      <td>1</td>\n",
       "      <td>0</td>\n",
       "      <td>0</td>\n",
       "      <td>0</td>\n",
       "      <td>0</td>\n",
       "      <td>0</td>\n",
       "      <td>...</td>\n",
       "      <td>1</td>\n",
       "      <td>0</td>\n",
       "      <td>0</td>\n",
       "      <td>0</td>\n",
       "      <td>0</td>\n",
       "      <td>0</td>\n",
       "      <td>0</td>\n",
       "      <td>0</td>\n",
       "      <td>0</td>\n",
       "      <td>0</td>\n",
       "    </tr>\n",
       "    <tr>\n",
       "      <th>24043</th>\n",
       "      <td>0</td>\n",
       "      <td>0</td>\n",
       "      <td>0</td>\n",
       "      <td>0</td>\n",
       "      <td>0</td>\n",
       "      <td>0</td>\n",
       "      <td>0</td>\n",
       "      <td>0</td>\n",
       "      <td>0</td>\n",
       "      <td>0</td>\n",
       "      <td>...</td>\n",
       "      <td>0</td>\n",
       "      <td>0</td>\n",
       "      <td>0</td>\n",
       "      <td>0</td>\n",
       "      <td>0</td>\n",
       "      <td>0</td>\n",
       "      <td>0</td>\n",
       "      <td>0</td>\n",
       "      <td>0</td>\n",
       "      <td>0</td>\n",
       "    </tr>\n",
       "  </tbody>\n",
       "</table>\n",
       "<p>2708 rows × 1433 columns</p>\n",
       "</div>"
      ],
      "text/plain": [
       "         w0  w1  w2  w3  w4  w5  w6  w7  w8  w9  ...  w1423  w1424  w1425  \\\n",
       "id                                               ...                        \n",
       "31336     0   0   0   0   0   0   0   0   0   0  ...      0      0      0   \n",
       "1061127   0   0   0   0   0   0   0   0   0   0  ...      0      0      1   \n",
       "1106406   0   0   0   0   0   0   0   0   0   0  ...      0      0      0   \n",
       "13195     0   0   0   0   0   0   0   0   0   0  ...      0      0      0   \n",
       "37879     0   0   0   0   0   0   0   0   0   0  ...      0      0      0   \n",
       "...      ..  ..  ..  ..  ..  ..  ..  ..  ..  ..  ...    ...    ...    ...   \n",
       "1128975   0   0   0   0   0   0   0   0   0   0  ...      0      0      0   \n",
       "1128977   0   0   0   0   0   0   0   0   0   0  ...      0      0      0   \n",
       "1128978   0   0   0   0   0   0   0   0   0   0  ...      0      0      0   \n",
       "117328    0   0   0   0   1   0   0   0   0   0  ...      1      0      0   \n",
       "24043     0   0   0   0   0   0   0   0   0   0  ...      0      0      0   \n",
       "\n",
       "         w1426  w1427  w1428  w1429  w1430  w1431  w1432  \n",
       "id                                                        \n",
       "31336        1      0      0      0      0      0      0  \n",
       "1061127      0      0      0      0      0      0      0  \n",
       "1106406      0      0      0      0      0      0      0  \n",
       "13195        0      0      0      0      0      0      0  \n",
       "37879        0      0      0      0      0      0      0  \n",
       "...        ...    ...    ...    ...    ...    ...    ...  \n",
       "1128975      0      0      0      0      0      0      0  \n",
       "1128977      0      0      0      0      0      0      0  \n",
       "1128978      0      0      0      0      0      0      0  \n",
       "117328       0      0      0      0      0      0      0  \n",
       "24043        0      0      0      0      0      0      0  \n",
       "\n",
       "[2708 rows x 1433 columns]"
      ]
     },
     "execution_count": 34,
     "metadata": {},
     "output_type": "execute_result"
    }
   ],
   "source": [
    "cora_content_no_subject = cora_raw_content.drop(columns=\"subject\")\n",
    "cora_content_no_subject"
   ]
  },
  {
   "cell_type": "code",
   "execution_count": 35,
   "metadata": {},
   "outputs": [
    {
     "name": "stdout",
     "output_type": "stream",
     "text": [
      "StellarGraph: Undirected multigraph\n",
      " Nodes: 2708, Edges: 5429\n",
      "\n",
      " Node types:\n",
      "  paper: [2708]\n",
      "    Features: float32 vector, length 1433\n",
      "    Edge types: paper-cites->paper\n",
      "\n",
      " Edge types:\n",
      "    paper-cites->paper: [5429]\n",
      "        Weights: all 1 (default)\n",
      "        Features: none\n"
     ]
    }
   ],
   "source": [
    "# when using dictionaries this just changes the type (otherwise it is default)\n",
    "cora_no_subject = StellarGraph({\"paper\": cora_content_no_subject}, {\"cites\": cora_cites})\n",
    "print(cora_no_subject.info())"
   ]
  }
 ],
 "metadata": {
  "celltoolbar": "Slideshow",
  "kernelspec": {
   "display_name": "Python 3",
   "language": "python",
   "name": "python3"
  },
  "language_info": {
   "codemirror_mode": {
    "name": "ipython",
    "version": 3
   },
   "file_extension": ".py",
   "mimetype": "text/x-python",
   "name": "python",
   "nbconvert_exporter": "python",
   "pygments_lexer": "ipython3",
   "version": "3.6.13"
  },
  "varInspector": {
   "cols": {
    "lenName": 16,
    "lenType": 16,
    "lenVar": 40
   },
   "kernels_config": {
    "python": {
     "delete_cmd_postfix": "",
     "delete_cmd_prefix": "del ",
     "library": "var_list.py",
     "varRefreshCmd": "print(var_dic_list())"
    },
    "r": {
     "delete_cmd_postfix": ") ",
     "delete_cmd_prefix": "rm(",
     "library": "var_list.r",
     "varRefreshCmd": "cat(var_dic_list()) "
    }
   },
   "types_to_exclude": [
    "module",
    "function",
    "builtin_function_or_method",
    "instance",
    "_Feature"
   ],
   "window_display": false
  }
 },
 "nbformat": 4,
 "nbformat_minor": 4
}
