{
 "cells": [
  {
   "cell_type": "markdown",
   "metadata": {},
   "source": [
    "Run the cell below if you are using Google Colab to mount your Google Drive in your Colab instance. Adjust the path to the files in your Google Drive as needed if it differs.\n",
    "\n",
    "If you do not use Google Colab, running the cell will simply do nothing, so do not worry about it."
   ]
  },
  {
   "cell_type": "code",
   "execution_count": 12,
   "metadata": {},
   "outputs": [],
   "source": [
    "try:\n",
    "    from google.colab import drive\n",
    "    drive.mount('/content/drive/')\n",
    "    %cd 'drive/My Drive/Colab Notebooks/07_TextMining'\n",
    "except ImportError as e:\n",
    "    pass"
   ]
  },
  {
   "cell_type": "markdown",
   "metadata": {
    "slideshow": {
     "slide_type": "slide"
    }
   },
   "source": [
    "# Text Mining\n",
    "\n",
    "Other than the structured datasets that we have used so far, text documents contain **unstructured data**.\n",
    "This means that we must [create features](https://scikit-learn.org/stable/modules/feature_extraction.html#text-feature-extraction) from the text and turn it into **structured data**, before we can apply the clustering and classification methods that we have seen already.\n",
    "\n",
    "The usual steps in a text preprocessing pipeline are:\n",
    "\n",
    "- Tokenisation\n",
    "    - Break text into words or n-grams\n",
    "    - “example text”\n",
    "        - (“example”, “text”)\n",
    "        - (“exam”, “xamp”, “ampl”, “mple”, “ple”, “le t”, “e te”, “tex”, “text”)\n",
    "- Stopword Removal\n",
    "    - Remove frequent words that may confuse your algorithm\n",
    "    - “this is an example” -> “example”\n",
    "- Stemming\n",
    "    - Finding the root/stem of a word helps matching similar words\n",
    "    - “user”,“users”,“used”,“using” -> “use”\n",
    "- Vectorisation\n",
    "    - Transform the tokens into numerical features\n",
    "\n",
    "It's a good idea to also look at the [Working With Text Data Tutorial](https://scikit-learn.org/stable/tutorial/text_analytics/working_with_text_data.html) for scikit-learn."
   ]
  },
  {
   "cell_type": "markdown",
   "metadata": {
    "slideshow": {
     "slide_type": "subslide"
    }
   },
   "source": [
    "## Loading files\n",
    "\n",
    "The [load_files function](http://scikit-learn.org/stable/modules/generated/sklearn.datasets.load_files.html) can load datasets where each example is stored in an individual text file.\n",
    "It assumes the following directory structure:\n",
    "- **container_folder/**\n",
    "    - *category_1_folder/*\n",
    "        - file_1.txt file_2.txt … file_42.txt\n",
    "    - *category_2_folder/*\n",
    "        - file_43.txt file_44.txt …\n",
    "\n",
    "Every *category_folder* will be considered as a class for the target variable.\n",
    "\n",
    "Important parameters are:\n",
    "- ```categories```: The names of the sub folder that should be loaded.\n",
    "- ```encoding```: The encoding of the text files.\n",
    "\n",
    "The returned object contains the following attributes:\n",
    "- ```data```: the loaded text documents\n",
    "- ```filenames```: the names of the files from which the text was loaded\n",
    "- ```target_names```: the names of the classes, i.e., the category folders\n",
    "- ```target```: the class values as integers"
   ]
  },
  {
   "cell_type": "code",
   "execution_count": 13,
   "metadata": {
    "slideshow": {
     "slide_type": "subslide"
    }
   },
   "outputs": [
    {
     "name": "stdout",
     "output_type": "stream",
     "text": [
      "First 30 characters of the 4docs corpus:\n",
      "\tAn Occupation for the 99 Per C\n",
      "\tMálaga vs. Real Madrid Barcelo\n",
      "\tReal Madrid Slips Into First W\n",
      "\tDavid Cameron Joins Talks On E\n"
     ]
    }
   ],
   "source": [
    "from sklearn.datasets import load_files\n",
    "\n",
    "# load all subdirectories of the corpus-30docs directory\n",
    "corpus_30_docs = load_files('DataSetEx7/corpus-30docs',encoding='utf-8')\n",
    "\n",
    "# load the 'corpus-4docs' directory in the 'DataSetEx6' directory\n",
    "corpus_4_docs = load_files('DataSetEx7', categories=['corpus-4docs'], encoding='utf-8') \n",
    "\n",
    "# show the first 30 characters of each document\n",
    "print(\"First 30 characters of the 4docs corpus:\")\n",
    "for text in corpus_4_docs.data:\n",
    "    print(\"\\t\" + text[:30])"
   ]
  },
  {
   "cell_type": "code",
   "execution_count": 14,
   "metadata": {},
   "outputs": [
    {
     "data": {
      "text/plain": [
       "sklearn.utils.Bunch"
      ]
     },
     "execution_count": 14,
     "metadata": {},
     "output_type": "execute_result"
    }
   ],
   "source": [
    "type(corpus_4_docs)"
   ]
  },
  {
   "cell_type": "markdown",
   "metadata": {
    "slideshow": {
     "slide_type": "slide"
    }
   },
   "source": [
    "### Feature Generation fromText\n",
    "\n",
    "To create structured features form unstructured text, we must at least tokenise the text using a **tokenizer** and then turn the tokens into numerical features using a **vectorizer**.\n",
    "\n",
    "We will consider the following vectorisers, which apply a tokeniser internally:\n",
    "- [CountVectorizer](https://scikit-learn.org/stable/modules/generated/sklearn.feature_extraction.text.CountVectorizer.html)\n",
    "    - set ```binary=True``` to generate **Binary Term Occurrence** vectors\n",
    "    - set ```binary=False``` (default) to generate **Term Occurrence** vectors\n",
    "- [TfidfVectorizer](https://scikit-learn.org/stable/modules/generated/sklearn.feature_extraction.text.TfidfVectorizer.html)\n",
    "    - set ```use_idf=False``` to generate **Term Frequency** vectors\n",
    "    - set ```use_idf=True``` to generate **Term Frequency - Inverse Document Frequency** vectors\n",
    "    \n",
    "    \n",
    "Sample document set:\n",
    "- d1 = \"Saturn is the gas planet with the rings.\"\n",
    "- d2 = \"Jupiter is the largest gas planet.\"\n",
    "- d3 = \"Saturn is the Roman god of sowing.\""
   ]
  },
  {
   "cell_type": "markdown",
   "metadata": {
    "slideshow": {
     "slide_type": "subslide"
    }
   },
   "source": [
    "### Feature Generation Examples – (Binary) Term Occurrences"
   ]
  },
  {
   "cell_type": "code",
   "execution_count": 15,
   "metadata": {
    "slideshow": {
     "slide_type": "subslide"
    }
   },
   "outputs": [
    {
     "name": "stdout",
     "output_type": "stream",
     "text": [
      "Vectorizer created 13 features.\n"
     ]
    },
    {
     "data": {
      "text/html": [
       "<div>\n",
       "<style scoped>\n",
       "    .dataframe tbody tr th:only-of-type {\n",
       "        vertical-align: middle;\n",
       "    }\n",
       "\n",
       "    .dataframe tbody tr th {\n",
       "        vertical-align: top;\n",
       "    }\n",
       "\n",
       "    .dataframe thead th {\n",
       "        text-align: right;\n",
       "    }\n",
       "</style>\n",
       "<table border=\"1\" class=\"dataframe\">\n",
       "  <thead>\n",
       "    <tr style=\"text-align: right;\">\n",
       "      <th></th>\n",
       "      <th>gas</th>\n",
       "      <th>god</th>\n",
       "      <th>is</th>\n",
       "      <th>jupiter</th>\n",
       "      <th>largest</th>\n",
       "      <th>of</th>\n",
       "      <th>planet</th>\n",
       "      <th>rings</th>\n",
       "      <th>roman</th>\n",
       "      <th>saturn</th>\n",
       "      <th>sowing</th>\n",
       "      <th>the</th>\n",
       "      <th>with</th>\n",
       "    </tr>\n",
       "  </thead>\n",
       "  <tbody>\n",
       "    <tr>\n",
       "      <th>0</th>\n",
       "      <td>1</td>\n",
       "      <td>0</td>\n",
       "      <td>1</td>\n",
       "      <td>0</td>\n",
       "      <td>0</td>\n",
       "      <td>0</td>\n",
       "      <td>1</td>\n",
       "      <td>1</td>\n",
       "      <td>0</td>\n",
       "      <td>1</td>\n",
       "      <td>0</td>\n",
       "      <td>1</td>\n",
       "      <td>1</td>\n",
       "    </tr>\n",
       "    <tr>\n",
       "      <th>1</th>\n",
       "      <td>1</td>\n",
       "      <td>0</td>\n",
       "      <td>1</td>\n",
       "      <td>1</td>\n",
       "      <td>1</td>\n",
       "      <td>0</td>\n",
       "      <td>1</td>\n",
       "      <td>0</td>\n",
       "      <td>0</td>\n",
       "      <td>0</td>\n",
       "      <td>0</td>\n",
       "      <td>1</td>\n",
       "      <td>0</td>\n",
       "    </tr>\n",
       "    <tr>\n",
       "      <th>2</th>\n",
       "      <td>0</td>\n",
       "      <td>1</td>\n",
       "      <td>1</td>\n",
       "      <td>0</td>\n",
       "      <td>0</td>\n",
       "      <td>1</td>\n",
       "      <td>0</td>\n",
       "      <td>0</td>\n",
       "      <td>1</td>\n",
       "      <td>1</td>\n",
       "      <td>1</td>\n",
       "      <td>1</td>\n",
       "      <td>0</td>\n",
       "    </tr>\n",
       "  </tbody>\n",
       "</table>\n",
       "</div>"
      ],
      "text/plain": [
       "   gas  god  is  jupiter  largest  of  planet  rings  roman  saturn  sowing  \\\n",
       "0    1    0   1        0        0   0       1      1      0       1       0   \n",
       "1    1    0   1        1        1   0       1      0      0       0       0   \n",
       "2    0    1   1        0        0   1       0      0      1       1       1   \n",
       "\n",
       "   the  with  \n",
       "0    1     1  \n",
       "1    1     0  \n",
       "2    1     0  "
      ]
     },
     "metadata": {},
     "output_type": "display_data"
    }
   ],
   "source": [
    "from sklearn.feature_extraction.text import CountVectorizer\n",
    "import pandas as pd\n",
    "\n",
    "d1 = \"Saturn is the gas planet with the rings.\"\n",
    "d2 = \"Jupiter is the largest gas planet.\"\n",
    "d3 = \"Saturn is the Roman god of sowing.\"\n",
    "docs = [d1, d2, d3]\n",
    "\n",
    "vectorizer = CountVectorizer(binary=True) #binary True does not count how often is appears\n",
    "matrix = vectorizer.fit_transform(docs) #makes tokenization internally\n",
    "\n",
    "print(\"Vectorizer created {} features.\".format(len(vectorizer.get_feature_names())))\n",
    "\n",
    "features = pd.DataFrame(matrix.toarray(), columns=vectorizer.get_feature_names())\n",
    "display(features)"
   ]
  },
  {
   "cell_type": "markdown",
   "metadata": {},
   "source": [
    "Have a look at the value for 'the' at document 0.\n",
    "If binary is true we only have a value of 1 and not 2."
   ]
  },
  {
   "cell_type": "code",
   "execution_count": 16,
   "metadata": {},
   "outputs": [
    {
     "data": {
      "text/html": [
       "<div>\n",
       "<style scoped>\n",
       "    .dataframe tbody tr th:only-of-type {\n",
       "        vertical-align: middle;\n",
       "    }\n",
       "\n",
       "    .dataframe tbody tr th {\n",
       "        vertical-align: top;\n",
       "    }\n",
       "\n",
       "    .dataframe thead th {\n",
       "        text-align: right;\n",
       "    }\n",
       "</style>\n",
       "<table border=\"1\" class=\"dataframe\">\n",
       "  <thead>\n",
       "    <tr style=\"text-align: right;\">\n",
       "      <th></th>\n",
       "      <th>gas</th>\n",
       "      <th>god</th>\n",
       "      <th>is</th>\n",
       "      <th>jupiter</th>\n",
       "      <th>largest</th>\n",
       "      <th>of</th>\n",
       "      <th>planet</th>\n",
       "      <th>rings</th>\n",
       "      <th>roman</th>\n",
       "      <th>saturn</th>\n",
       "      <th>sowing</th>\n",
       "      <th>the</th>\n",
       "      <th>with</th>\n",
       "    </tr>\n",
       "  </thead>\n",
       "  <tbody>\n",
       "    <tr>\n",
       "      <th>0</th>\n",
       "      <td>1</td>\n",
       "      <td>0</td>\n",
       "      <td>1</td>\n",
       "      <td>0</td>\n",
       "      <td>0</td>\n",
       "      <td>0</td>\n",
       "      <td>1</td>\n",
       "      <td>1</td>\n",
       "      <td>0</td>\n",
       "      <td>1</td>\n",
       "      <td>0</td>\n",
       "      <td>2</td>\n",
       "      <td>1</td>\n",
       "    </tr>\n",
       "    <tr>\n",
       "      <th>1</th>\n",
       "      <td>1</td>\n",
       "      <td>0</td>\n",
       "      <td>1</td>\n",
       "      <td>1</td>\n",
       "      <td>1</td>\n",
       "      <td>0</td>\n",
       "      <td>1</td>\n",
       "      <td>0</td>\n",
       "      <td>0</td>\n",
       "      <td>0</td>\n",
       "      <td>0</td>\n",
       "      <td>1</td>\n",
       "      <td>0</td>\n",
       "    </tr>\n",
       "    <tr>\n",
       "      <th>2</th>\n",
       "      <td>0</td>\n",
       "      <td>1</td>\n",
       "      <td>1</td>\n",
       "      <td>0</td>\n",
       "      <td>0</td>\n",
       "      <td>1</td>\n",
       "      <td>0</td>\n",
       "      <td>0</td>\n",
       "      <td>1</td>\n",
       "      <td>1</td>\n",
       "      <td>1</td>\n",
       "      <td>1</td>\n",
       "      <td>0</td>\n",
       "    </tr>\n",
       "  </tbody>\n",
       "</table>\n",
       "</div>"
      ],
      "text/plain": [
       "   gas  god  is  jupiter  largest  of  planet  rings  roman  saturn  sowing  \\\n",
       "0    1    0   1        0        0   0       1      1      0       1       0   \n",
       "1    1    0   1        1        1   0       1      0      0       0       0   \n",
       "2    0    1   1        0        0   1       0      0      1       1       1   \n",
       "\n",
       "   the  with  \n",
       "0    2     1  \n",
       "1    1     0  \n",
       "2    1     0  "
      ]
     },
     "metadata": {},
     "output_type": "display_data"
    }
   ],
   "source": [
    "vectorizer = CountVectorizer(binary=False)\n",
    "matrix = vectorizer.fit_transform(docs)\n",
    "features = pd.DataFrame(matrix.toarray(), columns=vectorizer.get_feature_names())\n",
    "display(features)"
   ]
  },
  {
   "cell_type": "markdown",
   "metadata": {
    "slideshow": {
     "slide_type": "subslide"
    }
   },
   "source": [
    "### Feature Generation Examples –Term Frequency"
   ]
  },
  {
   "cell_type": "markdown",
   "metadata": {},
   "source": [
    "if using l1 norm, the computation formual is $\\frac{\\textrm{term occurrence}}{\\textrm{number of terms in document}}$"
   ]
  },
  {
   "cell_type": "code",
   "execution_count": 17,
   "metadata": {
    "slideshow": {
     "slide_type": "-"
    }
   },
   "outputs": [
    {
     "data": {
      "text/html": [
       "<div>\n",
       "<style scoped>\n",
       "    .dataframe tbody tr th:only-of-type {\n",
       "        vertical-align: middle;\n",
       "    }\n",
       "\n",
       "    .dataframe tbody tr th {\n",
       "        vertical-align: top;\n",
       "    }\n",
       "\n",
       "    .dataframe thead th {\n",
       "        text-align: right;\n",
       "    }\n",
       "</style>\n",
       "<table border=\"1\" class=\"dataframe\">\n",
       "  <thead>\n",
       "    <tr style=\"text-align: right;\">\n",
       "      <th></th>\n",
       "      <th>gas</th>\n",
       "      <th>god</th>\n",
       "      <th>is</th>\n",
       "      <th>jupiter</th>\n",
       "      <th>largest</th>\n",
       "      <th>of</th>\n",
       "      <th>planet</th>\n",
       "      <th>rings</th>\n",
       "      <th>roman</th>\n",
       "      <th>saturn</th>\n",
       "      <th>sowing</th>\n",
       "      <th>the</th>\n",
       "      <th>with</th>\n",
       "    </tr>\n",
       "  </thead>\n",
       "  <tbody>\n",
       "    <tr>\n",
       "      <th>0</th>\n",
       "      <td>0.125000</td>\n",
       "      <td>0.000000</td>\n",
       "      <td>0.125000</td>\n",
       "      <td>0.000000</td>\n",
       "      <td>0.000000</td>\n",
       "      <td>0.000000</td>\n",
       "      <td>0.125000</td>\n",
       "      <td>0.125</td>\n",
       "      <td>0.000000</td>\n",
       "      <td>0.125000</td>\n",
       "      <td>0.000000</td>\n",
       "      <td>0.250000</td>\n",
       "      <td>0.125</td>\n",
       "    </tr>\n",
       "    <tr>\n",
       "      <th>1</th>\n",
       "      <td>0.166667</td>\n",
       "      <td>0.000000</td>\n",
       "      <td>0.166667</td>\n",
       "      <td>0.166667</td>\n",
       "      <td>0.166667</td>\n",
       "      <td>0.000000</td>\n",
       "      <td>0.166667</td>\n",
       "      <td>0.000</td>\n",
       "      <td>0.000000</td>\n",
       "      <td>0.000000</td>\n",
       "      <td>0.000000</td>\n",
       "      <td>0.166667</td>\n",
       "      <td>0.000</td>\n",
       "    </tr>\n",
       "    <tr>\n",
       "      <th>2</th>\n",
       "      <td>0.000000</td>\n",
       "      <td>0.142857</td>\n",
       "      <td>0.142857</td>\n",
       "      <td>0.000000</td>\n",
       "      <td>0.000000</td>\n",
       "      <td>0.142857</td>\n",
       "      <td>0.000000</td>\n",
       "      <td>0.000</td>\n",
       "      <td>0.142857</td>\n",
       "      <td>0.142857</td>\n",
       "      <td>0.142857</td>\n",
       "      <td>0.142857</td>\n",
       "      <td>0.000</td>\n",
       "    </tr>\n",
       "  </tbody>\n",
       "</table>\n",
       "</div>"
      ],
      "text/plain": [
       "        gas       god        is   jupiter   largest        of    planet  \\\n",
       "0  0.125000  0.000000  0.125000  0.000000  0.000000  0.000000  0.125000   \n",
       "1  0.166667  0.000000  0.166667  0.166667  0.166667  0.000000  0.166667   \n",
       "2  0.000000  0.142857  0.142857  0.000000  0.000000  0.142857  0.000000   \n",
       "\n",
       "   rings     roman    saturn    sowing       the   with  \n",
       "0  0.125  0.000000  0.125000  0.000000  0.250000  0.125  \n",
       "1  0.000  0.000000  0.000000  0.000000  0.166667  0.000  \n",
       "2  0.000  0.142857  0.142857  0.142857  0.142857  0.000  "
      ]
     },
     "metadata": {},
     "output_type": "display_data"
    }
   ],
   "source": [
    "from sklearn.feature_extraction.text import TfidfVectorizer\n",
    "\n",
    "vectorizer = TfidfVectorizer(use_idf=False, norm='l1') #normalization occurence Sum=1\n",
    "matrix = vectorizer.fit_transform(docs)\n",
    "\n",
    "features = pd.DataFrame(matrix.toarray(), columns=vectorizer.get_feature_names())\n",
    "display(features)"
   ]
  },
  {
   "cell_type": "markdown",
   "metadata": {},
   "source": [
    "if using l2 norm, the computation formual is $\\frac{\\textrm{term occurrence}}{\\sqrt{\\sum_{term \\in document}\\textrm{(occurrence of term)} ^2 }}$"
   ]
  },
  {
   "cell_type": "code",
   "execution_count": 18,
   "metadata": {},
   "outputs": [
    {
     "data": {
      "text/html": [
       "<div>\n",
       "<style scoped>\n",
       "    .dataframe tbody tr th:only-of-type {\n",
       "        vertical-align: middle;\n",
       "    }\n",
       "\n",
       "    .dataframe tbody tr th {\n",
       "        vertical-align: top;\n",
       "    }\n",
       "\n",
       "    .dataframe thead th {\n",
       "        text-align: right;\n",
       "    }\n",
       "</style>\n",
       "<table border=\"1\" class=\"dataframe\">\n",
       "  <thead>\n",
       "    <tr style=\"text-align: right;\">\n",
       "      <th></th>\n",
       "      <th>gas</th>\n",
       "      <th>god</th>\n",
       "      <th>is</th>\n",
       "      <th>jupiter</th>\n",
       "      <th>largest</th>\n",
       "      <th>of</th>\n",
       "      <th>planet</th>\n",
       "      <th>rings</th>\n",
       "      <th>roman</th>\n",
       "      <th>saturn</th>\n",
       "      <th>sowing</th>\n",
       "      <th>the</th>\n",
       "      <th>with</th>\n",
       "    </tr>\n",
       "  </thead>\n",
       "  <tbody>\n",
       "    <tr>\n",
       "      <th>0</th>\n",
       "      <td>0.316228</td>\n",
       "      <td>0.000000</td>\n",
       "      <td>0.316228</td>\n",
       "      <td>0.000000</td>\n",
       "      <td>0.000000</td>\n",
       "      <td>0.000000</td>\n",
       "      <td>0.316228</td>\n",
       "      <td>0.316228</td>\n",
       "      <td>0.000000</td>\n",
       "      <td>0.316228</td>\n",
       "      <td>0.000000</td>\n",
       "      <td>0.632456</td>\n",
       "      <td>0.316228</td>\n",
       "    </tr>\n",
       "    <tr>\n",
       "      <th>1</th>\n",
       "      <td>0.408248</td>\n",
       "      <td>0.000000</td>\n",
       "      <td>0.408248</td>\n",
       "      <td>0.408248</td>\n",
       "      <td>0.408248</td>\n",
       "      <td>0.000000</td>\n",
       "      <td>0.408248</td>\n",
       "      <td>0.000000</td>\n",
       "      <td>0.000000</td>\n",
       "      <td>0.000000</td>\n",
       "      <td>0.000000</td>\n",
       "      <td>0.408248</td>\n",
       "      <td>0.000000</td>\n",
       "    </tr>\n",
       "    <tr>\n",
       "      <th>2</th>\n",
       "      <td>0.000000</td>\n",
       "      <td>0.377964</td>\n",
       "      <td>0.377964</td>\n",
       "      <td>0.000000</td>\n",
       "      <td>0.000000</td>\n",
       "      <td>0.377964</td>\n",
       "      <td>0.000000</td>\n",
       "      <td>0.000000</td>\n",
       "      <td>0.377964</td>\n",
       "      <td>0.377964</td>\n",
       "      <td>0.377964</td>\n",
       "      <td>0.377964</td>\n",
       "      <td>0.000000</td>\n",
       "    </tr>\n",
       "  </tbody>\n",
       "</table>\n",
       "</div>"
      ],
      "text/plain": [
       "        gas       god        is   jupiter   largest        of    planet  \\\n",
       "0  0.316228  0.000000  0.316228  0.000000  0.000000  0.000000  0.316228   \n",
       "1  0.408248  0.000000  0.408248  0.408248  0.408248  0.000000  0.408248   \n",
       "2  0.000000  0.377964  0.377964  0.000000  0.000000  0.377964  0.000000   \n",
       "\n",
       "      rings     roman    saturn    sowing       the      with  \n",
       "0  0.316228  0.000000  0.316228  0.000000  0.632456  0.316228  \n",
       "1  0.000000  0.000000  0.000000  0.000000  0.408248  0.000000  \n",
       "2  0.000000  0.377964  0.377964  0.377964  0.377964  0.000000  "
      ]
     },
     "metadata": {},
     "output_type": "display_data"
    }
   ],
   "source": [
    "vectorizer = TfidfVectorizer(use_idf=False, norm='l2')\n",
    "matrix = vectorizer.fit_transform(docs)\n",
    "\n",
    "features = pd.DataFrame(matrix.toarray(), columns=vectorizer.get_feature_names())\n",
    "display(features)"
   ]
  },
  {
   "cell_type": "markdown",
   "metadata": {
    "slideshow": {
     "slide_type": "subslide"
    }
   },
   "source": [
    "### Feature Generation Examples – Term Frequency - Inverse Document Frequency"
   ]
  },
  {
   "cell_type": "code",
   "execution_count": 19,
   "metadata": {
    "slideshow": {
     "slide_type": "-"
    }
   },
   "outputs": [
    {
     "data": {
      "text/html": [
       "<div>\n",
       "<style scoped>\n",
       "    .dataframe tbody tr th:only-of-type {\n",
       "        vertical-align: middle;\n",
       "    }\n",
       "\n",
       "    .dataframe tbody tr th {\n",
       "        vertical-align: top;\n",
       "    }\n",
       "\n",
       "    .dataframe thead th {\n",
       "        text-align: right;\n",
       "    }\n",
       "</style>\n",
       "<table border=\"1\" class=\"dataframe\">\n",
       "  <thead>\n",
       "    <tr style=\"text-align: right;\">\n",
       "      <th></th>\n",
       "      <th>gas</th>\n",
       "      <th>god</th>\n",
       "      <th>is</th>\n",
       "      <th>jupiter</th>\n",
       "      <th>largest</th>\n",
       "      <th>of</th>\n",
       "      <th>planet</th>\n",
       "      <th>rings</th>\n",
       "      <th>roman</th>\n",
       "      <th>saturn</th>\n",
       "      <th>sowing</th>\n",
       "      <th>the</th>\n",
       "      <th>with</th>\n",
       "    </tr>\n",
       "  </thead>\n",
       "  <tbody>\n",
       "    <tr>\n",
       "      <th>0</th>\n",
       "      <td>0.324900</td>\n",
       "      <td>0.000000</td>\n",
       "      <td>0.252314</td>\n",
       "      <td>0.000000</td>\n",
       "      <td>0.000000</td>\n",
       "      <td>0.000000</td>\n",
       "      <td>0.324900</td>\n",
       "      <td>0.427205</td>\n",
       "      <td>0.000000</td>\n",
       "      <td>0.3249</td>\n",
       "      <td>0.000000</td>\n",
       "      <td>0.504628</td>\n",
       "      <td>0.427205</td>\n",
       "    </tr>\n",
       "    <tr>\n",
       "      <th>1</th>\n",
       "      <td>0.387376</td>\n",
       "      <td>0.000000</td>\n",
       "      <td>0.300832</td>\n",
       "      <td>0.509353</td>\n",
       "      <td>0.509353</td>\n",
       "      <td>0.000000</td>\n",
       "      <td>0.387376</td>\n",
       "      <td>0.000000</td>\n",
       "      <td>0.000000</td>\n",
       "      <td>0.0000</td>\n",
       "      <td>0.000000</td>\n",
       "      <td>0.300832</td>\n",
       "      <td>0.000000</td>\n",
       "    </tr>\n",
       "    <tr>\n",
       "      <th>2</th>\n",
       "      <td>0.000000</td>\n",
       "      <td>0.435357</td>\n",
       "      <td>0.257129</td>\n",
       "      <td>0.000000</td>\n",
       "      <td>0.000000</td>\n",
       "      <td>0.435357</td>\n",
       "      <td>0.000000</td>\n",
       "      <td>0.000000</td>\n",
       "      <td>0.435357</td>\n",
       "      <td>0.3311</td>\n",
       "      <td>0.435357</td>\n",
       "      <td>0.257129</td>\n",
       "      <td>0.000000</td>\n",
       "    </tr>\n",
       "  </tbody>\n",
       "</table>\n",
       "</div>"
      ],
      "text/plain": [
       "        gas       god        is   jupiter   largest        of    planet  \\\n",
       "0  0.324900  0.000000  0.252314  0.000000  0.000000  0.000000  0.324900   \n",
       "1  0.387376  0.000000  0.300832  0.509353  0.509353  0.000000  0.387376   \n",
       "2  0.000000  0.435357  0.257129  0.000000  0.000000  0.435357  0.000000   \n",
       "\n",
       "      rings     roman  saturn    sowing       the      with  \n",
       "0  0.427205  0.000000  0.3249  0.000000  0.504628  0.427205  \n",
       "1  0.000000  0.000000  0.0000  0.000000  0.300832  0.000000  \n",
       "2  0.000000  0.435357  0.3311  0.435357  0.257129  0.000000  "
      ]
     },
     "metadata": {},
     "output_type": "display_data"
    }
   ],
   "source": [
    "from sklearn.feature_extraction.text import TfidfVectorizer\n",
    "\n",
    "vectorizer = TfidfVectorizer()\n",
    "matrix = vectorizer.fit_transform(docs)\n",
    "\n",
    "features = pd.DataFrame(matrix.toarray(), columns=vectorizer.get_feature_names())\n",
    "display(features)"
   ]
  },
  {
   "cell_type": "markdown",
   "metadata": {},
   "source": [
    "idf = $\\log\\frac{\\textrm{number of documents}}{\\textrm{number of documents where term occurs}}+1$"
   ]
  },
  {
   "cell_type": "markdown",
   "metadata": {
    "slideshow": {
     "slide_type": "subslide"
    }
   },
   "source": [
    "### Removing stopwords\n",
    "\n",
    "To filter out stop words, we set the ```stop_words``` parameter to a list of tokens we provide or simply to ```'english'``` to use a default set of stop words. This works for both vectorizers."
   ]
  },
  {
   "cell_type": "code",
   "execution_count": 20,
   "metadata": {},
   "outputs": [
    {
     "data": {
      "text/html": [
       "<div>\n",
       "<style scoped>\n",
       "    .dataframe tbody tr th:only-of-type {\n",
       "        vertical-align: middle;\n",
       "    }\n",
       "\n",
       "    .dataframe tbody tr th {\n",
       "        vertical-align: top;\n",
       "    }\n",
       "\n",
       "    .dataframe thead th {\n",
       "        text-align: right;\n",
       "    }\n",
       "</style>\n",
       "<table border=\"1\" class=\"dataframe\">\n",
       "  <thead>\n",
       "    <tr style=\"text-align: right;\">\n",
       "      <th></th>\n",
       "      <th>gas</th>\n",
       "      <th>god</th>\n",
       "      <th>jupiter</th>\n",
       "      <th>largest</th>\n",
       "      <th>planet</th>\n",
       "      <th>rings</th>\n",
       "      <th>roman</th>\n",
       "      <th>saturn</th>\n",
       "      <th>sowing</th>\n",
       "    </tr>\n",
       "  </thead>\n",
       "  <tbody>\n",
       "    <tr>\n",
       "      <th>0</th>\n",
       "      <td>0.459854</td>\n",
       "      <td>0.000000</td>\n",
       "      <td>0.000000</td>\n",
       "      <td>0.000000</td>\n",
       "      <td>0.459854</td>\n",
       "      <td>0.604652</td>\n",
       "      <td>0.000000</td>\n",
       "      <td>0.459854</td>\n",
       "      <td>0.000000</td>\n",
       "    </tr>\n",
       "    <tr>\n",
       "      <th>1</th>\n",
       "      <td>0.428046</td>\n",
       "      <td>0.000000</td>\n",
       "      <td>0.562829</td>\n",
       "      <td>0.562829</td>\n",
       "      <td>0.428046</td>\n",
       "      <td>0.000000</td>\n",
       "      <td>0.000000</td>\n",
       "      <td>0.000000</td>\n",
       "      <td>0.000000</td>\n",
       "    </tr>\n",
       "    <tr>\n",
       "      <th>2</th>\n",
       "      <td>0.000000</td>\n",
       "      <td>0.528635</td>\n",
       "      <td>0.000000</td>\n",
       "      <td>0.000000</td>\n",
       "      <td>0.000000</td>\n",
       "      <td>0.000000</td>\n",
       "      <td>0.528635</td>\n",
       "      <td>0.402040</td>\n",
       "      <td>0.528635</td>\n",
       "    </tr>\n",
       "  </tbody>\n",
       "</table>\n",
       "</div>"
      ],
      "text/plain": [
       "        gas       god   jupiter   largest    planet     rings     roman  \\\n",
       "0  0.459854  0.000000  0.000000  0.000000  0.459854  0.604652  0.000000   \n",
       "1  0.428046  0.000000  0.562829  0.562829  0.428046  0.000000  0.000000   \n",
       "2  0.000000  0.528635  0.000000  0.000000  0.000000  0.000000  0.528635   \n",
       "\n",
       "     saturn    sowing  \n",
       "0  0.459854  0.000000  \n",
       "1  0.000000  0.000000  \n",
       "2  0.402040  0.528635  "
      ]
     },
     "metadata": {},
     "output_type": "display_data"
    }
   ],
   "source": [
    "vectorizer = TfidfVectorizer(stop_words='english') \n",
    "\n",
    "matrix = vectorizer.fit_transform(docs)\n",
    "\n",
    "features = pd.DataFrame(matrix.toarray(), columns=vectorizer.get_feature_names())\n",
    "display(features)"
   ]
  },
  {
   "cell_type": "markdown",
   "metadata": {
    "slideshow": {
     "slide_type": "subslide"
    }
   },
   "source": [
    "### Apply stemming\n",
    "\n",
    "Stemming is not directly avaiable via a parameter, but we can provide our own tokenizer that applies stemming. If we want to remove stopwords, we have to do that before stemming."
   ]
  },
  {
   "cell_type": "code",
   "execution_count": 21,
   "metadata": {},
   "outputs": [
    {
     "name": "stderr",
     "output_type": "stream",
     "text": [
      "[nltk_data] Downloading package stopwords to\n",
      "[nltk_data]     C:\\Users\\tobi1\\AppData\\Roaming\\nltk_data...\n",
      "[nltk_data]   Package stopwords is already up-to-date!\n"
     ]
    }
   ],
   "source": [
    "import nltk\n",
    "from nltk.stem.porter import PorterStemmer\n",
    "from nltk.corpus import stopwords\n",
    "nltk.download('stopwords')\n",
    "\n",
    "import re, string\n",
    "\n",
    "token_pattern = re.compile(r\"(?u)\\b\\w\\w+\\b\") # split on whitespace\n",
    "\n",
    "def tokenize(text):\n",
    "    my_stopwords = set(stopwords.words('english'))\n",
    "    stemmer = PorterStemmer()\n",
    "    stems = []\n",
    "    \n",
    "    tokens = token_pattern.findall(text) #split at \" \"\n",
    "    for item in tokens:\n",
    "        if item not in my_stopwords:\n",
    "            stems.append(stemmer.stem(item))\n",
    "    return stems"
   ]
  },
  {
   "cell_type": "code",
   "execution_count": 23,
   "metadata": {},
   "outputs": [
    {
     "data": {
      "text/html": [
       "<div>\n",
       "<style scoped>\n",
       "    .dataframe tbody tr th:only-of-type {\n",
       "        vertical-align: middle;\n",
       "    }\n",
       "\n",
       "    .dataframe tbody tr th {\n",
       "        vertical-align: top;\n",
       "    }\n",
       "\n",
       "    .dataframe thead th {\n",
       "        text-align: right;\n",
       "    }\n",
       "</style>\n",
       "<table border=\"1\" class=\"dataframe\">\n",
       "  <thead>\n",
       "    <tr style=\"text-align: right;\">\n",
       "      <th></th>\n",
       "      <th>ga</th>\n",
       "      <th>god</th>\n",
       "      <th>jupit</th>\n",
       "      <th>largest</th>\n",
       "      <th>planet</th>\n",
       "      <th>ring</th>\n",
       "      <th>roman</th>\n",
       "      <th>saturn</th>\n",
       "      <th>sow</th>\n",
       "    </tr>\n",
       "  </thead>\n",
       "  <tbody>\n",
       "    <tr>\n",
       "      <th>0</th>\n",
       "      <td>0.459854</td>\n",
       "      <td>0.000000</td>\n",
       "      <td>0.000000</td>\n",
       "      <td>0.000000</td>\n",
       "      <td>0.459854</td>\n",
       "      <td>0.604652</td>\n",
       "      <td>0.000000</td>\n",
       "      <td>0.459854</td>\n",
       "      <td>0.000000</td>\n",
       "    </tr>\n",
       "    <tr>\n",
       "      <th>1</th>\n",
       "      <td>0.428046</td>\n",
       "      <td>0.000000</td>\n",
       "      <td>0.562829</td>\n",
       "      <td>0.562829</td>\n",
       "      <td>0.428046</td>\n",
       "      <td>0.000000</td>\n",
       "      <td>0.000000</td>\n",
       "      <td>0.000000</td>\n",
       "      <td>0.000000</td>\n",
       "    </tr>\n",
       "    <tr>\n",
       "      <th>2</th>\n",
       "      <td>0.000000</td>\n",
       "      <td>0.528635</td>\n",
       "      <td>0.000000</td>\n",
       "      <td>0.000000</td>\n",
       "      <td>0.000000</td>\n",
       "      <td>0.000000</td>\n",
       "      <td>0.528635</td>\n",
       "      <td>0.402040</td>\n",
       "      <td>0.528635</td>\n",
       "    </tr>\n",
       "  </tbody>\n",
       "</table>\n",
       "</div>"
      ],
      "text/plain": [
       "         ga       god     jupit   largest    planet      ring     roman  \\\n",
       "0  0.459854  0.000000  0.000000  0.000000  0.459854  0.604652  0.000000   \n",
       "1  0.428046  0.000000  0.562829  0.562829  0.428046  0.000000  0.000000   \n",
       "2  0.000000  0.528635  0.000000  0.000000  0.000000  0.000000  0.528635   \n",
       "\n",
       "     saturn       sow  \n",
       "0  0.459854  0.000000  \n",
       "1  0.000000  0.000000  \n",
       "2  0.402040  0.528635  "
      ]
     },
     "metadata": {},
     "output_type": "display_data"
    }
   ],
   "source": [
    "stem_vectorizer = TfidfVectorizer(tokenizer=tokenize)\n",
    "matrix = stem_vectorizer.fit_transform(docs)\n",
    "\n",
    "features = pd.DataFrame(matrix.toarray(), columns=stem_vectorizer.get_feature_names())\n",
    "display(features)"
   ]
  },
  {
   "cell_type": "markdown",
   "metadata": {
    "slideshow": {
     "slide_type": "slide"
    }
   },
   "source": [
    "### Computing similiarity scores\n",
    "\n",
    "To calculate the similarity between two documents, you can use any of the [pair-wise metrics](https://scikit-learn.org/stable/modules/classes.html#module-sklearn.metrics.pairwise) provided by scikit-learn (see also the [user guide](https://scikit-learn.org/stable/modules/metrics.html))."
   ]
  },
  {
   "cell_type": "code",
   "execution_count": 11,
   "metadata": {
    "slideshow": {
     "slide_type": "subslide"
    }
   },
   "outputs": [
    {
     "data": {
      "text/html": [
       "<div>\n",
       "<style scoped>\n",
       "    .dataframe tbody tr th:only-of-type {\n",
       "        vertical-align: middle;\n",
       "    }\n",
       "\n",
       "    .dataframe tbody tr th {\n",
       "        vertical-align: top;\n",
       "    }\n",
       "\n",
       "    .dataframe thead th {\n",
       "        text-align: right;\n",
       "    }\n",
       "</style>\n",
       "<table border=\"1\" class=\"dataframe\">\n",
       "  <thead>\n",
       "    <tr style=\"text-align: right;\">\n",
       "      <th></th>\n",
       "      <th>0</th>\n",
       "      <th>1</th>\n",
       "      <th>2</th>\n",
       "    </tr>\n",
       "  </thead>\n",
       "  <tbody>\n",
       "    <tr>\n",
       "      <th>0</th>\n",
       "      <td>1.000000</td>\n",
       "      <td>0.393677</td>\n",
       "      <td>0.18488</td>\n",
       "    </tr>\n",
       "    <tr>\n",
       "      <th>1</th>\n",
       "      <td>0.393677</td>\n",
       "      <td>1.000000</td>\n",
       "      <td>0.00000</td>\n",
       "    </tr>\n",
       "    <tr>\n",
       "      <th>2</th>\n",
       "      <td>0.184880</td>\n",
       "      <td>0.000000</td>\n",
       "      <td>1.00000</td>\n",
       "    </tr>\n",
       "  </tbody>\n",
       "</table>\n",
       "</div>"
      ],
      "text/plain": [
       "          0         1        2\n",
       "0  1.000000  0.393677  0.18488\n",
       "1  0.393677  1.000000  0.00000\n",
       "2  0.184880  0.000000  1.00000"
      ]
     },
     "metadata": {},
     "output_type": "display_data"
    }
   ],
   "source": [
    "from sklearn.metrics.pairwise import cosine_similarity # computes angle\n",
    "\n",
    "sim = pd.DataFrame(cosine_similarity(matrix))\n",
    "display(sim)"
   ]
  },
  {
   "cell_type": "markdown",
   "metadata": {
    "slideshow": {
     "slide_type": "slide"
    }
   },
   "source": [
    "### Feature Selection\n",
    "\n",
    "The feature creation shown above can create a very large amount of features! But not all of these features are helpful for your task. Its often a good idea to prune too frequent or too infrequent tokens to reduce the amount of features.\n",
    "\n",
    "Both vectorisers support pruning with the following parameters:\n",
    "- ```min_df```: Removes all features which occur in less than X examples. X is interpreted as absolute number of examples if it is an integer, and as a percentage of all examples if it is a float.\n",
    "- ```max_df```: Removes all features which occur in more than X examples.  X is interpreted as absolute number of examples if it is an integer, and as a percentage of all examples if it is a float.\n",
    "- ```max_features```: Only keep the X most frequently occurring features\n"
   ]
  },
  {
   "cell_type": "code",
   "execution_count": 31,
   "metadata": {
    "slideshow": {
     "slide_type": "subslide"
    }
   },
   "outputs": [],
   "source": [
    "# vectorizer = TfidfVectorizer(min_df=0.1, max_df=0.3) # Percentual usually\n",
    "vectorizer = TfidfVectorizer(min_df=5, max_df=20) # Absolute\n",
    "# vectorizer = TfidfVectorizer(max_features=100) "
   ]
  },
  {
   "cell_type": "markdown",
   "metadata": {
    "slideshow": {
     "slide_type": "subslide"
    }
   },
   "source": [
    "### Inspecting Token Frequencies By Class\n",
    "\n",
    "The following code lets you inspect the frequencies of all created tokens, grouped by the value of the target variable. Inspecting this data can help you to decide how you can reasonably prune your features and get an understanding of the differences between the classes in your dataset."
   ]
  },
  {
   "cell_type": "code",
   "execution_count": 32,
   "metadata": {},
   "outputs": [],
   "source": [
    "import pandas as pd\n",
    "\n",
    "def generate_word_list(X, Y, feature_names, target_names):\n",
    "    d = pd.DataFrame(X.toarray(), columns=feature_names)\n",
    "    doc = d[ d>0 ].count()\n",
    "    d = d.assign(target=Y)\n",
    "    d = d.groupby(by='target').sum()\n",
    "    d = d.transpose()\n",
    "    d.columns = target_names\n",
    "    total = d.sum(axis=1)\n",
    "    d = d.assign(total_occurrences=total)\n",
    "    d = d.assign(document_occurrences=doc)\n",
    "    d = d.sort_values(by='total_occurrences', ascending=False)\n",
    "    return d"
   ]
  },
  {
   "cell_type": "code",
   "execution_count": 33,
   "metadata": {},
   "outputs": [
    {
     "data": {
      "text/html": [
       "<div>\n",
       "<style scoped>\n",
       "    .dataframe tbody tr th:only-of-type {\n",
       "        vertical-align: middle;\n",
       "    }\n",
       "\n",
       "    .dataframe tbody tr th {\n",
       "        vertical-align: top;\n",
       "    }\n",
       "\n",
       "    .dataframe thead th {\n",
       "        text-align: right;\n",
       "    }\n",
       "</style>\n",
       "<table border=\"1\" class=\"dataframe\">\n",
       "  <thead>\n",
       "    <tr style=\"text-align: right;\">\n",
       "      <th></th>\n",
       "      <th>sci.space</th>\n",
       "      <th>soc.religion.christian</th>\n",
       "      <th>talk.politics.guns</th>\n",
       "      <th>total_occurrences</th>\n",
       "      <th>document_occurrences</th>\n",
       "    </tr>\n",
       "  </thead>\n",
       "  <tbody>\n",
       "    <tr>\n",
       "      <th>edu</th>\n",
       "      <td>85</td>\n",
       "      <td>99</td>\n",
       "      <td>97</td>\n",
       "      <td>281</td>\n",
       "      <td>30</td>\n",
       "    </tr>\n",
       "    <tr>\n",
       "      <th>cs</th>\n",
       "      <td>37</td>\n",
       "      <td>19</td>\n",
       "      <td>40</td>\n",
       "      <td>96</td>\n",
       "      <td>30</td>\n",
       "    </tr>\n",
       "    <tr>\n",
       "      <th>cmu</th>\n",
       "      <td>27</td>\n",
       "      <td>24</td>\n",
       "      <td>29</td>\n",
       "      <td>80</td>\n",
       "      <td>30</td>\n",
       "    </tr>\n",
       "    <tr>\n",
       "      <th>com</th>\n",
       "      <td>23</td>\n",
       "      <td>10</td>\n",
       "      <td>37</td>\n",
       "      <td>70</td>\n",
       "      <td>23</td>\n",
       "    </tr>\n",
       "    <tr>\n",
       "      <th>christian</th>\n",
       "      <td>0</td>\n",
       "      <td>64</td>\n",
       "      <td>0</td>\n",
       "      <td>64</td>\n",
       "      <td>10</td>\n",
       "    </tr>\n",
       "    <tr>\n",
       "      <th>...</th>\n",
       "      <td>...</td>\n",
       "      <td>...</td>\n",
       "      <td>...</td>\n",
       "      <td>...</td>\n",
       "      <td>...</td>\n",
       "    </tr>\n",
       "    <tr>\n",
       "      <th>glen</th>\n",
       "      <td>1</td>\n",
       "      <td>0</td>\n",
       "      <td>0</td>\n",
       "      <td>1</td>\n",
       "      <td>1</td>\n",
       "    </tr>\n",
       "    <tr>\n",
       "      <th>glad</th>\n",
       "      <td>0</td>\n",
       "      <td>1</td>\n",
       "      <td>0</td>\n",
       "      <td>1</td>\n",
       "      <td>1</td>\n",
       "    </tr>\n",
       "    <tr>\n",
       "      <th>giss</th>\n",
       "      <td>1</td>\n",
       "      <td>0</td>\n",
       "      <td>0</td>\n",
       "      <td>1</td>\n",
       "      <td>1</td>\n",
       "    </tr>\n",
       "    <tr>\n",
       "      <th>girl</th>\n",
       "      <td>0</td>\n",
       "      <td>0</td>\n",
       "      <td>1</td>\n",
       "      <td>1</td>\n",
       "      <td>1</td>\n",
       "    </tr>\n",
       "    <tr>\n",
       "      <th>zoolog</th>\n",
       "      <td>1</td>\n",
       "      <td>0</td>\n",
       "      <td>0</td>\n",
       "      <td>1</td>\n",
       "      <td>1</td>\n",
       "    </tr>\n",
       "  </tbody>\n",
       "</table>\n",
       "<p>2950 rows × 5 columns</p>\n",
       "</div>"
      ],
      "text/plain": [
       "           sci.space  soc.religion.christian  talk.politics.guns  \\\n",
       "edu               85                      99                  97   \n",
       "cs                37                      19                  40   \n",
       "cmu               27                      24                  29   \n",
       "com               23                      10                  37   \n",
       "christian          0                      64                   0   \n",
       "...              ...                     ...                 ...   \n",
       "glen               1                       0                   0   \n",
       "glad               0                       1                   0   \n",
       "giss               1                       0                   0   \n",
       "girl               0                       0                   1   \n",
       "zoolog             1                       0                   0   \n",
       "\n",
       "           total_occurrences  document_occurrences  \n",
       "edu                      281                    30  \n",
       "cs                        96                    30  \n",
       "cmu                       80                    30  \n",
       "com                       70                    23  \n",
       "christian                 64                    10  \n",
       "...                      ...                   ...  \n",
       "glen                       1                     1  \n",
       "glad                       1                     1  \n",
       "giss                       1                     1  \n",
       "girl                       1                     1  \n",
       "zoolog                     1                     1  \n",
       "\n",
       "[2950 rows x 5 columns]"
      ]
     },
     "metadata": {},
     "output_type": "display_data"
    }
   ],
   "source": [
    "count_vectorizer = CountVectorizer(tokenizer=tokenize)\n",
    "count_matrix = count_vectorizer.fit_transform(corpus_30_docs.data)\n",
    "\n",
    "word_list = generate_word_list(count_matrix, corpus_30_docs.target, count_vectorizer.get_feature_names(), corpus_30_docs.target_names)\n",
    "display(word_list)"
   ]
  },
  {
   "cell_type": "markdown",
   "metadata": {
    "slideshow": {
     "slide_type": "subslide"
    }
   },
   "source": [
    "## Word2vec\n",
    "- all the previous document representations are sparse vetcors / matrices (many zero values)\n",
    "  - no document usually contains the whole vocabulary of all documents\n",
    "  - as tokens of the vocabulary are used as features, the number of feature is very high\n",
    "    - can be around 20,000 - 30,000 dimension/features\n",
    "    - requires classifiers which can deal with it\n",
    "    - or reduce the deatures space by pruning\n",
    "- another idea is to represent a word with a **dense vector** with only a few dimensions (usually around 300 dimensions)\n",
    "  - introduced in the paper [Efficient Estimation of Word Representations in Vector Space](https://arxiv.org/abs/1301.3781)\n",
    "      - published in 2013\n",
    "      - also shown in the lecture\n",
    "- Word2vec can be training and used with [gensim](https://radimrehurek.com/gensim/)\n",
    "  - a library for topic modelling"
   ]
  },
  {
   "cell_type": "code",
   "execution_count": 34,
   "metadata": {},
   "outputs": [
    {
     "name": "stdout",
     "output_type": "stream",
     "text": [
      "Collecting gensim\n",
      "  Downloading gensim-4.1.2-cp36-cp36m-win_amd64.whl (24.0 MB)\n",
      "Collecting smart-open>=1.8.1\n",
      "  Downloading smart_open-5.2.1-py3-none-any.whl (58 kB)\n",
      "Requirement already satisfied: dataclasses in c:\\users\\tobi1\\anaconda3\\envs\\dm1\\lib\\site-packages (from gensim) (0.8)\n",
      "Collecting Cython==0.29.23\n",
      "  Downloading Cython-0.29.23-cp36-cp36m-win_amd64.whl (1.6 MB)\n",
      "Requirement already satisfied: numpy>=1.17.0 in c:\\users\\tobi1\\anaconda3\\envs\\dm1\\lib\\site-packages (from gensim) (1.19.5)\n",
      "Requirement already satisfied: scipy>=0.18.1 in c:\\users\\tobi1\\anaconda3\\envs\\dm1\\lib\\site-packages (from gensim) (1.5.4)\n",
      "Installing collected packages: smart-open, Cython, gensim\n",
      "Successfully installed Cython-0.29.23 gensim-4.1.2 smart-open-5.2.1\n",
      "Note: you may need to restart the kernel to use updated packages.\n"
     ]
    },
    {
     "name": "stderr",
     "output_type": "stream",
     "text": [
      "WARNING: You are using pip version 21.2.4; however, version 21.3.1 is available.\n",
      "You should consider upgrading via the 'c:\\users\\tobi1\\anaconda3\\envs\\dm1\\python.exe -m pip install --upgrade pip' command.\n"
     ]
    }
   ],
   "source": [
    "# install gensim\n",
    "%pip install gensim"
   ]
  },
  {
   "cell_type": "markdown",
   "metadata": {
    "slideshow": {
     "slide_type": "subslide"
    }
   },
   "source": [
    "## Word2vec - Idea\n",
    "- the context of the word defines its meaning\n",
    "- following two examples   \n",
    "   - Hey, there is a hairy **kanz** eating something near the river\n",
    "   - He filled the **wannis** and we all drunk something out of it"
   ]
  },
  {
   "attachments": {
    "image-3.png": {
     "image/png": "[encoded data removed]"
    }
   },
   "cell_type": "markdown",
   "metadata": {
    "slideshow": {
     "slide_type": "subslide"
    }
   },
   "source": [
    "## Word2vec - Idea\n",
    "- the text itself is used a training data - no need for labeled dataset\n",
    "  - the word is represented by a vector of fixed size (in this example 2)\n",
    "- there are two training objectives\n",
    "  1. **CBOW** (**C**ontinuous **B**ag-**o**f-**W**ords Model)\n",
    "     - a neural network is trained to predict the current word given the context / neighbouring words \n",
    "![image-3.png](attachment:image-3.png)"
   ]
  },
  {
   "attachments": {
    "image-2.png": {
     "image/png": "[encoded data removed]"
    }
   },
   "cell_type": "markdown",
   "metadata": {
    "slideshow": {
     "slide_type": "subslide"
    }
   },
   "source": [
    "## Word2vec - Idea\n",
    "2. **Skip-gram** (Continuous Skip-gram Model)\n",
    "- predict the context / neighbouring words based on the current word\n",
    "  - this is called **Skip-gram** (Continuous Skip-gram Model)\n",
    "![image-2.png](attachment:image-2.png)"
   ]
  },
  {
   "cell_type": "markdown",
   "metadata": {
    "slideshow": {
     "slide_type": "subslide"
    }
   },
   "source": [
    "## Word2vec\n",
    "\n",
    "- getting vectors which can be used in NLP tasks require a training on large data\n",
    "  - thus so called \"pretrained\" models exists\n",
    "  - one of them is [`google-news-300`](https://code.google.com/archive/p/word2vec/)\n",
    "    - trained Google News (100 billion words)"
   ]
  },
  {
   "cell_type": "code",
   "execution_count": 38,
   "metadata": {},
   "outputs": [],
   "source": [
    "# this will download the model (which is 1.3 GB huge) - to change the target folder, execute the following two lines\n",
    "import os\n",
    "os.environ[\"GENSIM_DATA_DIR\"] = \"C:\\\\Uni_Lecture_DM\"\n",
    "\n",
    "import gensim.downloader\n",
    "word2vec_model = gensim.downloader.load('word2vec-google-news-300')\n"
   ]
  },
  {
   "cell_type": "markdown",
   "metadata": {
    "slideshow": {
     "slide_type": "subslide"
    }
   },
   "source": [
    "## Word2vec tasks\n",
    "- getting the embedding of a word can be achived through the index operation `[]`"
   ]
  },
  {
   "cell_type": "code",
   "execution_count": 39,
   "metadata": {},
   "outputs": [
    {
     "name": "stdout",
     "output_type": "stream",
     "text": [
      "[ 0.12597656  0.02978516  0.00860596  0.13964844 -0.02563477]\n"
     ]
    }
   ],
   "source": [
    "vec_king = word2vec_model['king'] # obtain vectors\n",
    "print(vec_king[:5])\n"
   ]
  },
  {
   "cell_type": "markdown",
   "metadata": {},
   "source": [
    "- you can also compare two words with each other"
   ]
  },
  {
   "cell_type": "code",
   "execution_count": 40,
   "metadata": {},
   "outputs": [
    {
     "name": "stdout",
     "output_type": "stream",
     "text": [
      "0.12479271\n",
      "0.49668232\n",
      "0.09670783\n"
     ]
    }
   ],
   "source": [
    "print(word2vec_model.similarity('data', 'mining'))\n",
    "print(word2vec_model.similarity('mining', 'drilling'))\n",
    "print(word2vec_model.similarity('mining', 'banana'))"
   ]
  },
  {
   "cell_type": "markdown",
   "metadata": {
    "slideshow": {
     "slide_type": "subslide"
    }
   },
   "source": [
    "## Word2vec tasks\n",
    "- or given multiple words, select the one which does fit to the others\n"
   ]
  },
  {
   "cell_type": "code",
   "execution_count": 41,
   "metadata": {},
   "outputs": [
    {
     "data": {
      "text/plain": [
       "'apple'"
      ]
     },
     "execution_count": 41,
     "metadata": {},
     "output_type": "execute_result"
    }
   ],
   "source": [
    "word2vec_model.doesnt_match(['introduction', 'main', 'conclusion', 'apple'])"
   ]
  },
  {
   "cell_type": "markdown",
   "metadata": {},
   "source": [
    "- given a word you can also query for most similar other words"
   ]
  },
  {
   "cell_type": "code",
   "execution_count": 42,
   "metadata": {
    "scrolled": true
   },
   "outputs": [
    {
     "data": {
      "text/plain": [
       "[('Data', 0.7262316942214966),\n",
       " ('datasets', 0.603030264377594),\n",
       " ('dataset', 0.5796631574630737),\n",
       " ('databases', 0.5450119972229004),\n",
       " ('statistics', 0.537885844707489)]"
      ]
     },
     "execution_count": 42,
     "metadata": {},
     "output_type": "execute_result"
    }
   ],
   "source": [
    "word2vec_model.most_similar(positive='data', topn=5)"
   ]
  },
  {
   "attachments": {
    "image-2.png": {
     "image/png": "[encoded data removed]"
    }
   },
   "cell_type": "markdown",
   "metadata": {
    "slideshow": {
     "slide_type": "subslide"
    }
   },
   "source": [
    "## Word2vec tasks\n",
    "- another task is called **word analogies**\n",
    "  - you define a kind of relation between two words and want to apply it to another word\n",
    "  - A to B is like X to ?\n",
    "  - a famous example: man to king is like woman to ?\n",
    "<div>\n",
    "<img src=\"attachment:image-2.png\" width=\"500\"/>\n",
    "</div>"
   ]
  },
  {
   "cell_type": "code",
   "execution_count": 43,
   "metadata": {},
   "outputs": [
    {
     "data": {
      "text/plain": [
       "[('queen', 0.7118193507194519),\n",
       " ('monarch', 0.6189674139022827),\n",
       " ('princess', 0.5902431011199951),\n",
       " ('crown_prince', 0.5499460697174072),\n",
       " ('prince', 0.5377321839332581),\n",
       " ('kings', 0.5236844420433044),\n",
       " ('Queen_Consort', 0.5235945582389832),\n",
       " ('queens', 0.5181134343147278),\n",
       " ('sultan', 0.5098593831062317),\n",
       " ('monarchy', 0.5087411999702454)]"
      ]
     },
     "execution_count": 43,
     "metadata": {},
     "output_type": "execute_result"
    }
   ],
   "source": [
    "word2vec_model.most_similar(positive=['woman', 'king'], negative=['man'])\n",
    "# apply man to king vector to woman"
   ]
  },
  {
   "cell_type": "markdown",
   "metadata": {},
   "source": [
    "## Word2vec tasks\n",
    "- to use it for predicion, you can for example use the vectors for each word and average them\n",
    "  - this is implemented by ourselves in the following cell"
   ]
  },
  {
   "cell_type": "code",
   "execution_count": 44,
   "metadata": {},
   "outputs": [],
   "source": [
    "from sklearn.base import TransformerMixin, BaseEstimator\n",
    "import numpy as np\n",
    "\n",
    "class Word2VecVectorizer(BaseEstimator, TransformerMixin):\n",
    "    \n",
    "    def __init__(self, model, tokenizer):\n",
    "        self.model = model\n",
    "        self.tokenizer = tokenizer\n",
    "    \n",
    "    def transform(self, X):\n",
    "        return_matrix = []\n",
    "        for doc in X:\n",
    "            mean_vector = np.zeros(self.model.vector_size)\n",
    "            count = 0\n",
    "            for word in self.tokenizer(doc):    \n",
    "                try:\n",
    "                    word_vector = self.model[word]\n",
    "                except KeyError as e:\n",
    "                    continue\n",
    "                count += 1\n",
    "                mean_vector = np.add(mean_vector, word_vector) #itterate over each word us average of emedding \n",
    "\n",
    "            return_matrix.append(mean_vector)\n",
    "        return np.array(return_matrix)\n",
    "\n",
    "    def fit(self, X, y=None, **fit_params):\n",
    "        return self"
   ]
  },
  {
   "cell_type": "code",
   "execution_count": 45,
   "metadata": {},
   "outputs": [
    {
     "data": {
      "text/plain": [
       "(30, 300)"
      ]
     },
     "metadata": {},
     "output_type": "display_data"
    },
    {
     "data": {
      "text/plain": [
       "array([[ -5.93856049,   2.99320316,   2.99622726, ...,  -6.91471863,\n",
       "         -7.44404602,  12.28089142],\n",
       "       [ -3.20137787,   1.36827946,   2.84358978, ...,  -5.09608459,\n",
       "         -6.5078125 ,   4.64342117],\n",
       "       [  5.60664368,   4.88203335,   9.46456528, ...,  -6.44226074,\n",
       "          1.79742432,   5.36285782],\n",
       "       ...,\n",
       "       [ -4.4887085 ,   1.9991312 ,   8.24886703, ...,  -7.47753906,\n",
       "         -4.79308701,   4.4306488 ],\n",
       "       [  9.54878616,   4.33182812,  18.54619217, ..., -14.18075848,\n",
       "         -0.89282227,  10.49032974],\n",
       "       [  6.0100708 ,  -0.86128426,  10.8448143 , ..., -15.39837646,\n",
       "         -5.78100586,   7.11032867]])"
      ]
     },
     "execution_count": 45,
     "metadata": {},
     "output_type": "execute_result"
    }
   ],
   "source": [
    "# apply it in a very similar way as other vectorizers\n",
    "word2vec_vectorizer = Word2VecVectorizer(model=word2vec_model, tokenizer=tokenize)\n",
    "word2vec_matrix = word2vec_vectorizer.fit_transform(corpus_30_docs.data)\n",
    "display(word2vec_matrix.shape)\n",
    "word2vec_matrix"
   ]
  },
  {
   "cell_type": "markdown",
   "metadata": {
    "slideshow": {
     "slide_type": "subslide"
    }
   },
   "source": [
    "## Transformer based models\n",
    "- differences to Word2Vec\n",
    "  - takes the **sequence of words** into account\n",
    "  - the embedding is dependent of the context words\n",
    "    - e.g. A bat is a kind of bird. He is playing with a cricket bat.\n",
    "    - the two instances of `bat` in the above example have different embeddings\n",
    "- corresponding paper: [Attention Is All You Need](https://arxiv.org/abs/1706.03762)\n",
    "- to use transformer based models in python easily, use the library called [`transformers`](https://huggingface.co/transformers/)"
   ]
  },
  {
   "cell_type": "code",
   "execution_count": 46,
   "metadata": {},
   "outputs": [
    {
     "name": "stdout",
     "output_type": "stream",
     "text": [
      "Collecting transformers\n",
      "  Downloading transformers-4.11.3-py3-none-any.whl (2.9 MB)\n",
      "Requirement already satisfied: dataclasses in c:\\users\\tobi1\\anaconda3\\envs\\dm1\\lib\\site-packages (from transformers) (0.8)\n",
      "Requirement already satisfied: numpy>=1.17 in c:\\users\\tobi1\\anaconda3\\envs\\dm1\\lib\\site-packages (from transformers) (1.19.5)\n",
      "Requirement already satisfied: requests in c:\\users\\tobi1\\anaconda3\\envs\\dm1\\lib\\site-packages (from transformers) (2.26.0)\n",
      "Collecting tokenizers<0.11,>=0.10.1\n",
      "  Downloading tokenizers-0.10.3-cp36-cp36m-win_amd64.whl (2.0 MB)\n",
      "Requirement already satisfied: tqdm>=4.27 in c:\\users\\tobi1\\anaconda3\\envs\\dm1\\lib\\site-packages (from transformers) (4.62.3)\n",
      "Requirement already satisfied: importlib-metadata in c:\\users\\tobi1\\anaconda3\\envs\\dm1\\lib\\site-packages (from transformers) (4.8.1)\n",
      "Collecting sacremoses\n",
      "  Downloading sacremoses-0.0.46-py3-none-any.whl (895 kB)\n",
      "Collecting filelock\n",
      "  Downloading filelock-3.3.1-py3-none-any.whl (9.7 kB)\n",
      "Requirement already satisfied: pyyaml>=5.1 in c:\\users\\tobi1\\anaconda3\\envs\\dm1\\lib\\site-packages (from transformers) (5.4.1)\n",
      "Requirement already satisfied: regex!=2019.12.17 in c:\\users\\tobi1\\anaconda3\\envs\\dm1\\lib\\site-packages (from transformers) (2021.10.23)\n",
      "Collecting huggingface-hub>=0.0.17\n",
      "  Downloading huggingface_hub-0.0.19-py3-none-any.whl (56 kB)\n",
      "Requirement already satisfied: packaging>=20.0 in c:\\users\\tobi1\\anaconda3\\envs\\dm1\\lib\\site-packages (from transformers) (21.0)\n",
      "Requirement already satisfied: typing-extensions in c:\\users\\tobi1\\anaconda3\\envs\\dm1\\lib\\site-packages (from huggingface-hub>=0.0.17->transformers) (3.10.0.2)\n",
      "Requirement already satisfied: pyparsing>=2.0.2 in c:\\users\\tobi1\\anaconda3\\envs\\dm1\\lib\\site-packages (from packaging>=20.0->transformers) (2.4.7)\n",
      "Requirement already satisfied: colorama in c:\\users\\tobi1\\anaconda3\\envs\\dm1\\lib\\site-packages (from tqdm>=4.27->transformers) (0.4.4)\n",
      "Requirement already satisfied: zipp>=0.5 in c:\\users\\tobi1\\anaconda3\\envs\\dm1\\lib\\site-packages (from importlib-metadata->transformers) (3.5.0)\n",
      "Requirement already satisfied: certifi>=2017.4.17 in c:\\users\\tobi1\\anaconda3\\envs\\dm1\\lib\\site-packages (from requests->transformers) (2021.5.30)\n",
      "Requirement already satisfied: urllib3<1.27,>=1.21.1 in c:\\users\\tobi1\\anaconda3\\envs\\dm1\\lib\\site-packages (from requests->transformers) (1.26.6)\n",
      "Requirement already satisfied: charset-normalizer~=2.0.0 in c:\\users\\tobi1\\anaconda3\\envs\\dm1\\lib\\site-packages (from requests->transformers) (2.0.4)\n",
      "Requirement already satisfied: idna<4,>=2.5 in c:\\users\\tobi1\\anaconda3\\envs\\dm1\\lib\\site-packages (from requests->transformers) (3.2)\n",
      "Requirement already satisfied: six in c:\\users\\tobi1\\anaconda3\\envs\\dm1\\lib\\site-packages (from sacremoses->transformers) (1.16.0)\n",
      "Requirement already satisfied: joblib in c:\\users\\tobi1\\anaconda3\\envs\\dm1\\lib\\site-packages (from sacremoses->transformers) (1.0.1)\n",
      "Requirement already satisfied: click in c:\\users\\tobi1\\anaconda3\\envs\\dm1\\lib\\site-packages (from sacremoses->transformers) (8.0.1)\n",
      "Installing collected packages: filelock, tokenizers, sacremoses, huggingface-hub, transformers\n",
      "Successfully installed filelock-3.3.1 huggingface-hub-0.0.19 sacremoses-0.0.46 tokenizers-0.10.3 transformers-4.11.3\n",
      "Note: you may need to restart the kernel to use updated packages.\n"
     ]
    }
   ],
   "source": [
    "# when pytorch or tensoflow is allready installed\n",
    "%pip install transformers\n",
    "\n",
    "# for CPU-support only (installs also pytorch)\n",
    "# %pip install transformers[torch]"
   ]
  },
  {
   "cell_type": "markdown",
   "metadata": {},
   "source": [
    "- there are also already trained models available in the [model hub](https://huggingface.co/models)\n",
    "  - they are automatically downloaded\n",
    "  - in case you want to change the default location (`~/.cache/huggingface/`), execute the following cell"
   ]
  },
  {
   "cell_type": "code",
   "execution_count": 54,
   "metadata": {},
   "outputs": [],
   "source": [
    "# import os\n",
    "os.environ[\"TRANSFORMERS_CACHE\"] = \"C:\\\\Uni_Lecture_DM\""
   ]
  },
  {
   "cell_type": "markdown",
   "metadata": {
    "slideshow": {
     "slide_type": "subslide"
    }
   },
   "source": [
    "## Transformers - Tasks\n",
    "\n",
    "- there are pretrained models for various tasks like\n",
    "  - [**Sequence Classification**](https://huggingface.co/transformers/task_summary.html#sequence-classification)\n",
    "  - [**Extractive Question Answering**](https://huggingface.co/transformers/task_summary.html#extractive-question-answering)\n",
    "  - [Language Modeling](https://huggingface.co/transformers/task_summary.html#language-modeling)\n",
    "  - [Text Generation](https://huggingface.co/transformers/task_summary.html#text-generation)\n",
    "  - [Named Entity Recognition](https://huggingface.co/transformers/task_summary.html#named-entity-recognition)\n",
    "  - [Summarization](https://huggingface.co/transformers/task_summary.html#summarization)\n",
    "  - [Translation](https://huggingface.co/transformers/task_summary.html#translation)\n",
    "  - Masked language modeling\n",
    "\n",
    "To easily run these tasks with some sample data, you can use the `pipeline` function"
   ]
  },
  {
   "cell_type": "markdown",
   "metadata": {},
   "source": [
    "## Transformers - Sequence Classification"
   ]
  },
  {
   "cell_type": "code",
   "execution_count": 48,
   "metadata": {},
   "outputs": [
    {
     "name": "stderr",
     "output_type": "stream",
     "text": [
      "No model was supplied, defaulted to distilbert-base-uncased-finetuned-sst-2-english (https://huggingface.co/distilbert-base-uncased-finetuned-sst-2-english)\n"
     ]
    },
    {
     "data": {
      "application/vnd.jupyter.widget-view+json": {
       "model_id": "2275e5c7de3d4a23811b200bdd73c880",
       "version_major": 2,
       "version_minor": 0
      },
      "text/plain": [
       "Downloading:   0%|          | 0.00/629 [00:00<?, ?B/s]"
      ]
     },
     "metadata": {},
     "output_type": "display_data"
    },
    {
     "data": {
      "application/vnd.jupyter.widget-view+json": {
       "model_id": "b5ff527975b44f398ef5477a83f4d36e",
       "version_major": 2,
       "version_minor": 0
      },
      "text/plain": [
       "Downloading:   0%|          | 0.00/255M [00:00<?, ?B/s]"
      ]
     },
     "metadata": {},
     "output_type": "display_data"
    },
    {
     "data": {
      "application/vnd.jupyter.widget-view+json": {
       "model_id": "d65fae856da84c90bec362f1a8956311",
       "version_major": 2,
       "version_minor": 0
      },
      "text/plain": [
       "Downloading:   0%|          | 0.00/48.0 [00:00<?, ?B/s]"
      ]
     },
     "metadata": {},
     "output_type": "display_data"
    },
    {
     "data": {
      "application/vnd.jupyter.widget-view+json": {
       "model_id": "949a675705fc451298ad454a6f70397e",
       "version_major": 2,
       "version_minor": 0
      },
      "text/plain": [
       "Downloading:   0%|          | 0.00/226k [00:00<?, ?B/s]"
      ]
     },
     "metadata": {},
     "output_type": "display_data"
    },
    {
     "data": {
      "text/plain": [
       "'label: NEGATIVE, with score: 0.9991'"
      ]
     },
     "metadata": {},
     "output_type": "display_data"
    }
   ],
   "source": [
    "# Sequence Classification\n",
    "from transformers import pipeline\n",
    "classifier = pipeline('sentiment-analysis')\n",
    "\n",
    "result = classifier(\"I hate you\")[0]\n",
    "display(f\"label: {result['label']}, with score: {result['score']:.4f}\")\n"
   ]
  },
  {
   "cell_type": "code",
   "execution_count": 49,
   "metadata": {},
   "outputs": [
    {
     "data": {
      "text/plain": [
       "'label: POSITIVE, with score: 0.9999'"
      ]
     },
     "metadata": {},
     "output_type": "display_data"
    }
   ],
   "source": [
    "result = classifier(\"I love you\")[0]\n",
    "display(f\"label: {result['label']}, with score: {result['score']:.4f}\")\n"
   ]
  },
  {
   "cell_type": "markdown",
   "metadata": {
    "slideshow": {
     "slide_type": "subslide"
    }
   },
   "source": [
    "## Transformers - Extractive Question Answering"
   ]
  },
  {
   "cell_type": "code",
   "execution_count": 50,
   "metadata": {},
   "outputs": [
    {
     "name": "stderr",
     "output_type": "stream",
     "text": [
      "No model was supplied, defaulted to distilbert-base-cased-distilled-squad (https://huggingface.co/distilbert-base-cased-distilled-squad)\n"
     ]
    },
    {
     "data": {
      "application/vnd.jupyter.widget-view+json": {
       "model_id": "44f15af8843541f0a624856c92dcaed9",
       "version_major": 2,
       "version_minor": 0
      },
      "text/plain": [
       "Downloading:   0%|          | 0.00/473 [00:00<?, ?B/s]"
      ]
     },
     "metadata": {},
     "output_type": "display_data"
    },
    {
     "data": {
      "application/vnd.jupyter.widget-view+json": {
       "model_id": "80d0e8e7377c458c9c7efacbd96a221d",
       "version_major": 2,
       "version_minor": 0
      },
      "text/plain": [
       "Downloading:   0%|          | 0.00/249M [00:00<?, ?B/s]"
      ]
     },
     "metadata": {},
     "output_type": "display_data"
    },
    {
     "data": {
      "application/vnd.jupyter.widget-view+json": {
       "model_id": "7fc75da5e1d84211a7af372c97f772a9",
       "version_major": 2,
       "version_minor": 0
      },
      "text/plain": [
       "Downloading:   0%|          | 0.00/29.0 [00:00<?, ?B/s]"
      ]
     },
     "metadata": {},
     "output_type": "display_data"
    },
    {
     "data": {
      "application/vnd.jupyter.widget-view+json": {
       "model_id": "d39deb318532485db451f0d0a98e7ad9",
       "version_major": 2,
       "version_minor": 0
      },
      "text/plain": [
       "Downloading:   0%|          | 0.00/208k [00:00<?, ?B/s]"
      ]
     },
     "metadata": {},
     "output_type": "display_data"
    },
    {
     "data": {
      "application/vnd.jupyter.widget-view+json": {
       "model_id": "4f1046dcf85b4c38956251b67c5bb3a7",
       "version_major": 2,
       "version_minor": 0
      },
      "text/plain": [
       "Downloading:   0%|          | 0.00/426k [00:00<?, ?B/s]"
      ]
     },
     "metadata": {},
     "output_type": "display_data"
    },
    {
     "data": {
      "text/plain": [
       "{'score': 0.5269609689712524, 'start': 252, 'end': 260, 'answer': 'over 32+'}"
      ]
     },
     "execution_count": 50,
     "metadata": {},
     "output_type": "execute_result"
    }
   ],
   "source": [
    "text = r\"\"\"Transformers (formerly known as pytorch-transformers and pytorch-pretrained-bert)\n",
    "provides general-purpose architectures (BERT, GPT-2, RoBERTa, XLM, DistilBert, XLNet…) \n",
    "for Natural Language Understanding (NLU) and Natural Language Generation (NLG) \n",
    "with over 32+ pretrained models in 100+ languages and deep interoperability between \n",
    "TensorFlow 2.0 and PyTorch.\"\"\".replace(\"\\n\", \"\") # based on https://huggingface.co/transformers/task_summary.html\n",
    "\n",
    "question_answerer = pipeline(\"question-answering\")\n",
    "question_answerer(question=\"How many pretrained models are available in Transformers?\", context=text)\n"
   ]
  },
  {
   "cell_type": "code",
   "execution_count": 51,
   "metadata": {},
   "outputs": [
    {
     "data": {
      "text/plain": [
       "{'score': 0.9512110948562622,\n",
       " 'start': 90,\n",
       " 'end': 119,\n",
       " 'answer': 'general-purpose architectures'}"
      ]
     },
     "execution_count": 51,
     "metadata": {},
     "output_type": "execute_result"
    }
   ],
   "source": [
    "question_answerer(question=\"What does Transformers provide?\", context=text)\n"
   ]
  },
  {
   "cell_type": "code",
   "execution_count": 52,
   "metadata": {},
   "outputs": [
    {
     "data": {
      "text/plain": [
       "{'score': 0.8400999307632446,\n",
       " 'start': 331,\n",
       " 'end': 357,\n",
       " 'answer': 'TensorFlow 2.0 and PyTorch'}"
      ]
     },
     "execution_count": 52,
     "metadata": {},
     "output_type": "execute_result"
    }
   ],
   "source": [
    "question_answerer(question=\"Transformers provides interoperability between which frameworks?\", context=text)\n"
   ]
  },
  {
   "cell_type": "markdown",
   "metadata": {
    "slideshow": {
     "slide_type": "subslide"
    }
   },
   "source": [
    "## Masked language modeling\n",
    "- it is possible to directly ask the model to fill in the slot"
   ]
  },
  {
   "cell_type": "code",
   "execution_count": 53,
   "metadata": {},
   "outputs": [
    {
     "name": "stderr",
     "output_type": "stream",
     "text": [
      "No model was supplied, defaulted to distilroberta-base (https://huggingface.co/distilroberta-base)\n"
     ]
    },
    {
     "data": {
      "application/vnd.jupyter.widget-view+json": {
       "model_id": "e7623c4bb8c946acabbb0837815a1b51",
       "version_major": 2,
       "version_minor": 0
      },
      "text/plain": [
       "Downloading:   0%|          | 0.00/480 [00:00<?, ?B/s]"
      ]
     },
     "metadata": {},
     "output_type": "display_data"
    },
    {
     "data": {
      "application/vnd.jupyter.widget-view+json": {
       "model_id": "e3ad14770c804ca590093916cde484e4",
       "version_major": 2,
       "version_minor": 0
      },
      "text/plain": [
       "Downloading:   0%|          | 0.00/316M [00:00<?, ?B/s]"
      ]
     },
     "metadata": {},
     "output_type": "display_data"
    },
    {
     "data": {
      "application/vnd.jupyter.widget-view+json": {
       "model_id": "212ef77e239e408c8313f2d09c5dc0de",
       "version_major": 2,
       "version_minor": 0
      },
      "text/plain": [
       "Downloading:   0%|          | 0.00/878k [00:00<?, ?B/s]"
      ]
     },
     "metadata": {},
     "output_type": "display_data"
    },
    {
     "data": {
      "application/vnd.jupyter.widget-view+json": {
       "model_id": "d767522de325415a87c3c09027afe3f7",
       "version_major": 2,
       "version_minor": 0
      },
      "text/plain": [
       "Downloading:   0%|          | 0.00/446k [00:00<?, ?B/s]"
      ]
     },
     "metadata": {},
     "output_type": "display_data"
    },
    {
     "data": {
      "application/vnd.jupyter.widget-view+json": {
       "model_id": "a937fbd4d7794b9cbf13b766aef34d73",
       "version_major": 2,
       "version_minor": 0
      },
      "text/plain": [
       "Downloading:   0%|          | 0.00/1.29M [00:00<?, ?B/s]"
      ]
     },
     "metadata": {},
     "output_type": "display_data"
    },
    {
     "data": {
      "text/plain": [
       "[{'sequence': 'Data mining is a method of extracting and discovering patterns in large data sets.',\n",
       "  'score': 0.29560691118240356,\n",
       "  'token': 5448,\n",
       "  'token_str': ' method'},\n",
       " {'sequence': 'Data mining is a way of extracting and discovering patterns in large data sets.',\n",
       "  'score': 0.21620669960975647,\n",
       "  'token': 169,\n",
       "  'token_str': ' way'},\n",
       " {'sequence': 'Data mining is a process of extracting and discovering patterns in large data sets.',\n",
       "  'score': 0.14909793436527252,\n",
       "  'token': 609,\n",
       "  'token_str': ' process'},\n",
       " {'sequence': 'Data mining is a means of extracting and discovering patterns in large data sets.',\n",
       "  'score': 0.13880659639835358,\n",
       "  'token': 839,\n",
       "  'token_str': ' means'},\n",
       " {'sequence': 'Data mining is a form of extracting and discovering patterns in large data sets.',\n",
       "  'score': 0.036164723336696625,\n",
       "  'token': 1026,\n",
       "  'token_str': ' form'}]"
      ]
     },
     "execution_count": 53,
     "metadata": {},
     "output_type": "execute_result"
    }
   ],
   "source": [
    "unmasker = pipeline(\"fill-mask\")\n",
    "unmasker(f\"Data mining is a {unmasker.tokenizer.mask_token} of extracting and discovering patterns in large data sets.\")"
   ]
  },
  {
   "cell_type": "markdown",
   "metadata": {},
   "source": [
    "## A closer look into the details for sequence classification\n",
    "based on https://huggingface.co/transformers/task_summary.html#sequence-classification"
   ]
  },
  {
   "cell_type": "code",
   "execution_count": 55,
   "metadata": {
    "scrolled": true
   },
   "outputs": [
    {
     "data": {
      "application/vnd.jupyter.widget-view+json": {
       "model_id": "ec6295bd00f04b75bf8810bf5f6ece1e",
       "version_major": 2,
       "version_minor": 0
      },
      "text/plain": [
       "Downloading:   0%|          | 0.00/29.0 [00:00<?, ?B/s]"
      ]
     },
     "metadata": {},
     "output_type": "display_data"
    },
    {
     "data": {
      "application/vnd.jupyter.widget-view+json": {
       "model_id": "30ed4ad467bc48e4a80db7251f10be5d",
       "version_major": 2,
       "version_minor": 0
      },
      "text/plain": [
       "Downloading:   0%|          | 0.00/433 [00:00<?, ?B/s]"
      ]
     },
     "metadata": {},
     "output_type": "display_data"
    },
    {
     "data": {
      "application/vnd.jupyter.widget-view+json": {
       "model_id": "cd5c3125ba4e44399c8f771124505a3a",
       "version_major": 2,
       "version_minor": 0
      },
      "text/plain": [
       "Downloading:   0%|          | 0.00/208k [00:00<?, ?B/s]"
      ]
     },
     "metadata": {},
     "output_type": "display_data"
    },
    {
     "data": {
      "application/vnd.jupyter.widget-view+json": {
       "model_id": "f3b5b4f0fd7749fab772216e2071d678",
       "version_major": 2,
       "version_minor": 0
      },
      "text/plain": [
       "Downloading:   0%|          | 0.00/426k [00:00<?, ?B/s]"
      ]
     },
     "metadata": {},
     "output_type": "display_data"
    },
    {
     "data": {
      "application/vnd.jupyter.widget-view+json": {
       "model_id": "81c386f2a7e346398304833bf5ac81e1",
       "version_major": 2,
       "version_minor": 0
      },
      "text/plain": [
       "Downloading:   0%|          | 0.00/413M [00:00<?, ?B/s]"
      ]
     },
     "metadata": {},
     "output_type": "display_data"
    },
    {
     "name": "stdout",
     "output_type": "stream",
     "text": [
      "This is a paraphrase:\n",
      "not paraphrase: 10%\n",
      "is paraphrase: 90%\n",
      "This is NOT a paraphrase:\n",
      "not paraphrase: 94%\n",
      "is paraphrase: 6%\n"
     ]
    }
   ],
   "source": [
    "from transformers import AutoTokenizer, AutoModelForSequenceClassification\n",
    "import torch\n",
    "\n",
    "# this is a model fine tuned for detecting paraphrases\n",
    "model_name = \"bert-base-cased-finetuned-mrpc\" \n",
    "\n",
    "tokenizer = AutoTokenizer.from_pretrained(model_name)\n",
    "model = AutoModelForSequenceClassification.from_pretrained(model_name)\n",
    "\n",
    "classes = [\"not paraphrase\", \"is paraphrase\"]\n",
    "\n",
    "sequence_0 = \"The company HuggingFace is based in New York City\"\n",
    "sequence_1 = \"Apples are especially bad for your health\"\n",
    "sequence_2 = \"HuggingFace's headquarters are situated in Manhattan\"\n",
    "\n",
    "# you do not need to tokenize the input yourself - the tokenizers comes with the model directly\n",
    "paraphrase = tokenizer(sequence_0, sequence_2, return_tensors=\"pt\")\n",
    "not_paraphrase = tokenizer(sequence_0, sequence_1, return_tensors=\"pt\")\n",
    "\n",
    "paraphrase_classification_logits = model(**paraphrase).logits\n",
    "not_paraphrase_classification_logits = model(**not_paraphrase).logits\n",
    "\n",
    "paraphrase_results = torch.softmax(paraphrase_classification_logits, dim=1).tolist()[0]\n",
    "not_paraphrase_results = torch.softmax(not_paraphrase_classification_logits, dim=1).tolist()[0]\n",
    "\n",
    "print(\"This is a paraphrase:\")\n",
    "for i in range(len(classes)):\n",
    "    print(f\"{classes[i]}: {int(round(paraphrase_results[i] * 100))}%\")\n",
    "\n",
    "print(\"This is NOT a paraphrase:\")\n",
    "for i in range(len(classes)):\n",
    "     print(f\"{classes[i]}: {int(round(not_paraphrase_results[i] * 100))}%\")"
   ]
  },
  {
   "cell_type": "code",
   "execution_count": 33,
   "metadata": {},
   "outputs": [
    {
     "data": {
      "application/vnd.jupyter.widget-view+json": {
       "model_id": "885ec265b0a649d58774b93ded7ca4ff",
       "version_major": 2,
       "version_minor": 0
      },
      "text/plain": [
       "HBox(children=(HTML(value='Downloading'), FloatProgress(value=0.0, max=409.0), HTML(value='')))"
      ]
     },
     "metadata": {},
     "output_type": "display_data"
    },
    {
     "name": "stdout",
     "output_type": "stream",
     "text": [
      "\n"
     ]
    },
    {
     "data": {
      "application/vnd.jupyter.widget-view+json": {
       "model_id": "025743d2a46a45b58e0c2d12e6b8fea9",
       "version_major": 2,
       "version_minor": 0
      },
      "text/plain": [
       "HBox(children=(HTML(value='Downloading'), FloatProgress(value=0.0, max=62747391.0), HTML(value='')))"
      ]
     },
     "metadata": {},
     "output_type": "display_data"
    },
    {
     "name": "stdout",
     "output_type": "stream",
     "text": [
      "\n"
     ]
    },
    {
     "name": "stderr",
     "output_type": "stream",
     "text": [
      "Some weights of the model checkpoint at huawei-noah/TinyBERT_General_4L_312D were not used when initializing BertModel: ['fit_denses.3.weight', 'fit_denses.2.weight', 'cls.seq_relationship.weight', 'fit_denses.4.weight', 'fit_denses.1.bias', 'cls.predictions.bias', 'fit_denses.1.weight', 'cls.predictions.transform.LayerNorm.weight', 'fit_denses.4.bias', 'fit_denses.2.bias', 'cls.predictions.transform.dense.weight', 'cls.predictions.transform.LayerNorm.bias', 'cls.predictions.transform.dense.bias', 'fit_denses.0.bias', 'fit_denses.0.weight', 'cls.seq_relationship.bias', 'cls.predictions.decoder.weight', 'fit_denses.3.bias']\n",
      "- This IS expected if you are initializing BertModel from the checkpoint of a model trained on another task or with another architecture (e.g. initializing a BertForSequenceClassification model from a BertForPreTraining model).\n",
      "- This IS NOT expected if you are initializing BertModel from the checkpoint of a model that you expect to be exactly identical (initializing a BertForSequenceClassification model from a BertForSequenceClassification model).\n"
     ]
    },
    {
     "data": {
      "application/vnd.jupyter.widget-view+json": {
       "model_id": "ea36b11e2a8541e4acdb1c80fe93d88f",
       "version_major": 2,
       "version_minor": 0
      },
      "text/plain": [
       "HBox(children=(HTML(value='Downloading'), FloatProgress(value=0.0, max=231508.0), HTML(value='')))"
      ]
     },
     "metadata": {},
     "output_type": "display_data"
    },
    {
     "name": "stdout",
     "output_type": "stream",
     "text": [
      "\n"
     ]
    },
    {
     "data": {
      "text/plain": [
       "(30, 312)"
      ]
     },
     "metadata": {},
     "output_type": "display_data"
    },
    {
     "data": {
      "text/plain": [
       "array([[-0.22132593,  0.48229796,  0.34609634, ..., -0.21943335,\n",
       "        -0.40168598,  0.02375952],\n",
       "       [-0.00865531,  0.4925196 ,  0.21192214, ..., -0.17613658,\n",
       "        -0.36130357, -0.13788907],\n",
       "       [-0.28283894,  0.4302612 ,  0.13786253, ...,  0.06639766,\n",
       "        -0.3324021 , -0.07025055],\n",
       "       ...,\n",
       "       [-0.1931627 ,  0.40725052,  0.2777511 , ..., -0.06686439,\n",
       "        -0.27932414, -0.04545123],\n",
       "       [-0.22708623,  0.371966  ,  0.03357483, ...,  0.00458925,\n",
       "        -0.33285904, -0.19900586],\n",
       "       [-0.35937116,  0.42073113,  0.01456856, ...,  0.05189459,\n",
       "        -0.3703887 , -0.06655513]], dtype=float32)"
      ]
     },
     "execution_count": 33,
     "metadata": {},
     "output_type": "execute_result"
    }
   ],
   "source": [
    "import torch\n",
    "from transformers import AutoTokenizer, AutoModel\n",
    "from sklearn.base import TransformerMixin, BaseEstimator\n",
    "from sklearn.pipeline import Pipeline\n",
    "from sklearn.model_selection import GridSearchCV\n",
    "\n",
    "class BertVectorizer(BaseEstimator, TransformerMixin):\n",
    "    \n",
    "    def __init__(self, model, tokenizer, use_cls=False):\n",
    "        self.model = model\n",
    "        self.tokenizer = tokenizer\n",
    "        self.use_cls = use_cls\n",
    "    \n",
    "    def bert_mean_pooling(self, model_output, attention_mask):\n",
    "        token_embeddings = model_output[0] #First element of model_output contains all token embeddings\n",
    "        input_mask_expanded = attention_mask.unsqueeze(-1).expand(token_embeddings.size()).float()\n",
    "        return torch.sum(token_embeddings * input_mask_expanded, 1) / torch.clamp(input_mask_expanded.sum(1), min=1e-9)\n",
    "\n",
    "    def transform(self, X):\n",
    "        \n",
    "        return_matrix = []\n",
    "        \n",
    "        for doc in X:\n",
    "            tokenized = self.tokenizer(doc, padding=True, truncation=True, max_length=512, return_tensors='pt')\n",
    "            \n",
    "            self.model.eval()\n",
    "            with torch.no_grad():\n",
    "                output = self.model(tokenized['input_ids'])\n",
    "            if self.use_cls:\n",
    "                return_matrix.append(output[1].squeeze(0).numpy())\n",
    "            else:\n",
    "                mean_pooled = self.bert_mean_pooling(output, tokenized['attention_mask'])\n",
    "                return_matrix.append(mean_pooled.squeeze(0).numpy())\n",
    "            \n",
    "        return np.array(return_matrix)\n",
    "\n",
    "    def fit(self, X, y=None, **fit_params):\n",
    "        return self\n",
    "\n",
    "bert_model = AutoModel.from_pretrained('huawei-noah/TinyBERT_General_4L_312D')\n",
    "bert_tokenizer = AutoTokenizer.from_pretrained('huawei-noah/TinyBERT_General_4L_312D')\n",
    "\n",
    "bert_vectorizer = BertVectorizer(model=bert_model, tokenizer=bert_tokenizer, use_cls=False)\n",
    "\n",
    "bert_matrix = bert_vectorizer.fit_transform(corpus_30_docs.data)\n",
    "display(bert_matrix.shape)\n",
    "bert_matrix"
   ]
  },
  {
   "attachments": {
    "image.png": {
     "image/png": "[encoded data removed]"
    }
   },
   "cell_type": "markdown",
   "metadata": {},
   "source": [
    "### Try it out yourself\n",
    "- Task 7.1.1\n",
    "![image.png](attachment:image.png)"
   ]
  }
 ],
 "metadata": {
  "celltoolbar": "Slideshow",
  "kernelspec": {
   "display_name": "Python 3",
   "language": "python",
   "name": "python3"
  },
  "language_info": {
   "codemirror_mode": {
    "name": "ipython",
    "version": 3
   },
   "file_extension": ".py",
   "mimetype": "text/x-python",
   "name": "python",
   "nbconvert_exporter": "python",
   "pygments_lexer": "ipython3",
   "version": "3.6.13"
  },
  "varInspector": {
   "cols": {
    "lenName": 16,
    "lenType": 16,
    "lenVar": 40
   },
   "kernels_config": {
    "python": {
     "delete_cmd_postfix": "",
     "delete_cmd_prefix": "del ",
     "library": "var_list.py",
     "varRefreshCmd": "print(var_dic_list())"
    },
    "r": {
     "delete_cmd_postfix": ") ",
     "delete_cmd_prefix": "rm(",
     "library": "var_list.r",
     "varRefreshCmd": "cat(var_dic_list()) "
    }
   },
   "types_to_exclude": [
    "module",
    "function",
    "builtin_function_or_method",
    "instance",
    "_Feature"
   ],
   "window_display": false
  }
 },
 "nbformat": 4,
 "nbformat_minor": 4
}
